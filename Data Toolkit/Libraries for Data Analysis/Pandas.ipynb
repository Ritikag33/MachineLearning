{
 "cells": [
  {
   "cell_type": "markdown",
   "id": "88724e0a",
   "metadata": {},
   "source": [
    "### Pandas"
   ]
  },
  {
   "cell_type": "code",
   "execution_count": 1,
   "id": "fa1623ea",
   "metadata": {},
   "outputs": [],
   "source": [
    "import numpy as np\n",
    "import pandas as pd"
   ]
  },
  {
   "cell_type": "markdown",
   "id": "2284ca59",
   "metadata": {},
   "source": [
    "### 1. Working with Pandas Series\n",
    "#### a) Creating Series\n",
    "Pandas Series is a one-dimensional labeled array capable of holding data of any type (integer, string, float, python objects, etc.). The axis labels are collectively called index. Labels need not be unique but must be a hashable type. The object supports both integer and label-based indexing and provides a host of methods for performing operations involving the index."
   ]
  },
  {
   "cell_type": "code",
   "execution_count": 2,
   "id": "e191cef8",
   "metadata": {},
   "outputs": [
    {
     "data": {
      "text/plain": [
       "'2.1.4'"
      ]
     },
     "execution_count": 2,
     "metadata": {},
     "output_type": "execute_result"
    }
   ],
   "source": [
    "pd.__version__"
   ]
  },
  {
   "cell_type": "markdown",
   "id": "6ea823ee",
   "metadata": {},
   "source": [
    "Series through list"
   ]
  },
  {
   "cell_type": "code",
   "execution_count": 3,
   "id": "2aaf2a53",
   "metadata": {},
   "outputs": [
    {
     "data": {
      "text/plain": [
       "0    1\n",
       "1    2\n",
       "2    3\n",
       "3    4\n",
       "4    5\n",
       "dtype: int64"
      ]
     },
     "execution_count": 3,
     "metadata": {},
     "output_type": "execute_result"
    }
   ],
   "source": [
    "lst = [1,2,3,4,5]\n",
    "pd.Series(lst) # Index:  Elements"
   ]
  },
  {
   "cell_type": "markdown",
   "id": "c8375389",
   "metadata": {},
   "source": [
    "Series through Numpy array"
   ]
  },
  {
   "cell_type": "code",
   "execution_count": 5,
   "id": "36d543d0",
   "metadata": {},
   "outputs": [
    {
     "data": {
      "text/plain": [
       "0    1\n",
       "1    2\n",
       "2    3\n",
       "3    4\n",
       "4    5\n",
       "dtype: int64"
      ]
     },
     "execution_count": 5,
     "metadata": {},
     "output_type": "execute_result"
    }
   ],
   "source": [
    "arr = np.array([1,2,3,4,5])\n",
    "pd.Series(arr)"
   ]
  },
  {
   "cell_type": "markdown",
   "id": "3cda9a98",
   "metadata": {},
   "source": [
    "Giving index from our own end"
   ]
  },
  {
   "cell_type": "code",
   "execution_count": 7,
   "id": "4af2231c",
   "metadata": {},
   "outputs": [
    {
     "data": {
      "text/plain": [
       "Isha      1\n",
       "Jaha      2\n",
       "Chavvi    3\n",
       "Mira      4\n",
       "dtype: int64"
      ]
     },
     "execution_count": 7,
     "metadata": {},
     "output_type": "execute_result"
    }
   ],
   "source": [
    "pd.Series(index=['Isha','Jaha','Chavvi','Mira'],data=[1,2,3,4])"
   ]
  },
  {
   "cell_type": "markdown",
   "id": "00a8ada0",
   "metadata": {},
   "source": [
    "Series through Dictionary values"
   ]
  },
  {
   "cell_type": "code",
   "execution_count": 9,
   "id": "58eb1db7",
   "metadata": {},
   "outputs": [
    {
     "data": {
      "text/plain": [
       "day_1     4000\n",
       "day_2     3000\n",
       "day_3    10000\n",
       "dtype: int64"
      ]
     },
     "execution_count": 9,
     "metadata": {},
     "output_type": "execute_result"
    }
   ],
   "source": [
    "steps = {'day_1':4000,'day_2':3000,'day_3':10000}\n",
    "pd.Series(steps)"
   ]
  },
  {
   "cell_type": "markdown",
   "id": "73f08060",
   "metadata": {},
   "source": [
    "#### Using repeat function along with creating a Series\n",
    "- Pandas Series.repeat() function repeat elements of a Series. It returns a new Series where each element of the current Series is repeated consecutively a given number of times."
   ]
  },
  {
   "cell_type": "code",
   "execution_count": 11,
   "id": "d65dd190",
   "metadata": {},
   "outputs": [
    {
     "data": {
      "text/plain": [
       "0    5\n",
       "0    5\n",
       "0    5\n",
       "0    5\n",
       "0    5\n",
       "0    5\n",
       "0    5\n",
       "dtype: int64"
      ]
     },
     "execution_count": 11,
     "metadata": {},
     "output_type": "execute_result"
    }
   ],
   "source": [
    "pd.Series(5).repeat(7) # Since it is repeating itself index is same"
   ]
  },
  {
   "cell_type": "markdown",
   "id": "0ae8c86c",
   "metadata": {},
   "source": [
    "we can use the reset function to make the index accurate"
   ]
  },
  {
   "cell_type": "code",
   "execution_count": 16,
   "id": "ea6d5e9f",
   "metadata": {},
   "outputs": [
    {
     "data": {
      "text/plain": [
       "0    5\n",
       "1    5\n",
       "2    5\n",
       "dtype: int64"
      ]
     },
     "execution_count": 16,
     "metadata": {},
     "output_type": "execute_result"
    }
   ],
   "source": [
    "pd.Series(5).repeat(3).reset_index(drop=True)"
   ]
  },
  {
   "cell_type": "markdown",
   "id": "322d1d83",
   "metadata": {},
   "source": [
    "This code indicates:\n",
    "- 10 should be repeated 5 times\n",
    "- 20 should be repeated 2 times"
   ]
  },
  {
   "cell_type": "code",
   "execution_count": 20,
   "id": "18316a08",
   "metadata": {},
   "outputs": [
    {
     "data": {
      "text/plain": [
       "0    10\n",
       "1    10\n",
       "2    10\n",
       "3    10\n",
       "4    10\n",
       "5    20\n",
       "6    20\n",
       "dtype: int64"
      ]
     },
     "execution_count": 20,
     "metadata": {},
     "output_type": "execute_result"
    }
   ],
   "source": [
    "s= pd.Series([10,20]).repeat([5,2]).reset_index(drop=True)\n",
    "s"
   ]
  },
  {
   "cell_type": "markdown",
   "id": "5df5fc0c",
   "metadata": {},
   "source": [
    "Accessing Elements"
   ]
  },
  {
   "cell_type": "code",
   "execution_count": 22,
   "id": "9b560618",
   "metadata": {},
   "outputs": [
    {
     "data": {
      "text/plain": [
       "10"
      ]
     },
     "execution_count": 22,
     "metadata": {},
     "output_type": "execute_result"
    }
   ],
   "source": [
    "s[0] # Element at index=0"
   ]
  },
  {
   "cell_type": "code",
   "execution_count": 23,
   "id": "3e7ffee5",
   "metadata": {},
   "outputs": [
    {
     "data": {
      "text/plain": [
       "20"
      ]
     },
     "execution_count": 23,
     "metadata": {},
     "output_type": "execute_result"
    }
   ],
   "source": [
    "s[5] # Returns element at index=5"
   ]
  },
  {
   "cell_type": "code",
   "execution_count": 24,
   "id": "304411ef",
   "metadata": {},
   "outputs": [
    {
     "data": {
      "text/plain": [
       "1    10\n",
       "2    10\n",
       "3    10\n",
       "dtype: int64"
      ]
     },
     "execution_count": 24,
     "metadata": {},
     "output_type": "execute_result"
    }
   ],
   "source": [
    "s[1:4] # Slicing"
   ]
  },
  {
   "cell_type": "code",
   "execution_count": 25,
   "id": "9e4518b0",
   "metadata": {},
   "outputs": [
    {
     "data": {
      "text/plain": [
       "1    10\n",
       "2    10\n",
       "3    10\n",
       "4    10\n",
       "5    20\n",
       "dtype: int64"
      ]
     },
     "execution_count": 25,
     "metadata": {},
     "output_type": "execute_result"
    }
   ],
   "source": [
    "s[1:-1] # Remove 1st and last index"
   ]
  },
  {
   "cell_type": "markdown",
   "id": "7cd16356",
   "metadata": {},
   "source": [
    "### b) Aggregate function on pandas Series\n",
    "Pandas Series.aggregate() function aggregate using one or more operations over the specified axis in the given series objec"
   ]
  },
  {
   "cell_type": "code",
   "execution_count": null,
   "id": "198319cd",
   "metadata": {},
   "outputs": [],
   "source": []
  },
  {
   "cell_type": "code",
   "execution_count": null,
   "id": "c9e1328e",
   "metadata": {},
   "outputs": [],
   "source": []
  },
  {
   "cell_type": "markdown",
   "id": "04bcf775",
   "metadata": {},
   "source": [
    "### c) Series absolute function\n",
    "Pandas Series.abs() method is used to get the absolute numeric value of each element in Series/DataFrame."
   ]
  },
  {
   "cell_type": "code",
   "execution_count": null,
   "id": "e21bde36",
   "metadata": {},
   "outputs": [],
   "source": []
  },
  {
   "cell_type": "markdown",
   "id": "e4566fac",
   "metadata": {},
   "source": [
    "### d) Appending Series\n",
    "* Pandas Series.append() function is used to concatenate two or more series object.\n",
    "\n",
    "* Syntax: Series.append(to_append, ignore_index=False, verify_integrity=False)\n",
    "\n",
    "* Parameter : to_append : Series or list/tuple of Series ignore_index : If True, do not use the index labels. verify_integrity : If True, raise Exception on creating index with duplicates"
   ]
  },
  {
   "cell_type": "code",
   "execution_count": null,
   "id": "9882e1fc",
   "metadata": {},
   "outputs": [],
   "source": []
  },
  {
   "cell_type": "markdown",
   "id": "78f9a1df",
   "metadata": {},
   "source": [
    "### e) Astype function\n",
    "Pandas astype() is the one of the most important methods. It is used to change data type of a series. When data frame is made from a csv file, the columns are imported and data type is set automatically which many times is not what it actually should have"
   ]
  },
  {
   "cell_type": "code",
   "execution_count": null,
   "id": "9b55cd09",
   "metadata": {},
   "outputs": [],
   "source": []
  },
  {
   "cell_type": "markdown",
   "id": "84278c10",
   "metadata": {},
   "source": [
    "### f) Between Function\n",
    "Pandas between() method is used on series to check which values lie between first and second argumen"
   ]
  },
  {
   "cell_type": "code",
   "execution_count": null,
   "id": "2ab646aa",
   "metadata": {},
   "outputs": [],
   "source": []
  },
  {
   "cell_type": "markdown",
   "id": "b2282a5b",
   "metadata": {},
   "source": [
    "### g) All strings functions can be used to extract or modify texts in a series\n",
    " \n",
    "-  Upper and Lower Function\n",
    "-  Len function\n",
    "-  Strip Function\n",
    "-  Split Function\n",
    "-  Contains Function\n",
    "-  Replace Function\n",
    "-  Count Function\n",
    "-  Startswith and Endswith Function\n",
    "-  Find Finction"
   ]
  },
  {
   "cell_type": "code",
   "execution_count": null,
   "id": "3be1f94a",
   "metadata": {},
   "outputs": [],
   "source": []
  },
  {
   "cell_type": "markdown",
   "id": "154e760e",
   "metadata": {},
   "source": [
    "### h) Converting a Series to List\n",
    "Pandas tolist() is used to convert a series to list. Initially the series is of type pandas.core.series."
   ]
  },
  {
   "cell_type": "code",
   "execution_count": null,
   "id": "4b6ec6e1",
   "metadata": {},
   "outputs": [],
   "source": []
  },
  {
   "cell_type": "markdown",
   "id": "16991d16",
   "metadata": {},
   "source": [
    "### 2. Detailed Coding Implementations on Pandas DataFrame\n",
    "Pandas DataFrame is two-dimensional size-mutable, potentially heterogeneous tabular data structure with labeled axes (rows and columns). A Data frame is a two-dimensional data structure, i.e., data is aligned in a tabular fashion in rows and columns. Pandas DataFrame consists of three principal components, the data, rows, and columns."
   ]
  },
  {
   "cell_type": "code",
   "execution_count": null,
   "id": "7bbff990",
   "metadata": {},
   "outputs": [],
   "source": []
  },
  {
   "cell_type": "markdown",
   "id": "a3d1daf4",
   "metadata": {},
   "source": [
    "#### a) Creating Data Frames\n",
    "- In the real world, a Pandas DataFrame will be created by loading the datasets from existing storage, storage can be SQL Database, CSV file, and Excel file. Pandas DataFrame can be created from the lists, dictionary, and from a list of dictionary etc. Dataframe can be created in different ways here are some ways by which we create a dataframe:\n",
    "\n",
    "- Creating a dataframe using List:\n",
    "DataFrame can be created using a single list or a list of lists."
   ]
  },
  {
   "cell_type": "code",
   "execution_count": null,
   "id": "0c1f739a",
   "metadata": {},
   "outputs": [],
   "source": []
  },
  {
   "cell_type": "markdown",
   "id": "fd0352f7",
   "metadata": {},
   "source": [
    "#### Creating DataFrame from dict of ndarray/lists:\n",
    "To create DataFrame from dict of narray/list, all the narray must be of same length. If index is passed then the length index should be equal to the length of arrays. If no index is passed, then by default, index will be range(n) where n is the array length."
   ]
  },
  {
   "cell_type": "code",
   "execution_count": null,
   "id": "e4ec49ad",
   "metadata": {},
   "outputs": [],
   "source": []
  },
  {
   "cell_type": "markdown",
   "id": "90023e10",
   "metadata": {},
   "source": [
    "- A Data frame is a two-dimensional data structure, i.e., data is aligned in a tabular fashion in rows and columns. We can perform basic operations on rows/columns like selecting, deleting, adding, and renaming.\n",
    "- Column Selection: In Order to select a column in Pandas DataFrame, we can either access the columns by calling them by their columns name."
   ]
  },
  {
   "cell_type": "code",
   "execution_count": null,
   "id": "7b02765a",
   "metadata": {},
   "outputs": [],
   "source": []
  },
  {
   "cell_type": "markdown",
   "id": "11ecc90f",
   "metadata": {},
   "source": [
    "### b) Slicing in DataFrames Using iloc and loc\n",
    "Pandas comprises many methods for its proper functioning. loc() and iloc() are one of those methods. These are used in slicing data from the Pandas DataFrame. They help in the convenient selection of data from the DataFrame in Python. They are used in filtering the data according to some conditions."
   ]
  },
  {
   "cell_type": "code",
   "execution_count": null,
   "id": "1745e625",
   "metadata": {},
   "outputs": [],
   "source": []
  },
  {
   "cell_type": "markdown",
   "id": "805f6329",
   "metadata": {},
   "source": [
    "#### Basic loc Operations\n",
    "Python loc() function The loc() function is label based data selecting method which means that we have to pass the name of the row or column which we want to select. This method includes the last element of the range passed in it, unlike iloc(). loc() can accept the boolean data unlike iloc(). Many operations can be performed using the loc() method like"
   ]
  },
  {
   "cell_type": "code",
   "execution_count": null,
   "id": "4e345124",
   "metadata": {},
   "outputs": [],
   "source": []
  },
  {
   "cell_type": "markdown",
   "id": "4dd829fc",
   "metadata": {},
   "source": [
    "#### Basic iloc Operations\n",
    "The iloc() function is an indexed-based selecting method which means that we have to pass an integer index in the method to select a specific row/column. This method does not include the last element of the range passed in it unlike loc(). iloc() does not accept the boolean data unlike loc()."
   ]
  },
  {
   "cell_type": "code",
   "execution_count": null,
   "id": "7afd5d12",
   "metadata": {},
   "outputs": [],
   "source": []
  },
  {
   "cell_type": "markdown",
   "id": "2bd7089b",
   "metadata": {},
   "source": [
    "### c) Slicing Using Conditions\n",
    "Using Conditions works with loc basically"
   ]
  },
  {
   "cell_type": "code",
   "execution_count": null,
   "id": "0018cd77",
   "metadata": {},
   "outputs": [],
   "source": []
  },
  {
   "cell_type": "markdown",
   "id": "3ace8a09",
   "metadata": {},
   "source": [
    "* So we could extract only those data for which the value is more than 20\n",
    "* For the columns we have used comma(,) to extract specifc columns which is 'three' and 'four' <br>\n",
    "Let's see another example"
   ]
  },
  {
   "cell_type": "code",
   "execution_count": null,
   "id": "b4d97d3d",
   "metadata": {},
   "outputs": [],
   "source": []
  }
 ],
 "metadata": {
  "kernelspec": {
   "display_name": "Python 3 (ipykernel)",
   "language": "python",
   "name": "python3"
  },
  "language_info": {
   "codemirror_mode": {
    "name": "ipython",
    "version": 3
   },
   "file_extension": ".py",
   "mimetype": "text/x-python",
   "name": "python",
   "nbconvert_exporter": "python",
   "pygments_lexer": "ipython3",
   "version": "3.11.5"
  }
 },
 "nbformat": 4,
 "nbformat_minor": 5
}
