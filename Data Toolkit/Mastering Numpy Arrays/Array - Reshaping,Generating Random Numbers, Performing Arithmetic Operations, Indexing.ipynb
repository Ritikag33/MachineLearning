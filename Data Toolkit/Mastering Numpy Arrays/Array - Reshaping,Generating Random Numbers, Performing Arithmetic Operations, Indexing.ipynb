{
 "cells": [
  {
   "cell_type": "markdown",
   "id": "4cb9d358",
   "metadata": {},
   "source": [
    "### Introduction to Arrays"
   ]
  },
  {
   "cell_type": "code",
   "execution_count": 1,
   "id": "582e64c0",
   "metadata": {},
   "outputs": [],
   "source": [
    "#pip : python package manager\n",
    "import numpy as np"
   ]
  },
  {
   "cell_type": "code",
   "execution_count": 2,
   "id": "513abfe7",
   "metadata": {},
   "outputs": [
    {
     "data": {
      "text/plain": [
       "<module 'numpy' from '/Users/ritikagupta/anaconda3/lib/python3.11/site-packages/numpy/__init__.py'>"
      ]
     },
     "execution_count": 2,
     "metadata": {},
     "output_type": "execute_result"
    }
   ],
   "source": [
    "np"
   ]
  },
  {
   "cell_type": "code",
   "execution_count": 3,
   "id": "b777bd08",
   "metadata": {},
   "outputs": [],
   "source": [
    "# Creating a list\n",
    "lst = [1,2,3]"
   ]
  },
  {
   "cell_type": "code",
   "execution_count": 5,
   "id": "3ace4b3a",
   "metadata": {},
   "outputs": [
    {
     "data": {
      "text/plain": [
       "list"
      ]
     },
     "execution_count": 5,
     "metadata": {},
     "output_type": "execute_result"
    }
   ],
   "source": [
    "type(lst)"
   ]
  },
  {
   "cell_type": "code",
   "execution_count": 6,
   "id": "872e92a8",
   "metadata": {},
   "outputs": [],
   "source": [
    "# Converting list into array\n",
    "arr = np.array(lst)"
   ]
  },
  {
   "cell_type": "code",
   "execution_count": 7,
   "id": "8381a7bd",
   "metadata": {},
   "outputs": [
    {
     "data": {
      "text/plain": [
       "array([1, 2, 3])"
      ]
     },
     "execution_count": 7,
     "metadata": {},
     "output_type": "execute_result"
    }
   ],
   "source": [
    "arr"
   ]
  },
  {
   "cell_type": "code",
   "execution_count": 8,
   "id": "355afe60",
   "metadata": {},
   "outputs": [
    {
     "data": {
      "text/plain": [
       "numpy.ndarray"
      ]
     },
     "execution_count": 8,
     "metadata": {},
     "output_type": "execute_result"
    }
   ],
   "source": [
    "type(arr) # n-dimensional array"
   ]
  },
  {
   "cell_type": "code",
   "execution_count": 9,
   "id": "810bcf05",
   "metadata": {},
   "outputs": [
    {
     "data": {
      "text/plain": [
       "1"
      ]
     },
     "execution_count": 9,
     "metadata": {},
     "output_type": "execute_result"
    }
   ],
   "source": [
    "# Checking the dimension of array\n",
    "arr.ndim"
   ]
  },
  {
   "cell_type": "code",
   "execution_count": 14,
   "id": "defae4fe",
   "metadata": {},
   "outputs": [],
   "source": [
    "lst2 = [\n",
    "    [1,2,3],\n",
    "    [4,5,6],\n",
    "    [7,8,9]\n",
    "]"
   ]
  },
  {
   "cell_type": "code",
   "execution_count": 15,
   "id": "37ef7157",
   "metadata": {},
   "outputs": [],
   "source": [
    "arr2 = np.array(lst2)"
   ]
  },
  {
   "cell_type": "code",
   "execution_count": 17,
   "id": "67ae71b4",
   "metadata": {},
   "outputs": [
    {
     "data": {
      "text/plain": [
       "2"
      ]
     },
     "execution_count": 17,
     "metadata": {},
     "output_type": "execute_result"
    }
   ],
   "source": [
    "arr2.ndim"
   ]
  },
  {
   "cell_type": "code",
   "execution_count": 18,
   "id": "c673f575",
   "metadata": {},
   "outputs": [
    {
     "data": {
      "text/plain": [
       "(3, 3)"
      ]
     },
     "execution_count": 18,
     "metadata": {},
     "output_type": "execute_result"
    }
   ],
   "source": [
    "arr2.shape # no of rows and no of columns"
   ]
  },
  {
   "cell_type": "code",
   "execution_count": 19,
   "id": "0d76384b",
   "metadata": {},
   "outputs": [
    {
     "data": {
      "text/plain": [
       "9"
      ]
     },
     "execution_count": 19,
     "metadata": {},
     "output_type": "execute_result"
    }
   ],
   "source": [
    "arr2.size # Tells no. of elements in the array"
   ]
  },
  {
   "cell_type": "code",
   "execution_count": 20,
   "id": "898310b6",
   "metadata": {},
   "outputs": [
    {
     "data": {
      "text/plain": [
       "dtype('int64')"
      ]
     },
     "execution_count": 20,
     "metadata": {},
     "output_type": "execute_result"
    }
   ],
   "source": [
    "arr2.dtype # Data type of array"
   ]
  },
  {
   "cell_type": "code",
   "execution_count": 21,
   "id": "26f97a24",
   "metadata": {},
   "outputs": [],
   "source": [
    "# Creating an array of shape 3,5\n",
    "zeros = np.zeros((3,5))"
   ]
  },
  {
   "cell_type": "code",
   "execution_count": 22,
   "id": "f25836ba",
   "metadata": {},
   "outputs": [
    {
     "data": {
      "text/plain": [
       "array([[0., 0., 0., 0., 0.],\n",
       "       [0., 0., 0., 0., 0.],\n",
       "       [0., 0., 0., 0., 0.]])"
      ]
     },
     "execution_count": 22,
     "metadata": {},
     "output_type": "execute_result"
    }
   ],
   "source": [
    "zeros"
   ]
  },
  {
   "cell_type": "code",
   "execution_count": 23,
   "id": "d536ad0c",
   "metadata": {},
   "outputs": [],
   "source": [
    "ones = np.ones((6,3))"
   ]
  },
  {
   "cell_type": "code",
   "execution_count": 24,
   "id": "abd90565",
   "metadata": {},
   "outputs": [
    {
     "data": {
      "text/plain": [
       "array([[1., 1., 1.],\n",
       "       [1., 1., 1.],\n",
       "       [1., 1., 1.],\n",
       "       [1., 1., 1.],\n",
       "       [1., 1., 1.],\n",
       "       [1., 1., 1.]])"
      ]
     },
     "execution_count": 24,
     "metadata": {},
     "output_type": "execute_result"
    }
   ],
   "source": [
    "ones"
   ]
  },
  {
   "cell_type": "markdown",
   "id": "406b97d8",
   "metadata": {},
   "source": [
    "### Reshape and Random Number Generator"
   ]
  },
  {
   "cell_type": "code",
   "execution_count": 25,
   "id": "dbcd95f4",
   "metadata": {},
   "outputs": [
    {
     "data": {
      "text/plain": [
       "array([[0.49698721, 0.18745982, 0.50736219],\n",
       "       [0.08091108, 0.52434463, 0.71076982],\n",
       "       [0.43486865, 0.92771014, 0.66501452]])"
      ]
     },
     "execution_count": 25,
     "metadata": {},
     "output_type": "execute_result"
    }
   ],
   "source": [
    "# Generating random numbers\n",
    "# An array of size 3*3\n",
    "# Range : 0 to 1\n",
    "np.random.random((3,3))"
   ]
  },
  {
   "cell_type": "code",
   "execution_count": 26,
   "id": "0c85a847",
   "metadata": {},
   "outputs": [
    {
     "name": "stdout",
     "output_type": "stream",
     "text": [
      "Don't run the function\n"
     ]
    }
   ],
   "source": [
    "if np.random.random() > 0.5:\n",
    "    print(\"Run the function\")\n",
    "else:\n",
    "    print(\"Don't run the function\")\n"
   ]
  },
  {
   "cell_type": "code",
   "execution_count": 28,
   "id": "8a719550",
   "metadata": {},
   "outputs": [
    {
     "data": {
      "text/plain": [
       "array([1, 4, 7])"
      ]
     },
     "execution_count": 28,
     "metadata": {},
     "output_type": "execute_result"
    }
   ],
   "source": [
    "# Generating numbers in a particular sequence\n",
    "np.arange(1,10,3) # 1:starting value, 10 : ending value+1,  3 : Diff btw 2 values"
   ]
  },
  {
   "cell_type": "code",
   "execution_count": 30,
   "id": "7a740b38",
   "metadata": {},
   "outputs": [
    {
     "data": {
      "text/plain": [
       "array([ 1.,  2.,  3.,  4.,  5.,  6.,  7.,  8.,  9., 10.])"
      ]
     },
     "execution_count": 30,
     "metadata": {},
     "output_type": "execute_result"
    }
   ],
   "source": [
    "np.linspace(1,10,10)"
   ]
  },
  {
   "cell_type": "code",
   "execution_count": 31,
   "id": "149ed523",
   "metadata": {},
   "outputs": [
    {
     "data": {
      "text/plain": [
       "array([1.        , 1.66666667, 2.33333333, 3.        , 3.66666667,\n",
       "       4.33333333, 5.        , 5.66666667, 6.33333333, 7.        ])"
      ]
     },
     "execution_count": 31,
     "metadata": {},
     "output_type": "execute_result"
    }
   ],
   "source": [
    "np.linspace(1,7,10) # return 10 values we want btw 1 & 7\n",
    "# All values should be equidistant from each other"
   ]
  },
  {
   "cell_type": "code",
   "execution_count": 32,
   "id": "23af8aeb",
   "metadata": {},
   "outputs": [
    {
     "data": {
      "text/plain": [
       "array([[0.28167747, 0.49305819, 0.26440924],\n",
       "       [0.13990376, 0.80279618, 0.0793476 ],\n",
       "       [0.79980237, 0.12679122, 0.2333444 ],\n",
       "       [0.87558946, 0.29569776, 0.26440588]])"
      ]
     },
     "execution_count": 32,
     "metadata": {},
     "output_type": "execute_result"
    }
   ],
   "source": [
    "arr3 = np.random.random((4,3))\n",
    "arr3"
   ]
  },
  {
   "cell_type": "markdown",
   "id": "0f8d1ad7",
   "metadata": {},
   "source": [
    "#### While reshaping an array , initial size of array = final size of array"
   ]
  },
  {
   "cell_type": "code",
   "execution_count": 36,
   "id": "74a792da",
   "metadata": {},
   "outputs": [
    {
     "data": {
      "text/plain": [
       "array([[0.28167747, 0.49305819, 0.26440924, 0.13990376],\n",
       "       [0.80279618, 0.0793476 , 0.79980237, 0.12679122],\n",
       "       [0.2333444 , 0.87558946, 0.29569776, 0.26440588]])"
      ]
     },
     "execution_count": 36,
     "metadata": {},
     "output_type": "execute_result"
    }
   ],
   "source": [
    "arr3 = np.reshape(arr3,(3,4))\n",
    "arr3"
   ]
  },
  {
   "cell_type": "code",
   "execution_count": 37,
   "id": "14f06c12",
   "metadata": {},
   "outputs": [
    {
     "data": {
      "text/plain": [
       "array([[0.28167747, 0.49305819],\n",
       "       [0.26440924, 0.13990376],\n",
       "       [0.80279618, 0.0793476 ],\n",
       "       [0.79980237, 0.12679122],\n",
       "       [0.2333444 , 0.87558946],\n",
       "       [0.29569776, 0.26440588]])"
      ]
     },
     "execution_count": 37,
     "metadata": {},
     "output_type": "execute_result"
    }
   ],
   "source": [
    "arr3 = np.reshape(arr3,(6,2)) \n",
    "arr3"
   ]
  },
  {
   "cell_type": "markdown",
   "id": "5e8e5a21",
   "metadata": {},
   "source": [
    "#### Flatten"
   ]
  },
  {
   "cell_type": "code",
   "execution_count": 41,
   "id": "04045296",
   "metadata": {},
   "outputs": [
    {
     "data": {
      "text/plain": [
       "array([0.28167747, 0.49305819, 0.26440924, 0.13990376, 0.80279618,\n",
       "       0.0793476 , 0.79980237, 0.12679122, 0.2333444 , 0.87558946,\n",
       "       0.29569776, 0.26440588])"
      ]
     },
     "execution_count": 41,
     "metadata": {},
     "output_type": "execute_result"
    }
   ],
   "source": [
    "# Converting into 1-D array\n",
    "arr3 = arr3.flatten()\n",
    "arr3"
   ]
  },
  {
   "cell_type": "code",
   "execution_count": 40,
   "id": "00972237",
   "metadata": {},
   "outputs": [
    {
     "data": {
      "text/plain": [
       "1"
      ]
     },
     "execution_count": 40,
     "metadata": {},
     "output_type": "execute_result"
    }
   ],
   "source": [
    "arr3.ndim"
   ]
  },
  {
   "cell_type": "markdown",
   "id": "18ec8160",
   "metadata": {},
   "source": [
    "### Performing Arithmetic Operations in an Array"
   ]
  },
  {
   "cell_type": "code",
   "execution_count": 42,
   "id": "0dbd496a",
   "metadata": {},
   "outputs": [
    {
     "data": {
      "text/plain": [
       "array([1, 2, 3, 4, 5, 6])"
      ]
     },
     "execution_count": 42,
     "metadata": {},
     "output_type": "execute_result"
    }
   ],
   "source": [
    "arr = np.array([1,2,3,4,5,6])\n",
    "arr"
   ]
  },
  {
   "cell_type": "code",
   "execution_count": 47,
   "id": "0e572a11",
   "metadata": {
    "scrolled": true
   },
   "outputs": [
    {
     "name": "stdout",
     "output_type": "stream",
     "text": [
      "[2 3 4 5 6 7]\n",
      "[0 1 2 3 4 5]\n",
      "[ 5 10 15 20 25 30]\n",
      "[0.5 1.  1.5 2.  2.5 3. ]\n",
      "[ 1  4  9 16 25 36]\n"
     ]
    }
   ],
   "source": [
    "# Adding elements to an array\n",
    "print(arr + 1)\n",
    "print(arr - 1)\n",
    "print(arr * 5)\n",
    "print(arr / 2)\n",
    "print(arr ** 2) # Squaring elements in array"
   ]
  },
  {
   "cell_type": "code",
   "execution_count": 51,
   "id": "099da4df",
   "metadata": {},
   "outputs": [
    {
     "name": "stdout",
     "output_type": "stream",
     "text": [
      "[3 4 5 6 7 8]\n",
      "[ 6  8 10 12 14 16]\n"
     ]
    }
   ],
   "source": [
    "arr += 1\n",
    "print(arr)\n",
    "arr *= 2 # every time the array is getting updated\n",
    "print(arr)"
   ]
  },
  {
   "cell_type": "code",
   "execution_count": 52,
   "id": "1676706d",
   "metadata": {},
   "outputs": [
    {
     "data": {
      "text/plain": [
       "16"
      ]
     },
     "execution_count": 52,
     "metadata": {},
     "output_type": "execute_result"
    }
   ],
   "source": [
    "# Finding maximum element of an array\n",
    "arr.max()"
   ]
  },
  {
   "cell_type": "code",
   "execution_count": 53,
   "id": "edb7f310",
   "metadata": {},
   "outputs": [
    {
     "data": {
      "text/plain": [
       "6"
      ]
     },
     "execution_count": 53,
     "metadata": {},
     "output_type": "execute_result"
    }
   ],
   "source": [
    "# Finding minimum element of an array\n",
    "arr.min()"
   ]
  },
  {
   "cell_type": "code",
   "execution_count": 55,
   "id": "59bcff9d",
   "metadata": {},
   "outputs": [
    {
     "data": {
      "text/plain": [
       "array([[1, 2, 3],\n",
       "       [4, 5, 6],\n",
       "       [7, 8, 9]])"
      ]
     },
     "execution_count": 55,
     "metadata": {},
     "output_type": "execute_result"
    }
   ],
   "source": [
    "arr = np.array([[1,2,3],\n",
    "               [4,5,6],\n",
    "               [7,8,9]])\n",
    "arr"
   ]
  },
  {
   "cell_type": "code",
   "execution_count": 56,
   "id": "414b09ae",
   "metadata": {},
   "outputs": [
    {
     "data": {
      "text/plain": [
       "array([7, 8, 9])"
      ]
     },
     "execution_count": 56,
     "metadata": {},
     "output_type": "execute_result"
    }
   ],
   "source": [
    "# Finding maximum element of an array row-wise and column-wise\n",
    "# Returning max element in each column\n",
    "arr.max(axis=0)"
   ]
  },
  {
   "cell_type": "code",
   "execution_count": 58,
   "id": "54354077",
   "metadata": {},
   "outputs": [
    {
     "data": {
      "text/plain": [
       "array([3, 6, 9])"
      ]
     },
     "execution_count": 58,
     "metadata": {},
     "output_type": "execute_result"
    }
   ],
   "source": [
    "# Returning max element in each row\n",
    "arr.max(axis=1)"
   ]
  },
  {
   "cell_type": "code",
   "execution_count": 59,
   "id": "c55cdca0",
   "metadata": {},
   "outputs": [
    {
     "data": {
      "text/plain": [
       "array([1, 2, 3])"
      ]
     },
     "execution_count": 59,
     "metadata": {},
     "output_type": "execute_result"
    }
   ],
   "source": [
    "# Returning min element in each column\n",
    "arr.min(axis=0)"
   ]
  },
  {
   "cell_type": "code",
   "execution_count": 60,
   "id": "e9bd995c",
   "metadata": {},
   "outputs": [
    {
     "data": {
      "text/plain": [
       "array([1, 4, 7])"
      ]
     },
     "execution_count": 60,
     "metadata": {},
     "output_type": "execute_result"
    }
   ],
   "source": [
    "# Returning min element in each row\n",
    "arr.min(axis=1)"
   ]
  },
  {
   "cell_type": "code",
   "execution_count": 61,
   "id": "6de1d043",
   "metadata": {},
   "outputs": [
    {
     "data": {
      "text/plain": [
       "45"
      ]
     },
     "execution_count": 61,
     "metadata": {},
     "output_type": "execute_result"
    }
   ],
   "source": [
    "# Finding sum of all elements in array\n",
    "arr.sum()"
   ]
  },
  {
   "cell_type": "markdown",
   "id": "408b1f28",
   "metadata": {},
   "source": [
    "### Performing Arithmetic Operation on Multiple Arrays"
   ]
  },
  {
   "cell_type": "code",
   "execution_count": 66,
   "id": "f7996f64",
   "metadata": {},
   "outputs": [],
   "source": [
    "arr1 = np.array([[1,2,3],\n",
    "               [4,5,6],\n",
    "               [7,8,9]])\n",
    "\n",
    "arr2 = np.array([[9,8,7],\n",
    "                [6,5,4],\n",
    "                [3,2,1]])\n",
    "\n",
    "arr3 = np.array([[9,8,7,1],\n",
    "                [6,5,4,7],\n",
    "                [3,2,1,5]])"
   ]
  },
  {
   "cell_type": "code",
   "execution_count": 67,
   "id": "753d24d4",
   "metadata": {},
   "outputs": [
    {
     "data": {
      "text/plain": [
       "array([[1, 2, 3],\n",
       "       [4, 5, 6],\n",
       "       [7, 8, 9]])"
      ]
     },
     "execution_count": 67,
     "metadata": {},
     "output_type": "execute_result"
    }
   ],
   "source": [
    "arr1"
   ]
  },
  {
   "cell_type": "code",
   "execution_count": 68,
   "id": "a50970b4",
   "metadata": {},
   "outputs": [
    {
     "data": {
      "text/plain": [
       "array([[9, 8, 7],\n",
       "       [6, 5, 4],\n",
       "       [3, 2, 1]])"
      ]
     },
     "execution_count": 68,
     "metadata": {},
     "output_type": "execute_result"
    }
   ],
   "source": [
    "arr2"
   ]
  },
  {
   "cell_type": "code",
   "execution_count": 69,
   "id": "41ba9064",
   "metadata": {},
   "outputs": [
    {
     "data": {
      "text/plain": [
       "array([[10, 10, 10],\n",
       "       [10, 10, 10],\n",
       "       [10, 10, 10]])"
      ]
     },
     "execution_count": 69,
     "metadata": {},
     "output_type": "execute_result"
    }
   ],
   "source": [
    "# Adding 2 arrays\n",
    "# Both arrays should be of same shape\n",
    "arr1 + arr2"
   ]
  },
  {
   "cell_type": "code",
   "execution_count": 71,
   "id": "6a27fd11",
   "metadata": {},
   "outputs": [
    {
     "data": {
      "text/plain": [
       "array([[ 30,  24,  18],\n",
       "       [ 84,  69,  54],\n",
       "       [138, 114,  90]])"
      ]
     },
     "execution_count": 71,
     "metadata": {},
     "output_type": "execute_result"
    }
   ],
   "source": [
    "# Finding Dot Product of 2 arrays\n",
    "arr1.dot(arr2)"
   ]
  },
  {
   "cell_type": "code",
   "execution_count": 72,
   "id": "b86ca2ce",
   "metadata": {},
   "outputs": [
    {
     "data": {
      "text/plain": [
       "array([[ 90, 114, 138],\n",
       "       [ 54,  69,  84],\n",
       "       [ 18,  24,  30]])"
      ]
     },
     "execution_count": 72,
     "metadata": {},
     "output_type": "execute_result"
    }
   ],
   "source": [
    "arr2.dot(arr1)"
   ]
  },
  {
   "cell_type": "markdown",
   "id": "3cc274c4",
   "metadata": {},
   "source": [
    "### Indexing in an array"
   ]
  },
  {
   "cell_type": "code",
   "execution_count": 73,
   "id": "6c2adc68",
   "metadata": {},
   "outputs": [],
   "source": [
    "arr = np.array([1,2,3,4,5])"
   ]
  },
  {
   "cell_type": "code",
   "execution_count": 74,
   "id": "dcccd375",
   "metadata": {},
   "outputs": [
    {
     "data": {
      "text/plain": [
       "array([1, 2, 3, 4, 5])"
      ]
     },
     "execution_count": 74,
     "metadata": {},
     "output_type": "execute_result"
    }
   ],
   "source": [
    "# Accessing all elements of an array\n",
    "arr[:]"
   ]
  },
  {
   "cell_type": "code",
   "execution_count": 75,
   "id": "c4db0dc0",
   "metadata": {},
   "outputs": [
    {
     "data": {
      "text/plain": [
       "array([1, 2, 3])"
      ]
     },
     "execution_count": 75,
     "metadata": {},
     "output_type": "execute_result"
    }
   ],
   "source": [
    "arr[:3]"
   ]
  },
  {
   "cell_type": "code",
   "execution_count": 76,
   "id": "6724cf80",
   "metadata": {},
   "outputs": [
    {
     "data": {
      "text/plain": [
       "array([3, 4, 5])"
      ]
     },
     "execution_count": 76,
     "metadata": {},
     "output_type": "execute_result"
    }
   ],
   "source": [
    "arr[2:]"
   ]
  },
  {
   "cell_type": "code",
   "execution_count": 77,
   "id": "fa002276",
   "metadata": {},
   "outputs": [
    {
     "data": {
      "text/plain": [
       "array([3])"
      ]
     },
     "execution_count": 77,
     "metadata": {},
     "output_type": "execute_result"
    }
   ],
   "source": [
    "# Returns elements except 1st and last 2 elements\n",
    "arr[2:-2]"
   ]
  },
  {
   "cell_type": "code",
   "execution_count": 80,
   "id": "b4cff275",
   "metadata": {},
   "outputs": [
    {
     "data": {
      "text/plain": [
       "array([[1, 2, 3],\n",
       "       [4, 5, 6],\n",
       "       [7, 8, 9]])"
      ]
     },
     "execution_count": 80,
     "metadata": {},
     "output_type": "execute_result"
    }
   ],
   "source": [
    "arr1[:,:] # "
   ]
  },
  {
   "cell_type": "code",
   "execution_count": 81,
   "id": "a3c063ee",
   "metadata": {},
   "outputs": [
    {
     "data": {
      "text/plain": [
       "array([[1],\n",
       "       [4],\n",
       "       [7]])"
      ]
     },
     "execution_count": 81,
     "metadata": {},
     "output_type": "execute_result"
    }
   ],
   "source": [
    "arr1[:,:1] # Returns 1st columns all elements of 1st row"
   ]
  },
  {
   "cell_type": "code",
   "execution_count": 82,
   "id": "7af58d57",
   "metadata": {},
   "outputs": [
    {
     "data": {
      "text/plain": [
       "array([[1, 2, 3]])"
      ]
     },
     "execution_count": 82,
     "metadata": {},
     "output_type": "execute_result"
    }
   ],
   "source": [
    "arr1[:1,] # Returns 1st row all columns"
   ]
  },
  {
   "cell_type": "code",
   "execution_count": 84,
   "id": "f89b90c7",
   "metadata": {},
   "outputs": [
    {
     "data": {
      "text/plain": [
       "array([[1, 2, 3],\n",
       "       [4, 5, 6]])"
      ]
     },
     "execution_count": 84,
     "metadata": {},
     "output_type": "execute_result"
    }
   ],
   "source": [
    "arr1[:2,:] # Return all element of 1st 2 rows"
   ]
  },
  {
   "cell_type": "code",
   "execution_count": 85,
   "id": "45e12a46",
   "metadata": {},
   "outputs": [
    {
     "data": {
      "text/plain": [
       "array([[1],\n",
       "       [4],\n",
       "       [7]])"
      ]
     },
     "execution_count": 85,
     "metadata": {},
     "output_type": "execute_result"
    }
   ],
   "source": [
    "# Returns all elements of 1st column\n",
    "arr1[:,:1]"
   ]
  },
  {
   "cell_type": "code",
   "execution_count": 86,
   "id": "bf3ca8d3",
   "metadata": {},
   "outputs": [
    {
     "data": {
      "text/plain": [
       "array([[2],\n",
       "       [5],\n",
       "       [8]])"
      ]
     },
     "execution_count": 86,
     "metadata": {},
     "output_type": "execute_result"
    }
   ],
   "source": [
    "# Returns all elements of 2nd column\n",
    "arr1[:,1:2]"
   ]
  },
  {
   "cell_type": "code",
   "execution_count": 87,
   "id": "a442eb26",
   "metadata": {},
   "outputs": [
    {
     "data": {
      "text/plain": [
       "array([[5]])"
      ]
     },
     "execution_count": 87,
     "metadata": {},
     "output_type": "execute_result"
    }
   ],
   "source": [
    "# Print 5\n",
    "arr1[1:2,1:2]"
   ]
  },
  {
   "cell_type": "code",
   "execution_count": 88,
   "id": "99aa50b7",
   "metadata": {},
   "outputs": [
    {
     "data": {
      "text/plain": [
       "array([[5, 6],\n",
       "       [8, 9]])"
      ]
     },
     "execution_count": 88,
     "metadata": {},
     "output_type": "execute_result"
    }
   ],
   "source": [
    "# All rows except 1st row and all columns except 1st column\n",
    "arr1[1:,1:]"
   ]
  },
  {
   "cell_type": "code",
   "execution_count": null,
   "id": "b430ffc5",
   "metadata": {},
   "outputs": [],
   "source": []
  }
 ],
 "metadata": {
  "kernelspec": {
   "display_name": "Python 3 (ipykernel)",
   "language": "python",
   "name": "python3"
  },
  "language_info": {
   "codemirror_mode": {
    "name": "ipython",
    "version": 3
   },
   "file_extension": ".py",
   "mimetype": "text/x-python",
   "name": "python",
   "nbconvert_exporter": "python",
   "pygments_lexer": "ipython3",
   "version": "3.11.5"
  }
 },
 "nbformat": 4,
 "nbformat_minor": 5
}
