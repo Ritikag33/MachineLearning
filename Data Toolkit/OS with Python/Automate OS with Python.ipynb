{
 "cells": [
  {
   "cell_type": "markdown",
   "id": "6c8ae50b",
   "metadata": {},
   "source": [
    "### Automating OS with Python"
   ]
  },
  {
   "cell_type": "code",
   "execution_count": 1,
   "id": "89f8084b",
   "metadata": {},
   "outputs": [],
   "source": [
    "import os"
   ]
  },
  {
   "cell_type": "code",
   "execution_count": 3,
   "id": "711b46a9",
   "metadata": {},
   "outputs": [
    {
     "data": {
      "text/plain": [
       "'/Users/ritikagupta/Desktop/MachineLearning/Data Toolkit/OS with Python'"
      ]
     },
     "execution_count": 3,
     "metadata": {},
     "output_type": "execute_result"
    }
   ],
   "source": [
    "# Gives current working directory\n",
    "os.getcwd()"
   ]
  },
  {
   "cell_type": "code",
   "execution_count": 4,
   "id": "9c6fd08e",
   "metadata": {},
   "outputs": [
    {
     "data": {
      "text/plain": [
       "'/Users/ritikagupta/Desktop/MachineLearning/Data Toolkit/OS with Python'"
      ]
     },
     "execution_count": 4,
     "metadata": {},
     "output_type": "execute_result"
    }
   ],
   "source": [
    "pwd # Terminal command"
   ]
  },
  {
   "cell_type": "code",
   "execution_count": 9,
   "id": "1ba85255",
   "metadata": {},
   "outputs": [],
   "source": [
    "# Change current working directory\n",
    "os.chdir(\"test\")"
   ]
  },
  {
   "cell_type": "code",
   "execution_count": 10,
   "id": "3f99997d",
   "metadata": {},
   "outputs": [
    {
     "data": {
      "text/plain": [
       "'/Users/ritikagupta/Desktop/MachineLearning/Data Toolkit/OS with Python/test'"
      ]
     },
     "execution_count": 10,
     "metadata": {},
     "output_type": "execute_result"
    }
   ],
   "source": [
    "os.getcwd()"
   ]
  },
  {
   "cell_type": "code",
   "execution_count": 12,
   "id": "55fa600e",
   "metadata": {},
   "outputs": [],
   "source": [
    "# Go back to current working dir\n",
    "os.chdir('../')"
   ]
  },
  {
   "cell_type": "code",
   "execution_count": 13,
   "id": "6d641a95",
   "metadata": {},
   "outputs": [
    {
     "data": {
      "text/plain": [
       "'/Users/ritikagupta/Desktop/MachineLearning/Data Toolkit/OS with Python'"
      ]
     },
     "execution_count": 13,
     "metadata": {},
     "output_type": "execute_result"
    }
   ],
   "source": [
    "os.getcwd()"
   ]
  },
  {
   "cell_type": "code",
   "execution_count": 14,
   "id": "d472dadf",
   "metadata": {},
   "outputs": [],
   "source": [
    "# Creating a folder\n",
    "os.mkdir(\"GFG\")"
   ]
  },
  {
   "cell_type": "code",
   "execution_count": 16,
   "id": "0f773617",
   "metadata": {},
   "outputs": [],
   "source": [
    "# Creating multiple dirs\n",
    "os.makedirs(\"GFG/gfg/gfg\")"
   ]
  },
  {
   "cell_type": "code",
   "execution_count": 17,
   "id": "b3c97354",
   "metadata": {},
   "outputs": [
    {
     "data": {
      "text/plain": [
       "'GFG/gfg'"
      ]
     },
     "execution_count": 17,
     "metadata": {},
     "output_type": "execute_result"
    }
   ],
   "source": [
    "# Command to join path\n",
    "os.path.join(\"GFG\",\"gfg\")"
   ]
  },
  {
   "cell_type": "code",
   "execution_count": 20,
   "id": "d438b739",
   "metadata": {},
   "outputs": [],
   "source": [
    "# Deleting files\n",
    "os.remove('demo.txt')"
   ]
  },
  {
   "cell_type": "code",
   "execution_count": 22,
   "id": "124ccda4",
   "metadata": {},
   "outputs": [],
   "source": [
    "# Deleting a directory\n",
    "os.rmdir('GFG/gfg/GFG')"
   ]
  },
  {
   "cell_type": "code",
   "execution_count": 23,
   "id": "0f78df34",
   "metadata": {},
   "outputs": [],
   "source": [
    "os.rmdir('test')"
   ]
  },
  {
   "cell_type": "code",
   "execution_count": 24,
   "id": "582cc0a5",
   "metadata": {},
   "outputs": [],
   "source": [
    "os.rmdir('GFG/gfg')"
   ]
  },
  {
   "cell_type": "code",
   "execution_count": 25,
   "id": "93d623c9",
   "metadata": {},
   "outputs": [],
   "source": [
    "os.rmdir('GFG')"
   ]
  },
  {
   "cell_type": "markdown",
   "id": "2723f8d8",
   "metadata": {},
   "source": [
    "### Listing the files in current directory"
   ]
  },
  {
   "cell_type": "code",
   "execution_count": 26,
   "id": "16ce0b06",
   "metadata": {},
   "outputs": [
    {
     "data": {
      "text/plain": [
       "['Untitled.ipynb', '.ipynb_checkpoints']"
      ]
     },
     "execution_count": 26,
     "metadata": {},
     "output_type": "execute_result"
    }
   ],
   "source": [
    "os.listdir()"
   ]
  },
  {
   "cell_type": "code",
   "execution_count": 27,
   "id": "83ed018e",
   "metadata": {},
   "outputs": [],
   "source": [
    "os.mkdir(\"text\")"
   ]
  },
  {
   "cell_type": "code",
   "execution_count": 28,
   "id": "6fab6a8f",
   "metadata": {},
   "outputs": [
    {
     "data": {
      "text/plain": [
       "[]"
      ]
     },
     "execution_count": 28,
     "metadata": {},
     "output_type": "execute_result"
    }
   ],
   "source": [
    "# List no. of folders inside text\n",
    "os.listdir(\"text\")"
   ]
  },
  {
   "cell_type": "code",
   "execution_count": 29,
   "id": "c51c27ea",
   "metadata": {},
   "outputs": [],
   "source": [
    "os.mkdir(\"text/A\")\n",
    "os.mkdir(\"text/B\")"
   ]
  },
  {
   "cell_type": "code",
   "execution_count": 31,
   "id": "bd5daf3c",
   "metadata": {},
   "outputs": [
    {
     "name": "stdout",
     "output_type": "stream",
     "text": [
      "A\n",
      "B\n"
     ]
    }
   ],
   "source": [
    "# List folders inside text\n",
    "for i in os.listdir(\"text\"):\n",
    "    print(i)"
   ]
  },
  {
   "cell_type": "code",
   "execution_count": 32,
   "id": "0fb9f0da",
   "metadata": {},
   "outputs": [],
   "source": [
    "# Creating a file\n",
    "fd = open(\"file.txt\",\"w\")"
   ]
  },
  {
   "cell_type": "code",
   "execution_count": 33,
   "id": "ebd99909",
   "metadata": {},
   "outputs": [],
   "source": [
    "# Renaming a file\n",
    "os.rename(\"file.txt\",\"first.txt\")"
   ]
  },
  {
   "cell_type": "code",
   "execution_count": 34,
   "id": "8a2585ed",
   "metadata": {},
   "outputs": [],
   "source": [
    "# Removing a file\n",
    "os.remove(\"first.txt\")"
   ]
  },
  {
   "cell_type": "code",
   "execution_count": 38,
   "id": "426771be",
   "metadata": {},
   "outputs": [
    {
     "name": "stdout",
     "output_type": "stream",
     "text": [
      "True\n",
      "True\n",
      "False\n"
     ]
    }
   ],
   "source": [
    "# Check if particular dir exists \n",
    "print(os.path.exists(\"text\"))\n",
    "print(os.path.exists(\"text/A\"))\n",
    "print(os.path.exists(\"yoo\"))"
   ]
  },
  {
   "cell_type": "code",
   "execution_count": 39,
   "id": "8852afca",
   "metadata": {},
   "outputs": [],
   "source": [
    "if os.path.exists(\"text/C\"):\n",
    "    print(\"Folder already exists\")\n",
    "else:\n",
    "    os.mkdir(\"text/C\")"
   ]
  },
  {
   "cell_type": "code",
   "execution_count": 40,
   "id": "b0fb506c",
   "metadata": {},
   "outputs": [
    {
     "name": "stdout",
     "output_type": "stream",
     "text": [
      "Folder already exists\n"
     ]
    }
   ],
   "source": [
    "if os.path.exists(\"text/B\"):\n",
    "    print(\"Folder already exists\")\n",
    "else:\n",
    "    os.mkdir(\"text/B\")"
   ]
  },
  {
   "cell_type": "code",
   "execution_count": 43,
   "id": "5006e2ac",
   "metadata": {},
   "outputs": [
    {
     "data": {
      "text/plain": [
       "7447"
      ]
     },
     "execution_count": 43,
     "metadata": {},
     "output_type": "execute_result"
    }
   ],
   "source": [
    "os.path.getsize(\"Automate OS with Python.ipynb\") # Returns size in bytes"
   ]
  },
  {
   "cell_type": "markdown",
   "id": "451f495d",
   "metadata": {},
   "source": [
    "### Bulk Directories Creation"
   ]
  },
  {
   "cell_type": "code",
   "execution_count": 44,
   "id": "761fd43b",
   "metadata": {},
   "outputs": [],
   "source": [
    "os.mkdir(\"Bulk\")"
   ]
  },
  {
   "cell_type": "code",
   "execution_count": 48,
   "id": "8a9fe8c2",
   "metadata": {},
   "outputs": [],
   "source": [
    "for i in range(10):\n",
    "    name = \"Bulk/Folder\"+str(i+1)\n",
    "    os.mkdir(name)"
   ]
  },
  {
   "cell_type": "code",
   "execution_count": 49,
   "id": "27442c0e",
   "metadata": {},
   "outputs": [],
   "source": [
    "os.mkdir('GFG')"
   ]
  },
  {
   "cell_type": "code",
   "execution_count": 53,
   "id": "de5890cf",
   "metadata": {},
   "outputs": [],
   "source": [
    "# Creating 1000 folders inside a dir\n",
    "n = 'GFG'\n",
    "for i in range(1000):\n",
    "    name = n+'/'+n+\" \"+str(i+1)\n",
    "    os.mkdir(name)"
   ]
  },
  {
   "cell_type": "markdown",
   "id": "aa680d5c",
   "metadata": {},
   "source": [
    "### Hierarchical Bulk Directories Creation\n",
    "- GFG\n",
    "    - GFG 1\n",
    "        - GFG 1\n",
    "        - GFG 2\n",
    "        - GFG 3\n",
    "    - GFG 2\n",
    "        - GFG 1\n",
    "        - GFG 2\n",
    "        - GFG 3\n",
    "     - GFG 3\n",
    "        - GFG 1\n",
    "        - GFG 2\n",
    "        - GFG 3"
   ]
  },
  {
   "cell_type": "code",
   "execution_count": 64,
   "id": "e4b4c3cd",
   "metadata": {},
   "outputs": [
    {
     "name": "stdout",
     "output_type": "stream",
     "text": [
      "Total no. of folders created: 31\n"
     ]
    }
   ],
   "source": [
    "master = 'ritika'\n",
    "os.mkdir(master)\n",
    "n = 5\n",
    "m = 5\n",
    "for i in range(n):\n",
    "    name = master+'/'+master+\" \"+str(i+1)\n",
    "    os.mkdir(name)\n",
    "    \n",
    "    for j in range(m):\n",
    "        name = master+'/'+master+\" \"+str(i+1)+\"/\"+master+\" \"+str(j+1)\n",
    "        os.mkdir(name)\n",
    "        \n",
    "print(\"Total no. of folders created:\", n*m+n+1)"
   ]
  },
  {
   "cell_type": "markdown",
   "id": "1eb01839",
   "metadata": {},
   "source": [
    "### Bulk Text-file Reading"
   ]
  },
  {
   "cell_type": "code",
   "execution_count": 65,
   "id": "2f0d0df6",
   "metadata": {},
   "outputs": [],
   "source": [
    "os.mkdir(\"Files\")"
   ]
  },
  {
   "cell_type": "code",
   "execution_count": 66,
   "id": "c05813db",
   "metadata": {},
   "outputs": [],
   "source": [
    "fd = open(\"file1.txt\",\"w\")\n",
    "txt = \"This is file 1.\"\n",
    "fd.write(txt)\n",
    "fd.close()"
   ]
  },
  {
   "cell_type": "code",
   "execution_count": 67,
   "id": "6fbe773d",
   "metadata": {},
   "outputs": [],
   "source": [
    "os.chdir(\"Files\")"
   ]
  },
  {
   "cell_type": "code",
   "execution_count": 69,
   "id": "3cac27bd",
   "metadata": {},
   "outputs": [
    {
     "data": {
      "text/plain": [
       "'/Users/ritikagupta/Desktop/MachineLearning/Data Toolkit/OS with Python/Files'"
      ]
     },
     "execution_count": 69,
     "metadata": {},
     "output_type": "execute_result"
    }
   ],
   "source": [
    "os.getcwd()"
   ]
  },
  {
   "cell_type": "code",
   "execution_count": 70,
   "id": "f54c81b7",
   "metadata": {},
   "outputs": [],
   "source": [
    "fd = open(\"file2.txt\",\"w\")\n",
    "txt = \"This is file 2.\"\n",
    "fd.write(txt)\n",
    "fd.close()"
   ]
  },
  {
   "cell_type": "code",
   "execution_count": 71,
   "id": "b40d29d4",
   "metadata": {},
   "outputs": [],
   "source": [
    "fd = open(\"file3.txt\",\"w\")\n",
    "txt = \"This is file 3.\"\n",
    "fd.write(txt)\n",
    "fd.close()"
   ]
  },
  {
   "cell_type": "code",
   "execution_count": 73,
   "id": "ce945024",
   "metadata": {},
   "outputs": [],
   "source": [
    "fd = open(\"file4.txt\",\"w\")\n",
    "txt = \"This is file 4.\"\n",
    "fd.write(txt)\n",
    "fd.close()"
   ]
  },
  {
   "cell_type": "code",
   "execution_count": 74,
   "id": "649add38",
   "metadata": {},
   "outputs": [],
   "source": [
    "fd = open(\"file5.txt\",\"w\")\n",
    "txt = \"This is file 5.\"\n",
    "fd.write(txt)\n",
    "fd.close()"
   ]
  },
  {
   "cell_type": "code",
   "execution_count": 75,
   "id": "088042df",
   "metadata": {},
   "outputs": [
    {
     "data": {
      "text/plain": [
       "['file2.txt', 'file3.txt', 'file1.txt', 'file4.txt', 'file5.txt']"
      ]
     },
     "execution_count": 75,
     "metadata": {},
     "output_type": "execute_result"
    }
   ],
   "source": [
    "os.listdir()"
   ]
  },
  {
   "cell_type": "code",
   "execution_count": 79,
   "id": "7878edf2",
   "metadata": {},
   "outputs": [],
   "source": [
    "os.chdir(\"../\")"
   ]
  },
  {
   "cell_type": "code",
   "execution_count": 81,
   "id": "8f61d60a",
   "metadata": {},
   "outputs": [],
   "source": [
    "files = os.listdir(\"Files\")"
   ]
  },
  {
   "cell_type": "code",
   "execution_count": 82,
   "id": "c399e666",
   "metadata": {},
   "outputs": [
    {
     "data": {
      "text/plain": [
       "['file2.txt', 'file3.txt', 'file1.txt', 'file4.txt', 'file5.txt']"
      ]
     },
     "execution_count": 82,
     "metadata": {},
     "output_type": "execute_result"
    }
   ],
   "source": [
    "files"
   ]
  },
  {
   "cell_type": "code",
   "execution_count": 83,
   "id": "9373f443",
   "metadata": {},
   "outputs": [
    {
     "data": {
      "text/plain": [
       "5"
      ]
     },
     "execution_count": 83,
     "metadata": {},
     "output_type": "execute_result"
    }
   ],
   "source": [
    "len(files)"
   ]
  },
  {
   "cell_type": "code",
   "execution_count": 84,
   "id": "ead05508",
   "metadata": {},
   "outputs": [
    {
     "data": {
      "text/plain": [
       "list"
      ]
     },
     "execution_count": 84,
     "metadata": {},
     "output_type": "execute_result"
    }
   ],
   "source": [
    "type(files)"
   ]
  },
  {
   "cell_type": "code",
   "execution_count": 85,
   "id": "a49b4c8f",
   "metadata": {},
   "outputs": [
    {
     "name": "stdout",
     "output_type": "stream",
     "text": [
      "file2.txt\n",
      "file3.txt\n",
      "file1.txt\n",
      "file4.txt\n",
      "file5.txt\n"
     ]
    }
   ],
   "source": [
    "for i in files:\n",
    "    print(i)"
   ]
  },
  {
   "cell_type": "code",
   "execution_count": 91,
   "id": "956e34cb",
   "metadata": {},
   "outputs": [],
   "source": [
    "os.chdir(\"../\")"
   ]
  },
  {
   "cell_type": "markdown",
   "id": "32b2393c",
   "metadata": {},
   "source": [
    "### Bulk Text-file Data Combining"
   ]
  },
  {
   "cell_type": "code",
   "execution_count": 97,
   "id": "e5684cdb",
   "metadata": {},
   "outputs": [
    {
     "name": "stdout",
     "output_type": "stream",
     "text": [
      "Files/file2.txt \n",
      "Files/file3.txt \n",
      "Files/file1.txt \n",
      "Files/file4.txt \n",
      "Files/file5.txt \n"
     ]
    }
   ],
   "source": [
    "# Opening a new file Data.txt\n",
    "fd_write = open(\"Data.txt\",\"a\")\n",
    "# Loop through each file in Files folder\n",
    "for i in files:\n",
    "    fd_read = open(\"Files/\"+i,'r')\n",
    "    \n",
    "    fd_write.write(fd_read.read()+'\\n')\n",
    "  \n",
    "    print(\"Files/\"+i,fd_read.read())\n",
    "    fd_read.close()\n",
    "fd_write.close()"
   ]
  },
  {
   "cell_type": "code",
   "execution_count": 94,
   "id": "65f834af",
   "metadata": {},
   "outputs": [],
   "source": [
    "# Combining data in all text files and write data in new file\n",
    "fd = open(\"Data.txt\",\"a\")\n",
    "fd.write(\"Hello Person\\n\")\n",
    "fd.close()"
   ]
  },
  {
   "cell_type": "code",
   "execution_count": 100,
   "id": "28df0deb",
   "metadata": {},
   "outputs": [],
   "source": [
    "txt =''\n",
    "for i in files:\n",
    "    fd_read = open(\"Files/\"+i,'r')\n",
    "    txt += fd_read.read()\n",
    "    fd_read.close()"
   ]
  },
  {
   "cell_type": "code",
   "execution_count": 101,
   "id": "784bf87e",
   "metadata": {},
   "outputs": [
    {
     "data": {
      "text/plain": [
       "'This is file 2.This is file 3.This is file 1.This is file 4.This is file 5.'"
      ]
     },
     "execution_count": 101,
     "metadata": {},
     "output_type": "execute_result"
    }
   ],
   "source": [
    "txt"
   ]
  },
  {
   "cell_type": "code",
   "execution_count": 102,
   "id": "b64f8448",
   "metadata": {},
   "outputs": [
    {
     "name": "stdout",
     "output_type": "stream",
     "text": [
      "This is file 2.This is file 3.This is file 1.This is file 4.This is file 5.\n"
     ]
    }
   ],
   "source": [
    "print(txt)"
   ]
  },
  {
   "cell_type": "code",
   "execution_count": 103,
   "id": "2432deff",
   "metadata": {},
   "outputs": [
    {
     "data": {
      "text/plain": [
       "str"
      ]
     },
     "execution_count": 103,
     "metadata": {},
     "output_type": "execute_result"
    }
   ],
   "source": [
    "type(txt)"
   ]
  },
  {
   "cell_type": "code",
   "execution_count": 104,
   "id": "25d6be09",
   "metadata": {},
   "outputs": [],
   "source": [
    "fd_write = open(\"Data1.txt\",'a')\n",
    "fd_write.write(txt)\n",
    "fd_write.close()"
   ]
  },
  {
   "cell_type": "code",
   "execution_count": null,
   "id": "cbfe1f32",
   "metadata": {},
   "outputs": [],
   "source": []
  }
 ],
 "metadata": {
  "kernelspec": {
   "display_name": "Python 3 (ipykernel)",
   "language": "python",
   "name": "python3"
  },
  "language_info": {
   "codemirror_mode": {
    "name": "ipython",
    "version": 3
   },
   "file_extension": ".py",
   "mimetype": "text/x-python",
   "name": "python",
   "nbconvert_exporter": "python",
   "pygments_lexer": "ipython3",
   "version": "3.11.5"
  }
 },
 "nbformat": 4,
 "nbformat_minor": 5
}
