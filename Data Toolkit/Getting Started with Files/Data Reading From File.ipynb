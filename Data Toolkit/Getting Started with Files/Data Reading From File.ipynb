{
 "cells": [
  {
   "cell_type": "code",
   "execution_count": 2,
   "id": "0ecd4e59",
   "metadata": {},
   "outputs": [
    {
     "name": "stdout",
     "output_type": "stream",
     "text": [
      "Hello Everyone. What's up? Hope you are doing great:)\n"
     ]
    }
   ],
   "source": [
    "# Define the mode: Whether you want to read(r) or write(w) the data from the file\n",
    "# fd : file descriptor (reference to the file)\n",
    "fd = open('data.txt','r')\n",
    "txt = fd.read()\n",
    "print(txt)\n",
    "\n",
    "# Closing the file\n",
    "# Releasing the resources\n",
    "fd.close() # If you are not closing the file whatever you are writing will not be saved"
   ]
  },
  {
   "cell_type": "code",
   "execution_count": null,
   "id": "cdda119a",
   "metadata": {},
   "outputs": [],
   "source": []
  }
 ],
 "metadata": {
  "kernelspec": {
   "display_name": "Python 3 (ipykernel)",
   "language": "python",
   "name": "python3"
  },
  "language_info": {
   "codemirror_mode": {
    "name": "ipython",
    "version": 3
   },
   "file_extension": ".py",
   "mimetype": "text/x-python",
   "name": "python",
   "nbconvert_exporter": "python",
   "pygments_lexer": "ipython3",
   "version": "3.11.5"
  }
 },
 "nbformat": 4,
 "nbformat_minor": 5
}
