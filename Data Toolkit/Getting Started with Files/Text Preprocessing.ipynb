{
 "cells": [
  {
   "cell_type": "markdown",
   "id": "c5cbec78",
   "metadata": {},
   "source": [
    "### Text Preprocessing"
   ]
  },
  {
   "cell_type": "code",
   "execution_count": 1,
   "id": "57842574",
   "metadata": {},
   "outputs": [],
   "source": [
    "fd = open('corpus.txt','r')\n",
    "txt = fd.read()\n",
    "fd.close()"
   ]
  },
  {
   "cell_type": "code",
   "execution_count": 2,
   "id": "5605fb59",
   "metadata": {},
   "outputs": [
    {
     "data": {
      "text/plain": [
       "\"Chocolate or cocoa is a food made from roasted and ground cacao seed kernels that is available as a liquid, solid, or paste, either on its own or as a flavoring agent in other foods. Cacao has been consumed in some form since at least the Olmec civilization (19th–11th century BCE),[1][2] and later Mesoamerican civilizations also consumed chocolate beverages before being introduced to Europe in the 16th century.[3]\\n\\nThe seeds of the cacao tree have an intense bitter taste and must be fermented to develop the flavor. After fermentation, the seeds are dried, cleaned, and roasted. The shell is removed to produce cocoa nibs, which are then ground to cocoa mass, unadulterated chocolate in rough form. Once the cocoa mass is liquefied by heating, it is called chocolate liquor. The liquor may also be cooled and processed into its two components: cocoa solids and cocoa butter. Baking chocolate, also called bitter chocolate, contains cocoa solids and cocoa butter in varying proportions without any added sugar. Powdered baking cocoa, which contains more fiber than cocoa butter, can be processed with alkali to produce Dutch cocoa. Much of the chocolate consumed today is in the form of sweet chocolate, a combination of cocoa solids, cocoa butter, or added vegetable oils and sugar. Milk chocolate is sweet chocolate that additionally contains milk powder or condensed milk. White chocolate contains cocoa butter, sugar, and milk, but no cocoa solids.\\n\\nChocolate is one of the most popular food types and flavors in the world, and many foodstuffs involving chocolate exist, particularly desserts, including cakes, pudding, mousse, chocolate brownies, and chocolate chip cookies. Many candies are filled with or coated with sweetened chocolate. Chocolate bars, either made of solid chocolate or other ingredients coated in chocolate, are eaten as snacks. Gifts of chocolate molded into different shapes (such as eggs, hearts, and coins) are traditional on certain Western holidays, including Christmas, Easter, Valentine's Day, and Hanukkah. Chocolate is also used in cold and hot beverages, such as chocolate milk and hot chocolate, and in some alcoholic drinks, such as creme de cacao.\\n\\nAlthough cocoa originated in the Americas, West African countries, particularly Côte d'Ivoire and Ghana, are the leading producers of cocoa in the 21st century, accounting for some 60% of the world cocoa supply.\\n\\nWith some two million children involved in the farming of cocoa in West Africa, child slavery and trafficking associated with the cocoa trade remain major concerns.[4][5] A 2018 report argued that international attempts to improve conditions for children were doomed to failure because of persistent poverty, the absence of schools, increasing world cocoa demand, more intensive farming of cocoa, and continued exploitation of child labor.[4]\""
      ]
     },
     "execution_count": 2,
     "metadata": {},
     "output_type": "execute_result"
    }
   ],
   "source": [
    "txt"
   ]
  },
  {
   "cell_type": "code",
   "execution_count": 3,
   "id": "baa915f4",
   "metadata": {},
   "outputs": [
    {
     "name": "stdout",
     "output_type": "stream",
     "text": [
      "Chocolate or cocoa is a food made from roasted and ground cacao seed kernels that is available as a liquid, solid, or paste, either on its own or as a flavoring agent in other foods. Cacao has been consumed in some form since at least the Olmec civilization (19th–11th century BCE),[1][2] and later Mesoamerican civilizations also consumed chocolate beverages before being introduced to Europe in the 16th century.[3]\n",
      "\n",
      "The seeds of the cacao tree have an intense bitter taste and must be fermented to develop the flavor. After fermentation, the seeds are dried, cleaned, and roasted. The shell is removed to produce cocoa nibs, which are then ground to cocoa mass, unadulterated chocolate in rough form. Once the cocoa mass is liquefied by heating, it is called chocolate liquor. The liquor may also be cooled and processed into its two components: cocoa solids and cocoa butter. Baking chocolate, also called bitter chocolate, contains cocoa solids and cocoa butter in varying proportions without any added sugar. Powdered baking cocoa, which contains more fiber than cocoa butter, can be processed with alkali to produce Dutch cocoa. Much of the chocolate consumed today is in the form of sweet chocolate, a combination of cocoa solids, cocoa butter, or added vegetable oils and sugar. Milk chocolate is sweet chocolate that additionally contains milk powder or condensed milk. White chocolate contains cocoa butter, sugar, and milk, but no cocoa solids.\n",
      "\n",
      "Chocolate is one of the most popular food types and flavors in the world, and many foodstuffs involving chocolate exist, particularly desserts, including cakes, pudding, mousse, chocolate brownies, and chocolate chip cookies. Many candies are filled with or coated with sweetened chocolate. Chocolate bars, either made of solid chocolate or other ingredients coated in chocolate, are eaten as snacks. Gifts of chocolate molded into different shapes (such as eggs, hearts, and coins) are traditional on certain Western holidays, including Christmas, Easter, Valentine's Day, and Hanukkah. Chocolate is also used in cold and hot beverages, such as chocolate milk and hot chocolate, and in some alcoholic drinks, such as creme de cacao.\n",
      "\n",
      "Although cocoa originated in the Americas, West African countries, particularly Côte d'Ivoire and Ghana, are the leading producers of cocoa in the 21st century, accounting for some 60% of the world cocoa supply.\n",
      "\n",
      "With some two million children involved in the farming of cocoa in West Africa, child slavery and trafficking associated with the cocoa trade remain major concerns.[4][5] A 2018 report argued that international attempts to improve conditions for children were doomed to failure because of persistent poverty, the absence of schools, increasing world cocoa demand, more intensive farming of cocoa, and continued exploitation of child labor.[4]\n"
     ]
    }
   ],
   "source": [
    "print(txt)"
   ]
  },
  {
   "cell_type": "code",
   "execution_count": 4,
   "id": "8c19e211",
   "metadata": {},
   "outputs": [
    {
     "data": {
      "text/plain": [
       "str"
      ]
     },
     "execution_count": 4,
     "metadata": {},
     "output_type": "execute_result"
    }
   ],
   "source": [
    "type(txt)"
   ]
  },
  {
   "cell_type": "markdown",
   "id": "a7016425",
   "metadata": {},
   "source": [
    "### Paragraphs"
   ]
  },
  {
   "cell_type": "code",
   "execution_count": 6,
   "id": "23a32cf9",
   "metadata": {},
   "outputs": [],
   "source": [
    "# Using split function to know no. of paragraphs in our corpus\n",
    "# Returns a list\n",
    "para = txt.split(\"\\n\\n\")"
   ]
  },
  {
   "cell_type": "code",
   "execution_count": 9,
   "id": "388b0f24",
   "metadata": {},
   "outputs": [
    {
     "name": "stdout",
     "output_type": "stream",
     "text": [
      "5\n"
     ]
    }
   ],
   "source": [
    "print(len(para))"
   ]
  },
  {
   "cell_type": "code",
   "execution_count": 8,
   "id": "49f5ee0a",
   "metadata": {},
   "outputs": [
    {
     "name": "stdout",
     "output_type": "stream",
     "text": [
      "Chocolate or cocoa is a food made from roasted and ground cacao seed kernels that is available as a liquid, solid, or paste, either on its own or as a flavoring agent in other foods. Cacao has been consumed in some form since at least the Olmec civilization (19th–11th century BCE),[1][2] and later Mesoamerican civilizations also consumed chocolate beverages before being introduced to Europe in the 16th century.[3]\n",
      "The seeds of the cacao tree have an intense bitter taste and must be fermented to develop the flavor. After fermentation, the seeds are dried, cleaned, and roasted. The shell is removed to produce cocoa nibs, which are then ground to cocoa mass, unadulterated chocolate in rough form. Once the cocoa mass is liquefied by heating, it is called chocolate liquor. The liquor may also be cooled and processed into its two components: cocoa solids and cocoa butter. Baking chocolate, also called bitter chocolate, contains cocoa solids and cocoa butter in varying proportions without any added sugar. Powdered baking cocoa, which contains more fiber than cocoa butter, can be processed with alkali to produce Dutch cocoa. Much of the chocolate consumed today is in the form of sweet chocolate, a combination of cocoa solids, cocoa butter, or added vegetable oils and sugar. Milk chocolate is sweet chocolate that additionally contains milk powder or condensed milk. White chocolate contains cocoa butter, sugar, and milk, but no cocoa solids.\n",
      "Chocolate is one of the most popular food types and flavors in the world, and many foodstuffs involving chocolate exist, particularly desserts, including cakes, pudding, mousse, chocolate brownies, and chocolate chip cookies. Many candies are filled with or coated with sweetened chocolate. Chocolate bars, either made of solid chocolate or other ingredients coated in chocolate, are eaten as snacks. Gifts of chocolate molded into different shapes (such as eggs, hearts, and coins) are traditional on certain Western holidays, including Christmas, Easter, Valentine's Day, and Hanukkah. Chocolate is also used in cold and hot beverages, such as chocolate milk and hot chocolate, and in some alcoholic drinks, such as creme de cacao.\n",
      "Although cocoa originated in the Americas, West African countries, particularly Côte d'Ivoire and Ghana, are the leading producers of cocoa in the 21st century, accounting for some 60% of the world cocoa supply.\n",
      "With some two million children involved in the farming of cocoa in West Africa, child slavery and trafficking associated with the cocoa trade remain major concerns.[4][5] A 2018 report argued that international attempts to improve conditions for children were doomed to failure because of persistent poverty, the absence of schools, increasing world cocoa demand, more intensive farming of cocoa, and continued exploitation of child labor.[4]\n"
     ]
    }
   ],
   "source": [
    "# Printing each paragraph\n",
    "for i in para:\n",
    "    print(i)"
   ]
  },
  {
   "cell_type": "markdown",
   "id": "a69988b5",
   "metadata": {},
   "source": [
    "### Lines"
   ]
  },
  {
   "cell_type": "code",
   "execution_count": 14,
   "id": "3a113fa5",
   "metadata": {},
   "outputs": [],
   "source": [
    "# Printing no. of lines in our text corpus\n",
    "lines = txt.split(\".\")"
   ]
  },
  {
   "cell_type": "code",
   "execution_count": 15,
   "id": "72eafe46",
   "metadata": {},
   "outputs": [
    {
     "data": {
      "text/plain": [
       "['Chocolate or cocoa is a food made from roasted and ground cacao seed kernels that is available as a liquid, solid, or paste, either on its own or as a flavoring agent in other foods',\n",
       " ' Cacao has been consumed in some form since at least the Olmec civilization (19th–11th century BCE),[1][2] and later Mesoamerican civilizations also consumed chocolate beverages before being introduced to Europe in the 16th century',\n",
       " '[3]\\n\\nThe seeds of the cacao tree have an intense bitter taste and must be fermented to develop the flavor',\n",
       " ' After fermentation, the seeds are dried, cleaned, and roasted',\n",
       " ' The shell is removed to produce cocoa nibs, which are then ground to cocoa mass, unadulterated chocolate in rough form',\n",
       " ' Once the cocoa mass is liquefied by heating, it is called chocolate liquor',\n",
       " ' The liquor may also be cooled and processed into its two components: cocoa solids and cocoa butter',\n",
       " ' Baking chocolate, also called bitter chocolate, contains cocoa solids and cocoa butter in varying proportions without any added sugar',\n",
       " ' Powdered baking cocoa, which contains more fiber than cocoa butter, can be processed with alkali to produce Dutch cocoa',\n",
       " ' Much of the chocolate consumed today is in the form of sweet chocolate, a combination of cocoa solids, cocoa butter, or added vegetable oils and sugar',\n",
       " ' Milk chocolate is sweet chocolate that additionally contains milk powder or condensed milk',\n",
       " ' White chocolate contains cocoa butter, sugar, and milk, but no cocoa solids',\n",
       " '\\n\\nChocolate is one of the most popular food types and flavors in the world, and many foodstuffs involving chocolate exist, particularly desserts, including cakes, pudding, mousse, chocolate brownies, and chocolate chip cookies',\n",
       " ' Many candies are filled with or coated with sweetened chocolate',\n",
       " ' Chocolate bars, either made of solid chocolate or other ingredients coated in chocolate, are eaten as snacks',\n",
       " \" Gifts of chocolate molded into different shapes (such as eggs, hearts, and coins) are traditional on certain Western holidays, including Christmas, Easter, Valentine's Day, and Hanukkah\",\n",
       " ' Chocolate is also used in cold and hot beverages, such as chocolate milk and hot chocolate, and in some alcoholic drinks, such as creme de cacao',\n",
       " \"\\n\\nAlthough cocoa originated in the Americas, West African countries, particularly Côte d'Ivoire and Ghana, are the leading producers of cocoa in the 21st century, accounting for some 60% of the world cocoa supply\",\n",
       " '\\n\\nWith some two million children involved in the farming of cocoa in West Africa, child slavery and trafficking associated with the cocoa trade remain major concerns',\n",
       " '[4][5] A 2018 report argued that international attempts to improve conditions for children were doomed to failure because of persistent poverty, the absence of schools, increasing world cocoa demand, more intensive farming of cocoa, and continued exploitation of child labor',\n",
       " '[4]']"
      ]
     },
     "execution_count": 15,
     "metadata": {},
     "output_type": "execute_result"
    }
   ],
   "source": [
    "lines"
   ]
  },
  {
   "cell_type": "code",
   "execution_count": 16,
   "id": "e4d621d0",
   "metadata": {},
   "outputs": [
    {
     "data": {
      "text/plain": [
       "21"
      ]
     },
     "execution_count": 16,
     "metadata": {},
     "output_type": "execute_result"
    }
   ],
   "source": [
    "len(lines)"
   ]
  },
  {
   "cell_type": "code",
   "execution_count": 22,
   "id": "a6570c60",
   "metadata": {},
   "outputs": [
    {
     "data": {
      "text/plain": [
       "['Chocolate or cocoa is a food made from roasted and ground cacao seed kernels that is available as a liquid, solid, or paste, either on its own or as a flavoring agent in other foods',\n",
       " ' Cacao has been consumed in some form since at least the Olmec civilization (19th–11th century BCE),[1][2] and later Mesoamerican civilizations also consumed chocolate beverages before being introduced to Europe in the 16th century',\n",
       " '[3]\\n\\nThe seeds of the cacao tree have an intense bitter taste and must be fermented to develop the flavor',\n",
       " ' After fermentation, the seeds are dried, cleaned, and roasted',\n",
       " ' The shell is removed to produce cocoa nibs, which are then ground to cocoa mass, unadulterated chocolate in rough form',\n",
       " ' Once the cocoa mass is liquefied by heating, it is called chocolate liquor',\n",
       " ' The liquor may also be cooled and processed into its two components: cocoa solids and cocoa butter',\n",
       " ' Baking chocolate, also called bitter chocolate, contains cocoa solids and cocoa butter in varying proportions without any added sugar',\n",
       " ' Powdered baking cocoa, which contains more fiber than cocoa butter, can be processed with alkali to produce Dutch cocoa',\n",
       " ' Much of the chocolate consumed today is in the form of sweet chocolate, a combination of cocoa solids, cocoa butter, or added vegetable oils and sugar',\n",
       " ' Milk chocolate is sweet chocolate that additionally contains milk powder or condensed milk',\n",
       " ' White chocolate contains cocoa butter, sugar, and milk, but no cocoa solids',\n",
       " '\\n\\nChocolate is one of the most popular food types and flavors in the world, and many foodstuffs involving chocolate exist, particularly desserts, including cakes, pudding, mousse, chocolate brownies, and chocolate chip cookies',\n",
       " ' Many candies are filled with or coated with sweetened chocolate',\n",
       " ' Chocolate bars, either made of solid chocolate or other ingredients coated in chocolate, are eaten as snacks',\n",
       " \" Gifts of chocolate molded into different shapes (such as eggs, hearts, and coins) are traditional on certain Western holidays, including Christmas, Easter, Valentine's Day, and Hanukkah\",\n",
       " ' Chocolate is also used in cold and hot beverages, such as chocolate milk and hot chocolate, and in some alcoholic drinks, such as creme de cacao',\n",
       " \"\\n\\nAlthough cocoa originated in the Americas, West African countries, particularly Côte d'Ivoire and Ghana, are the leading producers of cocoa in the 21st century, accounting for some 60% of the world cocoa supply\",\n",
       " '\\n\\nWith some two million children involved in the farming of cocoa in West Africa, child slavery and trafficking associated with the cocoa trade remain major concerns',\n",
       " '[4][5] A 2018 report argued that international attempts to improve conditions for children were doomed to failure because of persistent poverty, the absence of schools, increasing world cocoa demand, more intensive farming of cocoa, and continued exploitation of child labor']"
      ]
     },
     "execution_count": 22,
     "metadata": {},
     "output_type": "execute_result"
    }
   ],
   "source": [
    "# Taking all the lines except the last one\n",
    "lines[:-1]"
   ]
  },
  {
   "cell_type": "code",
   "execution_count": 23,
   "id": "b9d7807e",
   "metadata": {},
   "outputs": [
    {
     "data": {
      "text/plain": [
       "20"
      ]
     },
     "execution_count": 23,
     "metadata": {},
     "output_type": "execute_result"
    }
   ],
   "source": [
    "len(lines[:-1])"
   ]
  },
  {
   "cell_type": "code",
   "execution_count": 24,
   "id": "74678bd9",
   "metadata": {},
   "outputs": [
    {
     "data": {
      "text/plain": [
       "'[4]'"
      ]
     },
     "execution_count": 24,
     "metadata": {},
     "output_type": "execute_result"
    }
   ],
   "source": [
    "# Printing last line\n",
    "lines[-1]"
   ]
  },
  {
   "cell_type": "code",
   "execution_count": 25,
   "id": "5c941901",
   "metadata": {},
   "outputs": [
    {
     "data": {
      "text/plain": [
       "'Chocolate or cocoa is a food made from roasted and ground cacao seed kernels that is available as a liquid, solid, or paste, either on its own or as a flavoring agent in other foods'"
      ]
     },
     "execution_count": 25,
     "metadata": {},
     "output_type": "execute_result"
    }
   ],
   "source": [
    "lines[0]"
   ]
  },
  {
   "cell_type": "markdown",
   "id": "ad4b4927",
   "metadata": {},
   "source": [
    "### Words"
   ]
  },
  {
   "cell_type": "code",
   "execution_count": 26,
   "id": "cfd6324e",
   "metadata": {},
   "outputs": [],
   "source": [
    "words = txt.split(' ')"
   ]
  },
  {
   "cell_type": "code",
   "execution_count": 27,
   "id": "0eb1680d",
   "metadata": {},
   "outputs": [
    {
     "data": {
      "text/plain": [
       "['Chocolate',\n",
       " 'or',\n",
       " 'cocoa',\n",
       " 'is',\n",
       " 'a',\n",
       " 'food',\n",
       " 'made',\n",
       " 'from',\n",
       " 'roasted',\n",
       " 'and',\n",
       " 'ground',\n",
       " 'cacao',\n",
       " 'seed',\n",
       " 'kernels',\n",
       " 'that',\n",
       " 'is',\n",
       " 'available',\n",
       " 'as',\n",
       " 'a',\n",
       " 'liquid,',\n",
       " 'solid,',\n",
       " 'or',\n",
       " 'paste,',\n",
       " 'either',\n",
       " 'on',\n",
       " 'its',\n",
       " 'own',\n",
       " 'or',\n",
       " 'as',\n",
       " 'a',\n",
       " 'flavoring',\n",
       " 'agent',\n",
       " 'in',\n",
       " 'other',\n",
       " 'foods.',\n",
       " 'Cacao',\n",
       " 'has',\n",
       " 'been',\n",
       " 'consumed',\n",
       " 'in',\n",
       " 'some',\n",
       " 'form',\n",
       " 'since',\n",
       " 'at',\n",
       " 'least',\n",
       " 'the',\n",
       " 'Olmec',\n",
       " 'civilization',\n",
       " '(19th–11th',\n",
       " 'century',\n",
       " 'BCE),[1][2]',\n",
       " 'and',\n",
       " 'later',\n",
       " 'Mesoamerican',\n",
       " 'civilizations',\n",
       " 'also',\n",
       " 'consumed',\n",
       " 'chocolate',\n",
       " 'beverages',\n",
       " 'before',\n",
       " 'being',\n",
       " 'introduced',\n",
       " 'to',\n",
       " 'Europe',\n",
       " 'in',\n",
       " 'the',\n",
       " '16th',\n",
       " 'century.[3]\\n\\nThe',\n",
       " 'seeds',\n",
       " 'of',\n",
       " 'the',\n",
       " 'cacao',\n",
       " 'tree',\n",
       " 'have',\n",
       " 'an',\n",
       " 'intense',\n",
       " 'bitter',\n",
       " 'taste',\n",
       " 'and',\n",
       " 'must',\n",
       " 'be',\n",
       " 'fermented',\n",
       " 'to',\n",
       " 'develop',\n",
       " 'the',\n",
       " 'flavor.',\n",
       " 'After',\n",
       " 'fermentation,',\n",
       " 'the',\n",
       " 'seeds',\n",
       " 'are',\n",
       " 'dried,',\n",
       " 'cleaned,',\n",
       " 'and',\n",
       " 'roasted.',\n",
       " 'The',\n",
       " 'shell',\n",
       " 'is',\n",
       " 'removed',\n",
       " 'to',\n",
       " 'produce',\n",
       " 'cocoa',\n",
       " 'nibs,',\n",
       " 'which',\n",
       " 'are',\n",
       " 'then',\n",
       " 'ground',\n",
       " 'to',\n",
       " 'cocoa',\n",
       " 'mass,',\n",
       " 'unadulterated',\n",
       " 'chocolate',\n",
       " 'in',\n",
       " 'rough',\n",
       " 'form.',\n",
       " 'Once',\n",
       " 'the',\n",
       " 'cocoa',\n",
       " 'mass',\n",
       " 'is',\n",
       " 'liquefied',\n",
       " 'by',\n",
       " 'heating,',\n",
       " 'it',\n",
       " 'is',\n",
       " 'called',\n",
       " 'chocolate',\n",
       " 'liquor.',\n",
       " 'The',\n",
       " 'liquor',\n",
       " 'may',\n",
       " 'also',\n",
       " 'be',\n",
       " 'cooled',\n",
       " 'and',\n",
       " 'processed',\n",
       " 'into',\n",
       " 'its',\n",
       " 'two',\n",
       " 'components:',\n",
       " 'cocoa',\n",
       " 'solids',\n",
       " 'and',\n",
       " 'cocoa',\n",
       " 'butter.',\n",
       " 'Baking',\n",
       " 'chocolate,',\n",
       " 'also',\n",
       " 'called',\n",
       " 'bitter',\n",
       " 'chocolate,',\n",
       " 'contains',\n",
       " 'cocoa',\n",
       " 'solids',\n",
       " 'and',\n",
       " 'cocoa',\n",
       " 'butter',\n",
       " 'in',\n",
       " 'varying',\n",
       " 'proportions',\n",
       " 'without',\n",
       " 'any',\n",
       " 'added',\n",
       " 'sugar.',\n",
       " 'Powdered',\n",
       " 'baking',\n",
       " 'cocoa,',\n",
       " 'which',\n",
       " 'contains',\n",
       " 'more',\n",
       " 'fiber',\n",
       " 'than',\n",
       " 'cocoa',\n",
       " 'butter,',\n",
       " 'can',\n",
       " 'be',\n",
       " 'processed',\n",
       " 'with',\n",
       " 'alkali',\n",
       " 'to',\n",
       " 'produce',\n",
       " 'Dutch',\n",
       " 'cocoa.',\n",
       " 'Much',\n",
       " 'of',\n",
       " 'the',\n",
       " 'chocolate',\n",
       " 'consumed',\n",
       " 'today',\n",
       " 'is',\n",
       " 'in',\n",
       " 'the',\n",
       " 'form',\n",
       " 'of',\n",
       " 'sweet',\n",
       " 'chocolate,',\n",
       " 'a',\n",
       " 'combination',\n",
       " 'of',\n",
       " 'cocoa',\n",
       " 'solids,',\n",
       " 'cocoa',\n",
       " 'butter,',\n",
       " 'or',\n",
       " 'added',\n",
       " 'vegetable',\n",
       " 'oils',\n",
       " 'and',\n",
       " 'sugar.',\n",
       " 'Milk',\n",
       " 'chocolate',\n",
       " 'is',\n",
       " 'sweet',\n",
       " 'chocolate',\n",
       " 'that',\n",
       " 'additionally',\n",
       " 'contains',\n",
       " 'milk',\n",
       " 'powder',\n",
       " 'or',\n",
       " 'condensed',\n",
       " 'milk.',\n",
       " 'White',\n",
       " 'chocolate',\n",
       " 'contains',\n",
       " 'cocoa',\n",
       " 'butter,',\n",
       " 'sugar,',\n",
       " 'and',\n",
       " 'milk,',\n",
       " 'but',\n",
       " 'no',\n",
       " 'cocoa',\n",
       " 'solids.\\n\\nChocolate',\n",
       " 'is',\n",
       " 'one',\n",
       " 'of',\n",
       " 'the',\n",
       " 'most',\n",
       " 'popular',\n",
       " 'food',\n",
       " 'types',\n",
       " 'and',\n",
       " 'flavors',\n",
       " 'in',\n",
       " 'the',\n",
       " 'world,',\n",
       " 'and',\n",
       " 'many',\n",
       " 'foodstuffs',\n",
       " 'involving',\n",
       " 'chocolate',\n",
       " 'exist,',\n",
       " 'particularly',\n",
       " 'desserts,',\n",
       " 'including',\n",
       " 'cakes,',\n",
       " 'pudding,',\n",
       " 'mousse,',\n",
       " 'chocolate',\n",
       " 'brownies,',\n",
       " 'and',\n",
       " 'chocolate',\n",
       " 'chip',\n",
       " 'cookies.',\n",
       " 'Many',\n",
       " 'candies',\n",
       " 'are',\n",
       " 'filled',\n",
       " 'with',\n",
       " 'or',\n",
       " 'coated',\n",
       " 'with',\n",
       " 'sweetened',\n",
       " 'chocolate.',\n",
       " 'Chocolate',\n",
       " 'bars,',\n",
       " 'either',\n",
       " 'made',\n",
       " 'of',\n",
       " 'solid',\n",
       " 'chocolate',\n",
       " 'or',\n",
       " 'other',\n",
       " 'ingredients',\n",
       " 'coated',\n",
       " 'in',\n",
       " 'chocolate,',\n",
       " 'are',\n",
       " 'eaten',\n",
       " 'as',\n",
       " 'snacks.',\n",
       " 'Gifts',\n",
       " 'of',\n",
       " 'chocolate',\n",
       " 'molded',\n",
       " 'into',\n",
       " 'different',\n",
       " 'shapes',\n",
       " '(such',\n",
       " 'as',\n",
       " 'eggs,',\n",
       " 'hearts,',\n",
       " 'and',\n",
       " 'coins)',\n",
       " 'are',\n",
       " 'traditional',\n",
       " 'on',\n",
       " 'certain',\n",
       " 'Western',\n",
       " 'holidays,',\n",
       " 'including',\n",
       " 'Christmas,',\n",
       " 'Easter,',\n",
       " \"Valentine's\",\n",
       " 'Day,',\n",
       " 'and',\n",
       " 'Hanukkah.',\n",
       " 'Chocolate',\n",
       " 'is',\n",
       " 'also',\n",
       " 'used',\n",
       " 'in',\n",
       " 'cold',\n",
       " 'and',\n",
       " 'hot',\n",
       " 'beverages,',\n",
       " 'such',\n",
       " 'as',\n",
       " 'chocolate',\n",
       " 'milk',\n",
       " 'and',\n",
       " 'hot',\n",
       " 'chocolate,',\n",
       " 'and',\n",
       " 'in',\n",
       " 'some',\n",
       " 'alcoholic',\n",
       " 'drinks,',\n",
       " 'such',\n",
       " 'as',\n",
       " 'creme',\n",
       " 'de',\n",
       " 'cacao.\\n\\nAlthough',\n",
       " 'cocoa',\n",
       " 'originated',\n",
       " 'in',\n",
       " 'the',\n",
       " 'Americas,',\n",
       " 'West',\n",
       " 'African',\n",
       " 'countries,',\n",
       " 'particularly',\n",
       " 'Côte',\n",
       " \"d'Ivoire\",\n",
       " 'and',\n",
       " 'Ghana,',\n",
       " 'are',\n",
       " 'the',\n",
       " 'leading',\n",
       " 'producers',\n",
       " 'of',\n",
       " 'cocoa',\n",
       " 'in',\n",
       " 'the',\n",
       " '21st',\n",
       " 'century,',\n",
       " 'accounting',\n",
       " 'for',\n",
       " 'some',\n",
       " '60%',\n",
       " 'of',\n",
       " 'the',\n",
       " 'world',\n",
       " 'cocoa',\n",
       " 'supply.\\n\\nWith',\n",
       " 'some',\n",
       " 'two',\n",
       " 'million',\n",
       " 'children',\n",
       " 'involved',\n",
       " 'in',\n",
       " 'the',\n",
       " 'farming',\n",
       " 'of',\n",
       " 'cocoa',\n",
       " 'in',\n",
       " 'West',\n",
       " 'Africa,',\n",
       " 'child',\n",
       " 'slavery',\n",
       " 'and',\n",
       " 'trafficking',\n",
       " 'associated',\n",
       " 'with',\n",
       " 'the',\n",
       " 'cocoa',\n",
       " 'trade',\n",
       " 'remain',\n",
       " 'major',\n",
       " 'concerns.[4][5]',\n",
       " 'A',\n",
       " '2018',\n",
       " 'report',\n",
       " 'argued',\n",
       " 'that',\n",
       " 'international',\n",
       " 'attempts',\n",
       " 'to',\n",
       " 'improve',\n",
       " 'conditions',\n",
       " 'for',\n",
       " 'children',\n",
       " 'were',\n",
       " 'doomed',\n",
       " 'to',\n",
       " 'failure',\n",
       " 'because',\n",
       " 'of',\n",
       " 'persistent',\n",
       " 'poverty,',\n",
       " 'the',\n",
       " 'absence',\n",
       " 'of',\n",
       " 'schools,',\n",
       " 'increasing',\n",
       " 'world',\n",
       " 'cocoa',\n",
       " 'demand,',\n",
       " 'more',\n",
       " 'intensive',\n",
       " 'farming',\n",
       " 'of',\n",
       " 'cocoa,',\n",
       " 'and',\n",
       " 'continued',\n",
       " 'exploitation',\n",
       " 'of',\n",
       " 'child',\n",
       " 'labor.[4]']"
      ]
     },
     "execution_count": 27,
     "metadata": {},
     "output_type": "execute_result"
    }
   ],
   "source": [
    "words"
   ]
  },
  {
   "cell_type": "code",
   "execution_count": 28,
   "id": "4ce3ed61",
   "metadata": {},
   "outputs": [
    {
     "data": {
      "text/plain": [
       "440"
      ]
     },
     "execution_count": 28,
     "metadata": {},
     "output_type": "execute_result"
    }
   ],
   "source": [
    "len(words)"
   ]
  },
  {
   "cell_type": "markdown",
   "id": "84bbe811",
   "metadata": {},
   "source": [
    "### Advance Text Preprocessing"
   ]
  },
  {
   "cell_type": "code",
   "execution_count": 33,
   "id": "d86bcbed",
   "metadata": {},
   "outputs": [],
   "source": [
    "# Removing numbers\n",
    "# Using Replace function\n",
    "for i in range(1,6):\n",
    "    # Convert into string because replace fn only accepts string\n",
    "    pattern = '['+str(i)+\"]\"\n",
    "    txt = txt.replace(pattern,\"\")"
   ]
  },
  {
   "cell_type": "code",
   "execution_count": 34,
   "id": "492b740f",
   "metadata": {},
   "outputs": [
    {
     "name": "stdout",
     "output_type": "stream",
     "text": [
      "Chocolate or cocoa is a food made from roasted and ground cacao seed kernels that is available as a liquid, solid, or paste, either on its own or as a flavoring agent in other foods. Cacao has been consumed in some form since at least the Olmec civilization (19th–11th century BCE), and later Mesoamerican civilizations also consumed chocolate beverages before being introduced to Europe in the 16th century.\n",
      "\n",
      "The seeds of the cacao tree have an intense bitter taste and must be fermented to develop the flavor. After fermentation, the seeds are dried, cleaned, and roasted. The shell is removed to produce cocoa nibs, which are then ground to cocoa mass, unadulterated chocolate in rough form. Once the cocoa mass is liquefied by heating, it is called chocolate liquor. The liquor may also be cooled and processed into its two components: cocoa solids and cocoa butter. Baking chocolate, also called bitter chocolate, contains cocoa solids and cocoa butter in varying proportions without any added sugar. Powdered baking cocoa, which contains more fiber than cocoa butter, can be processed with alkali to produce Dutch cocoa. Much of the chocolate consumed today is in the form of sweet chocolate, a combination of cocoa solids, cocoa butter, or added vegetable oils and sugar. Milk chocolate is sweet chocolate that additionally contains milk powder or condensed milk. White chocolate contains cocoa butter, sugar, and milk, but no cocoa solids.\n",
      "\n",
      "Chocolate is one of the most popular food types and flavors in the world, and many foodstuffs involving chocolate exist, particularly desserts, including cakes, pudding, mousse, chocolate brownies, and chocolate chip cookies. Many candies are filled with or coated with sweetened chocolate. Chocolate bars, either made of solid chocolate or other ingredients coated in chocolate, are eaten as snacks. Gifts of chocolate molded into different shapes (such as eggs, hearts, and coins) are traditional on certain Western holidays, including Christmas, Easter, Valentine's Day, and Hanukkah. Chocolate is also used in cold and hot beverages, such as chocolate milk and hot chocolate, and in some alcoholic drinks, such as creme de cacao.\n",
      "\n",
      "Although cocoa originated in the Americas, West African countries, particularly Côte d'Ivoire and Ghana, are the leading producers of cocoa in the 21st century, accounting for some 60% of the world cocoa supply.\n",
      "\n",
      "With some two million children involved in the farming of cocoa in West Africa, child slavery and trafficking associated with the cocoa trade remain major concerns. A 2018 report argued that international attempts to improve conditions for children were doomed to failure because of persistent poverty, the absence of schools, increasing world cocoa demand, more intensive farming of cocoa, and continued exploitation of child labor.\n"
     ]
    }
   ],
   "source": [
    "print(txt)"
   ]
  },
  {
   "cell_type": "code",
   "execution_count": 35,
   "id": "9be24f54",
   "metadata": {},
   "outputs": [],
   "source": [
    "# Removing special characters\n",
    "for i in \"!@#$%^&*\":\n",
    "    txt = txt.replace(i,\"\")"
   ]
  },
  {
   "cell_type": "code",
   "execution_count": null,
   "id": "b5b3a57d",
   "metadata": {},
   "outputs": [],
   "source": []
  }
 ],
 "metadata": {
  "kernelspec": {
   "display_name": "Python 3 (ipykernel)",
   "language": "python",
   "name": "python3"
  },
  "language_info": {
   "codemirror_mode": {
    "name": "ipython",
    "version": 3
   },
   "file_extension": ".py",
   "mimetype": "text/x-python",
   "name": "python",
   "nbconvert_exporter": "python",
   "pygments_lexer": "ipython3",
   "version": "3.11.5"
  }
 },
 "nbformat": 4,
 "nbformat_minor": 5
}
