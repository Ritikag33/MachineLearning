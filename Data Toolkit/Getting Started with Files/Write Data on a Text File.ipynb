{
 "cells": [
  {
   "cell_type": "code",
   "execution_count": 5,
   "id": "b9cf6d7e",
   "metadata": {},
   "outputs": [
    {
     "name": "stdout",
     "output_type": "stream",
     "text": [
      "['Write Data on a Text File.ipynb', 'corpus.txt', 'Text Preprocessing.ipynb', 'Reading Data Corpus From a File.ipynb', 'Data Reading From File.ipynb', '.ipynb_checkpoints', 'data.txt']\n"
     ]
    }
   ],
   "source": [
    "# List files in current location\n",
    "import os\n",
    "files = os.listdir('.')\n",
    "print(files)"
   ]
  },
  {
   "cell_type": "code",
   "execution_count": 9,
   "id": "5cd19a43",
   "metadata": {},
   "outputs": [],
   "source": [
    "# Creating a file\n",
    "fd = open(\"content.txt\",'w')\n",
    "# Write data in a file\n",
    "# Everytime you add new data previous data will be overwritten.\n",
    "fd.write(\"Hello Guys! Enjoy learning.\")\n",
    "fd.close()"
   ]
  },
  {
   "cell_type": "code",
   "execution_count": 10,
   "id": "4a69f8f7",
   "metadata": {},
   "outputs": [],
   "source": [
    "# If you want to add new data everytime open file in append('a') mode\n",
    "fd = open('content.txt','a')\n",
    "fd.write(\"Why so serious?\")\n",
    "# Releasing the resources\n",
    "fd.close()"
   ]
  },
  {
   "cell_type": "markdown",
   "id": "8e6fa39a",
   "metadata": {},
   "source": [
    "### Writing Data on a text file with New Line\n"
   ]
  },
  {
   "cell_type": "code",
   "execution_count": 13,
   "id": "30c763f1",
   "metadata": {},
   "outputs": [
    {
     "name": "stdout",
     "output_type": "stream",
     "text": [
      "Enter the text\\n is used when you want your data in a new line\n"
     ]
    }
   ],
   "source": [
    "fd = open(\"content.txt\",'a')\n",
    "txt = input(\"Enter the text\")\n",
    "# Using '\\n'\n",
    "txt = txt + '.\\n'\n",
    "fd.write(txt)\n",
    "fd.close()"
   ]
  },
  {
   "cell_type": "markdown",
   "id": "eb807488",
   "metadata": {},
   "source": [
    "#### readlines()"
   ]
  },
  {
   "cell_type": "code",
   "execution_count": 16,
   "id": "f63f9b66",
   "metadata": {},
   "outputs": [
    {
     "name": "stdout",
     "output_type": "stream",
     "text": [
      "['Hello Guys! Enjoy learning.Why so serious?Have nothing to do. Have some plans?.\\n', \"Today I'm going to achieve my target.\\n\", '\\\\n is used when you want your data in a new line.\\n']\n"
     ]
    }
   ],
   "source": [
    "fd = open(\"content.txt\",\"r\")\n",
    "# readlines() : Reads all the lines and return them as each line a string element in a list.\n",
    "txt = fd.readlines()\n",
    "print(txt)\n",
    "fd.close()"
   ]
  },
  {
   "cell_type": "markdown",
   "id": "6295721c",
   "metadata": {},
   "source": [
    "#### readline()"
   ]
  },
  {
   "cell_type": "code",
   "execution_count": 17,
   "id": "5b483114",
   "metadata": {},
   "outputs": [
    {
     "name": "stdout",
     "output_type": "stream",
     "text": [
      "Hello Guys! Enjoy learning.Why so serious?Have nothing to do. Have some plans?.\n",
      "\n"
     ]
    }
   ],
   "source": [
    "fd = open(\"content.txt\",\"r\")\n",
    "# readlines() : Reads a line of the file and returns in form of a string\n",
    "txt = fd.readline()\n",
    "print(txt)\n",
    "fd.close()"
   ]
  },
  {
   "cell_type": "code",
   "execution_count": 23,
   "id": "ee036818",
   "metadata": {},
   "outputs": [],
   "source": [
    "# Writing multiple lines\n",
    "fd = open(\"content.txt\",\"w+\",)\n",
    "L = [\"Honey is healthy\",\"Butter is tasty\",\"Milk is sweet\"]\n",
    "txt = fd.writelines(L)\n",
    "fd.close()"
   ]
  },
  {
   "cell_type": "markdown",
   "id": "34855968",
   "metadata": {},
   "source": [
    "### read() readline() readlines()"
   ]
  },
  {
   "cell_type": "code",
   "execution_count": 27,
   "id": "2792f43d",
   "metadata": {},
   "outputs": [
    {
     "name": "stdout",
     "output_type": "stream",
     "text": [
      "Output of Read function is \n",
      "Hello \n",
      "This is Delhi \n",
      "This is Paris \n",
      "This is London \n",
      "\n",
      "\n",
      "Output of Readline function is \n",
      "Hello \n",
      "\n",
      "\n",
      "Output of Readlines function is \n",
      "['Hello \\n', 'This is Delhi \\n', 'This is Paris \\n', 'This is London \\n']\n",
      "\n"
     ]
    }
   ],
   "source": [
    "file1 = open(\"content.txt\",\"w\")\n",
    "L = [\"This is Delhi \\n\",\"This is Paris \\n\",\"This is London \\n\"] \n",
    "\n",
    "file1.write(\"Hello \\n\")\n",
    "file1.writelines(L)\n",
    "file1.close() #to change file access modes\n",
    "\n",
    "file1 = open(\"content.txt\",\"r+\") \n",
    "  \n",
    "print(\"Output of Read function is \")\n",
    "print(file1.read())\n",
    "print()\n",
    "\n",
    "# seek(n) takes the file handle to the nth bite from the beginning.\n",
    "file1.seek(0) \n",
    "\n",
    "print( \"Output of Readline function is \")\n",
    "print(file1.readline()) \n",
    "print()\n",
    "\n",
    "  \n",
    "file1.seek(0)\n",
    "# readlines function\n",
    "print(\"Output of Readlines function is \") \n",
    "print(file1.readlines()) \n",
    "print()\n",
    "file1.close()"
   ]
  },
  {
   "cell_type": "markdown",
   "id": "55ffb0bd",
   "metadata": {},
   "source": [
    "### Append vs Write"
   ]
  },
  {
   "cell_type": "code",
   "execution_count": 28,
   "id": "2dc36b78",
   "metadata": {},
   "outputs": [
    {
     "name": "stdout",
     "output_type": "stream",
     "text": [
      "Output of Readlines after appending\n",
      "['This is Delhi \\n', 'This is Paris \\n', 'This is London \\n', 'Today \\n']\n",
      "\n",
      "Output of Readlines after writing\n",
      "['Tomorrow \\n']\n",
      "\n"
     ]
    }
   ],
   "source": [
    "# Append vs write mode\n",
    "# Create a new file if it doesn't exist\n",
    "file1 = open(\"myfile.txt\",\"w\")\n",
    "L = [\"This is Delhi \\n\",\"This is Paris \\n\",\"This is London \\n\"] \n",
    "file1.writelines(L)\n",
    "file1.close()\n",
    "  \n",
    "# Append-adds at last\n",
    "file1 = open(\"myfile.txt\",\"a\")#append mode\n",
    "file1.write(\"Today \\n\")\n",
    "file1.close()\n",
    "  \n",
    "file1 = open(\"myfile.txt\",\"r\")\n",
    "print(\"Output of Readlines after appending\") \n",
    "print(file1.readlines())\n",
    "print()\n",
    "file1.close()\n",
    "  \n",
    "# Write-Overwrites\n",
    "file1 = open(\"myfile.txt\",\"w\")#write mode\n",
    "file1.write(\"Tomorrow \\n\")\n",
    "file1.close()\n",
    "  \n",
    "file1 = open(\"myfile.txt\",\"r\")\n",
    "print(\"Output of Readlines after writing\") \n",
    "print(file1.readlines())\n",
    "print()\n",
    "file1.close()"
   ]
  },
  {
   "cell_type": "code",
   "execution_count": 29,
   "id": "2a087c68",
   "metadata": {},
   "outputs": [
    {
     "name": "stdout",
     "output_type": "stream",
     "text": [
      "0\n"
     ]
    }
   ],
   "source": [
    "fd = open(\"content.txt\",\"r\")\n",
    "# Gives the current position as an offset from \n",
    "txt = fd.tell()\n",
    "print(txt)\n",
    "fd.close()"
   ]
  },
  {
   "cell_type": "code",
   "execution_count": null,
   "id": "c5196d7a",
   "metadata": {},
   "outputs": [],
   "source": []
  }
 ],
 "metadata": {
  "kernelspec": {
   "display_name": "Python 3 (ipykernel)",
   "language": "python",
   "name": "python3"
  },
  "language_info": {
   "codemirror_mode": {
    "name": "ipython",
    "version": 3
   },
   "file_extension": ".py",
   "mimetype": "text/x-python",
   "name": "python",
   "nbconvert_exporter": "python",
   "pygments_lexer": "ipython3",
   "version": "3.11.5"
  }
 },
 "nbformat": 4,
 "nbformat_minor": 5
}
