{
 "cells": [
  {
   "cell_type": "code",
   "execution_count": 10,
   "id": "ff020e38",
   "metadata": {},
   "outputs": [
    {
     "name": "stdout",
     "output_type": "stream",
     "text": [
      "---------------MENU-----------------\n",
      "\n",
      "1001 : 5 Star | 20 | 182\n",
      "1002 : Milky Bar | 10 | 270\n",
      "1003 : Candy | 5 | 377\n",
      "1004 : Dark Chocolate | 40 | 0\n",
      "\n",
      "------------------------------------\n",
      "\n",
      "Enter you name            :sushant\n",
      "Enter mail id             :sushant@gmail.com\n",
      "Enter phone number       :654321890\n",
      "Enter product ID        :1001\n",
      "Enter Quantity         :3\n",
      "\n",
      "--------------BILL------------------\n",
      "\n",
      "Name            : 5 Star\n",
      "Price(Rs)       : 20 Rs\n",
      "Quantity        : 3\n",
      "\n",
      "------------------------------------\n",
      "\n",
      "Amount payable after discount: 60\n",
      "GST on payable amount: 3.0\n",
      "Billing Amount  : 63.0 Rs\n",
      "\n",
      "------------------------------------\n",
      "\n",
      "Thank You for your order. Inventory Updated!\n",
      "\n",
      "----------UPDATED MENU-------------\n",
      "\n",
      "1001 : 5 Star | 20 | 179\n",
      "1002 : Milky Bar | 10 | 270\n",
      "1003 : Candy | 5 | 377\n",
      "1004 : Dark Chocolate | 40 | 0\n"
     ]
    }
   ],
   "source": [
    "# Importing libraries\n",
    "import json\n",
    "import time\n",
    "\n",
    "# Initializing Variables\n",
    "sales = ''\n",
    "\n",
    "# Loading the Inventory Records from JSON to String\n",
    "fd = open(\"Records.json\",\"r\")\n",
    "js = fd.read()\n",
    "fd.close()\n",
    "\n",
    "# Convert string records back to dictionary/json\n",
    "record = json.loads(js)\n",
    "\n",
    "# Displaying Menu\n",
    "print(\"---------------MENU-----------------\\n\")\n",
    "for key in record.keys():\n",
    "    print(key,\":\",record[key][\"Name\"],\"|\", record[key][\"Price\"],\"|\", record[key][\"Quantity\"])\n",
    "    \n",
    "print(\"\\n------------------------------------\\n\")\n",
    "\n",
    "# Taking user inputs about the Purchase and User Details\n",
    "user_name = str(input(\"Enter you name            :\"))\n",
    "user_mail = str(input(\"Enter mail id             :\"))\n",
    "user_phone = int(input(\"Enter phone number       :\"))\n",
    "\n",
    "user_prod_id = str(input(\"Enter product ID        :\"))\n",
    "user_prod_qty = int(input(\"Enter Quantity         :\"))\n",
    "\n",
    "# If we are having equal or more quantity then user wants\n",
    "if(record[user_prod_id][\"Quantity\"]>=user_prod_qty):\n",
    "    \n",
    "    # Displaying Purchase Details\n",
    "    print(\"\\n--------------BILL------------------\\n\")\n",
    "\n",
    "    print(\"Name            :\",record[user_prod_id][\"Name\"])\n",
    "    print(\"Price(Rs)       :\",record[user_prod_id][\"Price\"],\"Rs\")\n",
    "    print(\"Quantity        :\",user_prod_qty)\n",
    "\n",
    "    print(\"\\n------------------------------------\\n\")\n",
    "    amount = record[user_prod_id][\"Price\"]*user_prod_qty\n",
    "    if amount>5000:\n",
    "        amount = amount - 500\n",
    "    elif amount>7000:\n",
    "        amount = amount -(.10*amount)\n",
    "    \n",
    "    GST = 0.05*amount\n",
    "    billing_amount = amount + GST\n",
    "    \n",
    "    print(\"Amount payable after discount:\",amount)\n",
    "    print(\"GST on payable amount:\",GST)\n",
    "    \n",
    "    print(\"Billing Amount  :\",billing_amount,\"Rs\")\n",
    "    \n",
    "    print(\"\\n------------------------------------\\n\")\n",
    "    \n",
    "    # Generating Sales Structure in csv(comma seperated format)\n",
    "    sales = user_prod_id + ',' + user_name+ ',' +user_mail+ ',' +str(user_phone)+ ',' +record[user_prod_id][\"Name\"]+ ',' +str(record[user_prod_id][\"Price\"])+ ',' +str(user_prod_qty) +',' +str(record[user_prod_id][\"Price\"]*user_prod_qty)+\",\"+time.ctime()+'\\n'\n",
    "    \n",
    "     # Updating Records Dictionary\n",
    "    record[user_prod_id][\"Quantity\"] = record[user_prod_id][\"Quantity\"] - user_prod_qty\n",
    "\n",
    "# If we are not having enough quantity \n",
    "else:\n",
    "    \n",
    "    # Displaying info about the qunatity\n",
    "    print(\"Sorry we're not having enough quantity in our Inventory.\")\n",
    "    print(\"We are only having\",record[user_prod_id][\"Quantity\"],\"quantity.\")\n",
    "    print(\"\\n------------------------------------\\n\")\n",
    "    \n",
    "    # If user wants to purchase entire available quantity for that particular product\n",
    "    ch = str(input(\"Press Y/y to Purchase:\"))\n",
    "    \n",
    "    if(ch == 'Y' or ch=='y'):\n",
    "        \n",
    "        # Displaying Purchase Details\n",
    "        print(\"\\n--------------BILL------------------\\n\")\n",
    "\n",
    "        print(\"Name            :\",record[user_prod_id][\"Name\"])\n",
    "        print(\"Price(Rs)       :\",record[user_prod_id][\"Price\"],\"Rs\")\n",
    "        print(\"Quantity        :\",record[user_prod_id][\"Quantity\"])\n",
    "\n",
    "        print(\"\\n------------------------------------\\n\")\n",
    "        \n",
    "        amount = record[user_prod_id][\"Price\"]*user_prod_qty\n",
    "        if amount>5000:\n",
    "            amount = amount - 500\n",
    "        elif amount>7000:\n",
    "            amount = amount -(.10*amount)\n",
    "\n",
    "        GST = 0.05*amount\n",
    "        billing_amount = amount + GST\n",
    "\n",
    "        print(\"Amount payable after discount:\",amount)\n",
    "        print(\"GST on payable amount:\",GST)\n",
    "\n",
    "        print(\"Billing Amount  :\",billing_amount,\"Rs\")\n",
    "        \n",
    "        print(\"\\n------------------------------------\\n\")\n",
    "        \n",
    "        # Generating Sales Structure \n",
    "        sales = user_prod_id + ',' + user_name+ ',' +user_mail+ ',' +str(user_phone)+ ',' +record[user_prod_id][\"Name\"]+ ',' +str(record[user_prod_id][\"Price\"])+ ',' +str(record[user_prod_id][\"Quantity\"]) +',' +str(record[user_prod_id][\"Price\"]* record[user_prod_id][\"Quantity\"]) +\",\"+time.ctime() + '\\n'\n",
    "         # Updating Records Dictionary\n",
    "        record[user_prod_id][\"Quantity\"] = 0\n",
    "    \n",
    "    # If user has pressed anything other than Y/y\n",
    "    else:\n",
    "        print(\"Thank You!\")\n",
    "\n",
    "# Convert dictionary to string : To save it in json format\n",
    "js = json.dumps(record)\n",
    "\n",
    "# Saving records in json file\n",
    "fd = open(\"Records.json\",\"w\")\n",
    "fd.write(js)\n",
    "fd.close()\n",
    "\n",
    "# Saving records in sales file\n",
    "fd = open(\"sales.txt\",\"a\")\n",
    "fd.write(sales)\n",
    "fd.close()\n",
    "\n",
    "print(\"Thank You for your order. Inventory Updated!\")\n",
    "\n",
    "print(\"\\n----------UPDATED MENU-------------\\n\")\n",
    "for key in record.keys():\n",
    "    print(key,\":\",record[key][\"Name\"],\"|\", record[key][\"Price\"],\"|\", record[key][\"Quantity\"])\n",
    "    "
   ]
  },
  {
   "cell_type": "code",
   "execution_count": 2,
   "id": "174348e9",
   "metadata": {},
   "outputs": [],
   "source": [
    "sales = user_prod_id + ',' + user_name+ ',' +user_mail+ ',' +str(user_phone)+ ',' +record[user_prod_id][\"Name\"]+ ',' +str(record[user_prod_id][\"Price\"])+ ',' +str(record[user_prod_id][\"Quantity\"]) +',' +str(record[user_prod_id][\"Price\"]* record[user_prod_id][\"Quantity\"])+\",\"+time.ctime()"
   ]
  },
  {
   "cell_type": "code",
   "execution_count": 3,
   "id": "ef66784c",
   "metadata": {},
   "outputs": [
    {
     "data": {
      "text/plain": [
       "'1002,Aarushi,aarushi@gmail.com,6543217890,Milky Bar,10,280,2800,Mon Dec 18 12:51:50 2023'"
      ]
     },
     "execution_count": 3,
     "metadata": {},
     "output_type": "execute_result"
    }
   ],
   "source": [
    "sales"
   ]
  },
  {
   "cell_type": "code",
   "execution_count": 4,
   "id": "a8947614",
   "metadata": {},
   "outputs": [
    {
     "data": {
      "text/plain": [
       "{'Name': 'Milky Bar', 'Price': 10, 'Quantity': 280}"
      ]
     },
     "execution_count": 4,
     "metadata": {},
     "output_type": "execute_result"
    }
   ],
   "source": [
    "record[user_prod_id]"
   ]
  },
  {
   "cell_type": "code",
   "execution_count": 5,
   "id": "7cff36e7",
   "metadata": {},
   "outputs": [
    {
     "data": {
      "text/plain": [
       "'Mon Dec 18 12:51:50 2023'"
      ]
     },
     "execution_count": 5,
     "metadata": {},
     "output_type": "execute_result"
    }
   ],
   "source": [
    "import time\n",
    "time.ctime()"
   ]
  },
  {
   "cell_type": "code",
   "execution_count": 6,
   "id": "5827c407",
   "metadata": {},
   "outputs": [
    {
     "data": {
      "text/plain": [
       "str"
      ]
     },
     "execution_count": 6,
     "metadata": {},
     "output_type": "execute_result"
    }
   ],
   "source": [
    "type(time.ctime())"
   ]
  },
  {
   "cell_type": "code",
   "execution_count": 7,
   "id": "f66563cf",
   "metadata": {},
   "outputs": [],
   "source": [
    "fd = open(\"sales.txt\",\"a\")\n",
    "fd.write(sales)\n",
    "fd.close()"
   ]
  },
  {
   "cell_type": "code",
   "execution_count": null,
   "id": "1328ba27",
   "metadata": {},
   "outputs": [],
   "source": []
  }
 ],
 "metadata": {
  "kernelspec": {
   "display_name": "Python 3 (ipykernel)",
   "language": "python",
   "name": "python3"
  },
  "language_info": {
   "codemirror_mode": {
    "name": "ipython",
    "version": 3
   },
   "file_extension": ".py",
   "mimetype": "text/x-python",
   "name": "python",
   "nbconvert_exporter": "python",
   "pygments_lexer": "ipython3",
   "version": "3.11.5"
  }
 },
 "nbformat": 4,
 "nbformat_minor": 5
}
