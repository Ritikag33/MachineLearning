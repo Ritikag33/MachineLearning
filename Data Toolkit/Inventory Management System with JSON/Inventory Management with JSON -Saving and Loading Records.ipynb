{
 "cells": [
  {
   "cell_type": "markdown",
   "id": "6701b202",
   "metadata": {},
   "source": [
    "### JSON\n",
    "1. JSON data is represented as key-value pairs, where keys are strings and values can be strings, numbers, objects, arrays, true, false, or null. "
   ]
  },
  {
   "cell_type": "code",
   "execution_count": 1,
   "id": "f6010041",
   "metadata": {},
   "outputs": [],
   "source": [
    "# In a Dictionary values are stored in Key:Value pair\n",
    "record1 = {1001:'5 Star',\n",
    "          1002:'Milky Bar',\n",
    "          1003:'Candy',\n",
    "          1004:'Chocolate Cake',\n",
    "          1005:'Dark Chocolate'}"
   ]
  },
  {
   "cell_type": "code",
   "execution_count": 2,
   "id": "a3c175d6",
   "metadata": {},
   "outputs": [],
   "source": [
    "# Nested Dictionary\n",
    "record2 = {\n",
    "    1001:{\"Name\":\"5 Star\",        \"Price\":20,  \"Quantity\":200},\n",
    "    1002:{\"Name\":\"Milky Bar\",     \"Price\":10,  \"Quantity\":300},\n",
    "    1003:{\"Name\":\"Candy\",         \"Price\":5,   \"Quantity\":500},\n",
    "    1004:{\"Name\":\"Chocolate Cake\",\"Price\":200, \"Quantity\":20},\n",
    "    1004:{\"Name\":\"Dark Chocolate\",\"Price\":40,  \"Quantity\":50}\n",
    "    \n",
    "}"
   ]
  },
  {
   "cell_type": "code",
   "execution_count": 15,
   "id": "c0c3aeb5",
   "metadata": {},
   "outputs": [
    {
     "name": "stdout",
     "output_type": "stream",
     "text": [
      "---------------MENU-----------------\n",
      "\n",
      "1001 : 5 Star | 20 | 194\n",
      "1002 : Milky Bar | 10 | 290\n",
      "1003 : Candy | 5 | 399\n",
      "1004 : Dark Chocolate | 40 | 0\n",
      "\n",
      "------------------------------------\n",
      "\n",
      "Enter product ID:1004\n",
      "Enter Quantity:5\n",
      "Sorry we're not having enough quantity in our Inventory.\n",
      "We are only having 0 quantity.\n",
      "\n",
      "------------------------------------\n",
      "\n",
      "Press Y/y to Purchase:Y\n",
      "\n",
      "--------------BILL------------------\n",
      "\n",
      "Name            : Dark Chocolate\n",
      "Price(Rs)       : 40 Rs\n",
      "Quantity        : 0\n",
      "\n",
      "------------------------------------\n",
      "\n",
      "Billing Amount  : (0, 'Rs')\n",
      "\n",
      "------------------------------------\n",
      "\n",
      "\n",
      "----------UPDATED MENU-------------\n",
      "\n",
      "1001 : 5 Star | 20 | 194\n",
      "1002 : Milky Bar | 10 | 290\n",
      "1003 : Candy | 5 | 399\n",
      "1004 : Dark Chocolate | 40 | 0\n"
     ]
    }
   ],
   "source": [
    "import json\n",
    "\n",
    "fd = open(\"Records.json\",\"r\")\n",
    "js = fd.read()\n",
    "fd.close()\n",
    "\n",
    "# Convert string back to dictionary\n",
    "record = json.loads(js)\n",
    "\n",
    "\n",
    "print(\"---------------MENU-----------------\\n\")\n",
    "for key in record.keys():\n",
    "    print(key,\":\",record[key][\"Name\"],\"|\", record[key][\"Price\"],\"|\", record[key][\"Quantity\"])\n",
    "    \n",
    "print(\"\\n------------------------------------\\n\")\n",
    "\n",
    "user_prod_id = str(input(\"Enter product ID:\"))\n",
    "user_prod_qty = int(input(\"Enter Quantity:\"))\n",
    "\n",
    "if(record[user_prod_id][\"Quantity\"]>=user_prod_qty):\n",
    "    \n",
    "    record[user_prod_id][\"Quantity\"] = record[user_prod_id][\"Quantity\"] - user_prod_qty\n",
    "\n",
    "    print(\"\\n--------------BILL------------------\\n\")\n",
    "\n",
    "    print(\"Name            :\",record[user_prod_id][\"Name\"])\n",
    "    print(\"Price(Rs)       :\",record[user_prod_id][\"Price\"],\"Rs\")\n",
    "    print(\"Quantity        :\",user_prod_qty)\n",
    "\n",
    "    print(\"\\n------------------------------------\\n\")\n",
    "    print(\"Billing Amount  :\",(record[user_prod_id][\"Price\"]*user_prod_qty),\"Rs\")\n",
    "    print(\"\\n------------------------------------\\n\")\n",
    "    \n",
    "else:\n",
    "    print(\"Sorry we're not having enough quantity in our Inventory.\")\n",
    "    print(\"We are only having\",record[user_prod_id][\"Quantity\"],\"quantity.\")\n",
    "    print(\"\\n------------------------------------\\n\")\n",
    "    \n",
    "    ch = str(input(\"Press Y/y to Purchase:\"))\n",
    "    \n",
    "    if(ch == 'Y' or ch=='y'):\n",
    "        print(\"\\n--------------BILL------------------\\n\")\n",
    "\n",
    "        print(\"Name            :\",record[user_prod_id][\"Name\"])\n",
    "        print(\"Price(Rs)       :\",record[user_prod_id][\"Price\"],\"Rs\")\n",
    "        print(\"Quantity        :\",record[user_prod_id][\"Quantity\"])\n",
    "\n",
    "        print(\"\\n------------------------------------\\n\")\n",
    "        print(\"Billing Amount  :\",(record[user_prod_id][\"Price\"]*record[user_prod_id][\"Quantity\"],\"Rs\"))\n",
    "        print(\"\\n------------------------------------\\n\")\n",
    "\n",
    "        record[user_prod_id][\"Quantity\"] = 0\n",
    "              \n",
    "    else:\n",
    "        print(\"Thank You!\")\n",
    "\n",
    "# Convert disctionary to string\n",
    "js = json.dumps(record)\n",
    "\n",
    "fd = open(\"Records.json\",\"w\")\n",
    "fd.write(js)\n",
    "fd.close()\n",
    "\n",
    "print(\"\\n----------UPDATED MENU-------------\\n\")\n",
    "for key in record.keys():\n",
    "    print(key,\":\",record[key][\"Name\"],\"|\", record[key][\"Price\"],\"|\", record[key][\"Quantity\"])\n",
    "    \n",
    "\n"
   ]
  },
  {
   "cell_type": "code",
   "execution_count": 4,
   "id": "b53ee01d",
   "metadata": {},
   "outputs": [
    {
     "data": {
      "text/plain": [
       "{'1001': {'Name': '5 Star', 'Price': 20, 'Quantity': 194},\n",
       " '1002': {'Name': 'Milky Bar', 'Price': 10, 'Quantity': 292},\n",
       " '1003': {'Name': 'Candy', 'Price': 5, 'Quantity': 399},\n",
       " '1004': {'Name': 'Dark Chocolate', 'Price': 40, 'Quantity': 50}}"
      ]
     },
     "execution_count": 4,
     "metadata": {},
     "output_type": "execute_result"
    }
   ],
   "source": [
    "record"
   ]
  },
  {
   "cell_type": "code",
   "execution_count": 5,
   "id": "a37dbfc8",
   "metadata": {},
   "outputs": [
    {
     "name": "stdout",
     "output_type": "stream",
     "text": [
      "5 Star\n",
      "10\n",
      "399\n"
     ]
    }
   ],
   "source": [
    "# Accessing values from a nested dictionary\n",
    "print(record['1001']['Name'])\n",
    "print(record['1002']['Price'])\n",
    "print(record['1003']['Quantity'])"
   ]
  },
  {
   "cell_type": "code",
   "execution_count": 6,
   "id": "153976c2",
   "metadata": {},
   "outputs": [],
   "source": [
    "# Dictionary converted into string\n",
    "js = json.dumps(record)"
   ]
  },
  {
   "cell_type": "code",
   "execution_count": 7,
   "id": "9b9678a4",
   "metadata": {},
   "outputs": [
    {
     "data": {
      "text/plain": [
       "str"
      ]
     },
     "execution_count": 7,
     "metadata": {},
     "output_type": "execute_result"
    }
   ],
   "source": [
    "type(json.dumps(record))"
   ]
  },
  {
   "cell_type": "code",
   "execution_count": 8,
   "id": "4c9a0c68",
   "metadata": {},
   "outputs": [
    {
     "data": {
      "text/plain": [
       "{'1001': {'Name': '5 Star', 'Price': 20, 'Quantity': 194},\n",
       " '1002': {'Name': 'Milky Bar', 'Price': 10, 'Quantity': 292},\n",
       " '1003': {'Name': 'Candy', 'Price': 5, 'Quantity': 399},\n",
       " '1004': {'Name': 'Dark Chocolate', 'Price': 40, 'Quantity': 50}}"
      ]
     },
     "execution_count": 8,
     "metadata": {},
     "output_type": "execute_result"
    }
   ],
   "source": [
    "# Convert string back into Dictionary format\n",
    "json.loads(js)"
   ]
  },
  {
   "cell_type": "code",
   "execution_count": null,
   "id": "cae3c596",
   "metadata": {},
   "outputs": [],
   "source": []
  }
 ],
 "metadata": {
  "kernelspec": {
   "display_name": "Python 3 (ipykernel)",
   "language": "python",
   "name": "python3"
  },
  "language_info": {
   "codemirror_mode": {
    "name": "ipython",
    "version": 3
   },
   "file_extension": ".py",
   "mimetype": "text/x-python",
   "name": "python",
   "nbconvert_exporter": "python",
   "pygments_lexer": "ipython3",
   "version": "3.11.5"
  }
 },
 "nbformat": 4,
 "nbformat_minor": 5
}
