{
 "cells": [
  {
   "cell_type": "code",
   "execution_count": 1,
   "id": "6e08712d",
   "metadata": {},
   "outputs": [],
   "source": [
    "# Inventory : Program or database where the whole data of a particular shop is managed"
   ]
  },
  {
   "cell_type": "code",
   "execution_count": 2,
   "id": "fd3eb1ba",
   "metadata": {},
   "outputs": [],
   "source": [
    "# Opening a text file in write mode\n",
    "fd = open(\"Inventory.txt\",\"w\")\n",
    "fd.close()"
   ]
  },
  {
   "cell_type": "markdown",
   "id": "1feaef52",
   "metadata": {},
   "source": [
    "### Product Details\n",
    "1. Product ID\n",
    "2. Name of Product\n",
    "3. Price of Product\n",
    "4. Quantity"
   ]
  },
  {
   "cell_type": "code",
   "execution_count": 3,
   "id": "ff5e0db6",
   "metadata": {},
   "outputs": [],
   "source": [
    "fd = open(\"Inventory.txt\",\"r\")\n",
    "txt = fd.read()\n",
    "\n",
    "fd.close()"
   ]
  },
  {
   "cell_type": "code",
   "execution_count": 4,
   "id": "38b052a2",
   "metadata": {},
   "outputs": [
    {
     "data": {
      "text/plain": [
       "'1,5 Star,5,100\\n2,Milky Bar,5,100\\n3,Cake,300,5\\n4,Candy,1,200'"
      ]
     },
     "execution_count": 4,
     "metadata": {},
     "output_type": "execute_result"
    }
   ],
   "source": [
    "txt"
   ]
  },
  {
   "cell_type": "code",
   "execution_count": 5,
   "id": "5d9cace5",
   "metadata": {},
   "outputs": [
    {
     "name": "stdout",
     "output_type": "stream",
     "text": [
      "1,5 Star,5,100\n",
      "2,Milky Bar,5,100\n",
      "3,Cake,300,5\n",
      "4,Candy,1,200\n"
     ]
    }
   ],
   "source": [
    "print(txt)"
   ]
  },
  {
   "cell_type": "code",
   "execution_count": 9,
   "id": "db7f68bb",
   "metadata": {},
   "outputs": [
    {
     "data": {
      "text/plain": [
       "['1,5 Star,5,100', '2,Milky Bar,5,100', '3,Cake,300,5', '4,Candy,1,200']"
      ]
     },
     "execution_count": 9,
     "metadata": {},
     "output_type": "execute_result"
    }
   ],
   "source": [
    "# Printing detail of each product\n",
    "products = txt.split(\"\\n\")\n",
    "products"
   ]
  },
  {
   "cell_type": "code",
   "execution_count": 10,
   "id": "5aa1ffce",
   "metadata": {},
   "outputs": [
    {
     "data": {
      "text/plain": [
       "4"
      ]
     },
     "execution_count": 10,
     "metadata": {},
     "output_type": "execute_result"
    }
   ],
   "source": [
    "len(products)"
   ]
  },
  {
   "cell_type": "code",
   "execution_count": 12,
   "id": "c3b7e0fe",
   "metadata": {},
   "outputs": [
    {
     "name": "stdout",
     "output_type": "stream",
     "text": [
      "1,5 Star,5,100\n",
      "2,Milky Bar,5,100\n",
      "3,Cake,300,5\n",
      "4,Candy,1,200\n",
      "<class 'str'>\n"
     ]
    }
   ],
   "source": [
    "for product in products:\n",
    "    print(product)\n",
    "print(type(product))"
   ]
  },
  {
   "cell_type": "code",
   "execution_count": 19,
   "id": "a6f8740d",
   "metadata": {},
   "outputs": [
    {
     "name": "stdout",
     "output_type": "stream",
     "text": [
      "1,5 Star,5,100\n",
      "['1', '5 Star', '5', '100']\n",
      "Product ID:\n",
      "1\n",
      "2,Milky Bar,5,100\n",
      "['2', 'Milky Bar', '5', '100']\n",
      "Product ID:\n",
      "2\n",
      "3,Cake,300,5\n",
      "['3', 'Cake', '300', '5']\n",
      "Product ID:\n",
      "3\n",
      "4,Candy,1,200\n",
      "['4', 'Candy', '1', '200']\n",
      "Product ID:\n",
      "4\n"
     ]
    }
   ],
   "source": [
    "# All details about the product are comma seperated\n",
    "for product in products:\n",
    "    print(product)\n",
    "    # Returns a list\n",
    "    print(product.split(','))\n",
    "    print(\"Product ID:\")\n",
    "    print(product.split(',')[0])"
   ]
  },
  {
   "cell_type": "code",
   "execution_count": 21,
   "id": "58763f2f",
   "metadata": {},
   "outputs": [
    {
     "name": "stdout",
     "output_type": "stream",
     "text": [
      "Enter product ID:4\n",
      "4,Candy,1,200\n"
     ]
    }
   ],
   "source": [
    "ui_prod_id = input(\"Enter product ID:\")\n",
    "for product in products:\n",
    "    if (product.split(',')[0])== ui_prod_id:\n",
    "        print(product)"
   ]
  },
  {
   "cell_type": "markdown",
   "id": "c79f2465",
   "metadata": {},
   "source": [
    "### INVENTORY MANAGEMENT"
   ]
  },
  {
   "cell_type": "code",
   "execution_count": 100,
   "id": "31cc2c77",
   "metadata": {},
   "outputs": [
    {
     "name": "stdout",
     "output_type": "stream",
     "text": [
      "Enter product ID:1\n",
      "Enter product quantity:1\n",
      "**********************************\n",
      "Product Name: 5 Star\n",
      "Price of Product: 5\n",
      "Quantity: 1\n",
      "**********************************\n",
      "Billing Amount: 5\n",
      "**********************************\n",
      "Updated Inventory list:\n",
      "1,5 Star,5,98\n",
      "\n",
      "2,Milky Bar,5,96\n",
      "\n",
      "3,Cake,300,0\n",
      "\n",
      "4,Candy,1,199\n",
      "\n"
     ]
    }
   ],
   "source": [
    "# Opening the inventory file and reading all the details\n",
    "fd = open('Inventory.txt','r')\n",
    "products = fd.read().split('\\n')\n",
    "fd.close()\n",
    "# When a user wants to make a purchase\n",
    "# Taking the user input\n",
    "user_prod_id = input(\"Enter product ID:\")\n",
    "user_prod_qty = input(\"Enter product quantity:\")\n",
    "\n",
    "updated_product_list = []\n",
    "# Going through each product detail\n",
    "for product in products:\n",
    "    \n",
    "    product_details = product.split(',')\n",
    "     # Checking if product exists\n",
    "    if (product_details[0] ==user_prod_id):\n",
    "        # Checking if we are having enough quantity\n",
    "        if(int(user_prod_qty)>int(product_details[3])):\n",
    "            # When we are not having enough quantity\n",
    "            print(\"-------------------------------\")\n",
    "            print(\"No sufficient product quantity\")\n",
    "            print(\"We are having only\",product_details[3],\"quantity of product\")\n",
    "            print(\"Would you like to purchase it?\")\n",
    "            ch = input(\"Press y/n\")\n",
    "            # If you want to purchase remaining quantity\n",
    "            if (ch == 'Y' or ch == 'y'):\n",
    "                print('**********************************')\n",
    "                print(\"Product Name:\",product_details[1])\n",
    "                print(\"Price of Product:\",product_details[2])\n",
    "                print(\"Quantity:\",product_details[3])\n",
    "                print('**********************************')\n",
    "                print('Billing Amount:',int(product_details[3])*int(product_details[2]))\n",
    "                print('**********************************')\n",
    "\n",
    "                    #Updating Quantity\n",
    "                product_details[3] = '0'\n",
    "            else:\n",
    "                print(\"Thank You!\")\n",
    "\n",
    "                print(\"-------------------------------\")\n",
    "            \n",
    "        # When we are having enough quantity\n",
    "        else :\n",
    "            print('**********************************')\n",
    "            print(\"Product Name:\",product_details[1])\n",
    "            print(\"Price of Product:\",product_details[2])\n",
    "            print(\"Quantity:\",user_prod_qty)\n",
    "            print('**********************************')\n",
    "            print('Billing Amount:',int(user_prod_qty)*int(product_details[2]))\n",
    "            print('**********************************')\n",
    "\n",
    "            #Updating Quantity\n",
    "            product_details[3] = str(int(product_details[3]) - int(user_prod_qty))\n",
    "        \n",
    "    # Updating my inventory list\n",
    "    updated_product_list.append(product_details)\n",
    "    \n",
    "lst = []\n",
    "# Updating my inventory string\n",
    "for i in updated_product_list:\n",
    "   if len(i) >= 4:\n",
    "        product = i[0] + ',' + i[1] + ',' + i[2] + ',' + i[3] + '\\n'\n",
    "        lst.append(product)\n",
    "\n",
    "print(\"Updated Inventory list:\")\n",
    "for products in lst:\n",
    "    print(products)\n",
    "\n",
    "# Updating the last item such that \\n is not added at the end of list product\n",
    "lst[-1] = lst[-1][:-1]\n",
    "# Updating my inventory file\n",
    "fd  = open('Inventory.txt','w')\n",
    "\n",
    "for i in lst:\n",
    "    fd.write(i)\n",
    "    \n",
    "fd.close()"
   ]
  },
  {
   "cell_type": "markdown",
   "id": "18adee31",
   "metadata": {},
   "source": [
    "### Updating Inventory"
   ]
  },
  {
   "cell_type": "code",
   "execution_count": 35,
   "id": "d8de90b9",
   "metadata": {},
   "outputs": [
    {
     "name": "stdout",
     "output_type": "stream",
     "text": [
      "1,5 Star,5,100\n",
      "2,Milky Bar,5,100\n",
      "3,Cake,300,5\n",
      "4,Candy,1,200\n"
     ]
    }
   ],
   "source": [
    "for i in products:\n",
    "    print(i)"
   ]
  },
  {
   "cell_type": "code",
   "execution_count": 44,
   "id": "260e1434",
   "metadata": {},
   "outputs": [
    {
     "name": "stdout",
     "output_type": "stream",
     "text": [
      "1,5 Star,5,95\n",
      "2,Milky Bar,5,100\n",
      "3,Cake,300,5\n",
      "4,Candy,1,200\n"
     ]
    }
   ],
   "source": [
    "for i in updated_product_list:\n",
    "    product = i[0]+','+i[1]+','+i[2]+','+i[3]\n",
    "    print(product)"
   ]
  },
  {
   "cell_type": "code",
   "execution_count": 42,
   "id": "833a121e",
   "metadata": {},
   "outputs": [],
   "source": [
    "# Update the data in the file\n",
    "fd  = open('Inventory.txt','w')\n",
    "for i in updated_product_list:\n",
    "    product = i[0]+','+i[1]+','+i[2]+','+i[3]+ '\\n'\n",
    "    fd.write(product)\n",
    "fd.close()"
   ]
  },
  {
   "cell_type": "code",
   "execution_count": null,
   "id": "e5d52484",
   "metadata": {},
   "outputs": [],
   "source": []
  }
 ],
 "metadata": {
  "kernelspec": {
   "display_name": "Python 3 (ipykernel)",
   "language": "python",
   "name": "python3"
  },
  "language_info": {
   "codemirror_mode": {
    "name": "ipython",
    "version": 3
   },
   "file_extension": ".py",
   "mimetype": "text/x-python",
   "name": "python",
   "nbconvert_exporter": "python",
   "pygments_lexer": "ipython3",
   "version": "3.11.5"
  }
 },
 "nbformat": 4,
 "nbformat_minor": 5
}
