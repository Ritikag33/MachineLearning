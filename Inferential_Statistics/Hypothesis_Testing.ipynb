{
 "cells": [
  {
   "cell_type": "markdown",
   "id": "2c2ebb41",
   "metadata": {},
   "source": [
    "# Z-Test"
   ]
  },
  {
   "cell_type": "code",
   "execution_count": 2,
   "id": "6f3a5b56",
   "metadata": {},
   "outputs": [],
   "source": [
    "import math\n",
    "import numpy as np\n",
    "import scipy"
   ]
  },
  {
   "cell_type": "markdown",
   "id": "8bb86504",
   "metadata": {},
   "source": [
    "A school claimed that the students study that is more intelligent than the average school. On calculating the IQ score of 50 students, the average turns out to be 110. The mean of the population IQ is 100 and the standard deviation is 15. State whether the claim of principal is right or not at 5% significance level."
   ]
  },
  {
   "cell_type": "code",
   "execution_count": 3,
   "id": "bbb2e470",
   "metadata": {},
   "outputs": [],
   "source": [
    "alpha=0.05"
   ]
  },
  {
   "cell_type": "code",
   "execution_count": 4,
   "id": "8d119f29",
   "metadata": {},
   "outputs": [],
   "source": [
    "import scipy.stats"
   ]
  },
  {
   "cell_type": "code",
   "execution_count": 5,
   "id": "48c1b6b0",
   "metadata": {},
   "outputs": [],
   "source": [
    "#Defining z-test function\n",
    "def ztest(n,sample_mean,pop_mean,pop_sd,alternative):\n",
    "    z_score=(sample_mean-pop_mean)/(pop_sd/math.sqrt(n))\n",
    "    #Gives value of p for a given z-score\n",
    "    p_value = scipy.stats.norm.sf(z_score)\n",
    "    print(z_score)\n",
    "    print(p_value)\n",
    "    if(alternative == \"one-sided\"):\n",
    "        if(p_value<alpha):\n",
    "            print(\"Reject the null hypothesis\")\n",
    "        else:\n",
    "            print(\"Failed to reject the null hypothesis\")\n",
    "    elif(alternative == \"two-sided\"):\n",
    "        if(p_value<alpha/2):\n",
    "            print(\"Reject the null hypothesis\")\n",
    "        else:\n",
    "            print(\"Failed to reject the null hypothesis\")"
   ]
  },
  {
   "cell_type": "code",
   "execution_count": 6,
   "id": "4fa14f6b",
   "metadata": {},
   "outputs": [
    {
     "name": "stdout",
     "output_type": "stream",
     "text": [
      "4.714045207910317\n",
      "1.2142337364879197e-06\n",
      "Reject the null hypothesis\n"
     ]
    }
   ],
   "source": [
    "ztest(50,110,100,15,\"one-sided\")"
   ]
  },
  {
   "cell_type": "markdown",
   "id": "3aadbacf",
   "metadata": {},
   "source": [
    "A teacher claims that the mean score of students in his class is greater than 82 with the standard deviation of 20. If a sample of 81 students was selected with the eman score of 90 then check if there is enough evidence to support this claim at a 0.05 significance level.\n"
   ]
  },
  {
   "cell_type": "code",
   "execution_count": 7,
   "id": "4f2d8b98",
   "metadata": {},
   "outputs": [
    {
     "name": "stdout",
     "output_type": "stream",
     "text": [
      "3.5999999999999996\n",
      "0.00015910859015753396\n",
      "Reject the null hypothesis\n"
     ]
    }
   ],
   "source": [
    "ztest(81,90,82,20,\"one-sided\")"
   ]
  },
  {
   "cell_type": "markdown",
   "id": "fb4adf96",
   "metadata": {},
   "source": [
    "# T-Test"
   ]
  },
  {
   "cell_type": "code",
   "execution_count": 8,
   "id": "7c4cf3ea",
   "metadata": {},
   "outputs": [],
   "source": [
    "import numpy as np\n",
    "from numpy.random import randn\n",
    "import scipy.stats as stats"
   ]
  },
  {
   "cell_type": "markdown",
   "id": "caeeb368",
   "metadata": {},
   "source": [
    "A school claimed that the students study that is more intelligent than the average school. On calculating the IQ scores of 30 students, the average turns out to be 140 and standard deviation is 20. The mean of the population IQ is 100. State whether the claim of principal is right or not at 5% significance level"
   ]
  },
  {
   "cell_type": "code",
   "execution_count": 9,
   "id": "cc51da10",
   "metadata": {},
   "outputs": [],
   "source": [
    "sample_mean=140\n",
    "sample_std=20\n",
    "data = sample_std*randn(30)+sample_mean"
   ]
  },
  {
   "cell_type": "code",
   "execution_count": 10,
   "id": "48c1d98b",
   "metadata": {},
   "outputs": [],
   "source": [
    "alpha = 0.05"
   ]
  },
  {
   "cell_type": "code",
   "execution_count": 11,
   "id": "4d493bb1",
   "metadata": {},
   "outputs": [
    {
     "name": "stdout",
     "output_type": "stream",
     "text": [
      "138.1050803557674 17.92251912272558\n"
     ]
    }
   ],
   "source": [
    "print(np.mean(data),(np.std(data)))"
   ]
  },
  {
   "cell_type": "code",
   "execution_count": 12,
   "id": "4ce1cbea",
   "metadata": {},
   "outputs": [],
   "source": [
    "#T-Test for 1 sample\n",
    "t_statistic,pvalue = stats.ttest_1samp(a=data, popmean=100)"
   ]
  },
  {
   "cell_type": "code",
   "execution_count": 13,
   "id": "c7590bfa",
   "metadata": {},
   "outputs": [
    {
     "name": "stdout",
     "output_type": "stream",
     "text": [
      "Reject the null hypothesis\n"
     ]
    }
   ],
   "source": [
    "if(pvalue<alpha):\n",
    "    print(\"Reject the null hypothesis\")\n",
    "else:\n",
    "    print(\"Fail to reject the null hypothesis\")"
   ]
  },
  {
   "cell_type": "markdown",
   "id": "5ba41254",
   "metadata": {},
   "source": [
    "# Chi-Square Test"
   ]
  },
  {
   "cell_type": "code",
   "execution_count": 14,
   "id": "4b45c82b",
   "metadata": {},
   "outputs": [],
   "source": [
    "from scipy.stats import chisquare"
   ]
  },
  {
   "cell_type": "code",
   "execution_count": 17,
   "id": "3a839802",
   "metadata": {},
   "outputs": [],
   "source": [
    "chi_square,p_value=chisquare([48,24,24]) #Favourible Indifferent Unfavourale"
   ]
  },
  {
   "cell_type": "code",
   "execution_count": 18,
   "id": "b4c13628",
   "metadata": {},
   "outputs": [
    {
     "data": {
      "text/plain": [
       "(12.0, 0.002478752176666357)"
      ]
     },
     "execution_count": 18,
     "metadata": {},
     "output_type": "execute_result"
    }
   ],
   "source": [
    "chi_square, p_value"
   ]
  },
  {
   "cell_type": "code",
   "execution_count": 19,
   "id": "d69f6f32",
   "metadata": {},
   "outputs": [],
   "source": [
    "alpha=0.05"
   ]
  },
  {
   "cell_type": "code",
   "execution_count": 20,
   "id": "978aa3ef",
   "metadata": {},
   "outputs": [
    {
     "name": "stdout",
     "output_type": "stream",
     "text": [
      "Dependent (Reject H0)\n"
     ]
    }
   ],
   "source": [
    "if(p_value<alpha):\n",
    "    print(\"Dependent (Reject H0)\")\n",
    "else:\n",
    "    print(\"Independent (H0 holds true)\")"
   ]
  },
  {
   "cell_type": "code",
   "execution_count": 23,
   "id": "ab7515c4",
   "metadata": {},
   "outputs": [],
   "source": [
    "chisquare2,p_value2=chisquare([5,9,13,7,6])"
   ]
  },
  {
   "cell_type": "code",
   "execution_count": 27,
   "id": "d18bcf1d",
   "metadata": {},
   "outputs": [
    {
     "data": {
      "text/plain": [
       "(5.0, 0.2872974951836458)"
      ]
     },
     "execution_count": 27,
     "metadata": {},
     "output_type": "execute_result"
    }
   ],
   "source": [
    "chisquare2,p_value2"
   ]
  },
  {
   "cell_type": "code",
   "execution_count": 24,
   "id": "f79254e2",
   "metadata": {},
   "outputs": [],
   "source": [
    "alpha=0.05"
   ]
  },
  {
   "cell_type": "code",
   "execution_count": 26,
   "id": "ae35f449",
   "metadata": {},
   "outputs": [
    {
     "name": "stdout",
     "output_type": "stream",
     "text": [
      "Independent (H0 holds true)\n"
     ]
    }
   ],
   "source": [
    "if(p_value2<alpha):\n",
    "    print(\"Dependent (reject H0)\")\n",
    "else:\n",
    "    print(\"Independent (H0 holds true)\")"
   ]
  },
  {
   "cell_type": "code",
   "execution_count": 28,
   "id": "94ad1afe",
   "metadata": {},
   "outputs": [],
   "source": [
    "from scipy.stats import chi2_contingency"
   ]
  },
  {
   "cell_type": "code",
   "execution_count": 34,
   "id": "11ce62b5",
   "metadata": {},
   "outputs": [
    {
     "data": {
      "text/plain": [
       "(4.542228269825232,\n",
       " 0.1031971404730939,\n",
       " 2,\n",
       " array([[223.87343533, 266.00834492, 240.11821975],\n",
       "        [217.12656467, 257.99165508, 232.88178025]]))"
      ]
     },
     "execution_count": 34,
     "metadata": {},
     "output_type": "execute_result"
    }
   ],
   "source": [
    "#Returs Statistic, p-value, dof, expected value\n",
    "chi2_contingency([[207,282,241],[234,242,232]]) #Gives the expected frequency"
   ]
  },
  {
   "cell_type": "markdown",
   "id": "c40e2d2a",
   "metadata": {},
   "source": [
    "# Chi-Squared Test for Feature Selection"
   ]
  },
  {
   "cell_type": "code",
   "execution_count": 35,
   "id": "f9a00040",
   "metadata": {},
   "outputs": [],
   "source": [
    "outlook_data=[[2,3],[4,0],[3,2]]"
   ]
  },
  {
   "cell_type": "code",
   "execution_count": 36,
   "id": "618d97f4",
   "metadata": {},
   "outputs": [
    {
     "data": {
      "text/plain": [
       "(3.546666666666666,\n",
       " 0.16976615743981124,\n",
       " 2,\n",
       " array([[3.21428571, 1.78571429],\n",
       "        [2.57142857, 1.42857143],\n",
       "        [3.21428571, 1.78571429]]))"
      ]
     },
     "execution_count": 36,
     "metadata": {},
     "output_type": "execute_result"
    }
   ],
   "source": [
    "chi2_contingency(outlook_data)"
   ]
  },
  {
   "cell_type": "code",
   "execution_count": 37,
   "id": "78488191",
   "metadata": {},
   "outputs": [],
   "source": [
    "wind_data =[[3,3],[6,2]]"
   ]
  },
  {
   "cell_type": "code",
   "execution_count": 38,
   "id": "c0dc1f78",
   "metadata": {},
   "outputs": [
    {
     "data": {
      "text/plain": [
       "(0.16203703703703703,\n",
       " 0.687287949348002,\n",
       " 1,\n",
       " array([[3.85714286, 2.14285714],\n",
       "        [5.14285714, 2.85714286]]))"
      ]
     },
     "execution_count": 38,
     "metadata": {},
     "output_type": "execute_result"
    }
   ],
   "source": [
    "chi2_contingency(wind_data)"
   ]
  },
  {
   "cell_type": "code",
   "execution_count": 39,
   "id": "fcafa98d",
   "metadata": {},
   "outputs": [],
   "source": [
    "obs = [3,3,6,2]\n",
    "exp = [3.85714286, 2.14285714,5.14285714, 2.85714286]"
   ]
  },
  {
   "cell_type": "code",
   "execution_count": 41,
   "id": "6e5326ba",
   "metadata": {},
   "outputs": [
    {
     "data": {
      "text/plain": [
       "Power_divergenceResult(statistic=0.9333333396938274, pvalue=0.8173771570701455)"
      ]
     },
     "execution_count": 41,
     "metadata": {},
     "output_type": "execute_result"
    }
   ],
   "source": [
    "chisquare(obs,exp)"
   ]
  },
  {
   "cell_type": "markdown",
   "id": "b9fa27ad",
   "metadata": {},
   "source": [
    "Since wind data has less chi square value then outlook data therefore outlook feature is important"
   ]
  },
  {
   "cell_type": "markdown",
   "id": "17635e5b",
   "metadata": {},
   "source": [
    "# One-Way Annova"
   ]
  },
  {
   "cell_type": "code",
   "execution_count": 42,
   "id": "3d9619b0",
   "metadata": {},
   "outputs": [],
   "source": [
    "from scipy.stats import f_oneway"
   ]
  },
  {
   "cell_type": "code",
   "execution_count": 43,
   "id": "e09448ed",
   "metadata": {},
   "outputs": [],
   "source": [
    "e = [2,4,2]\n",
    "m = [2,3,4]\n",
    "s = [1,2,5]"
   ]
  },
  {
   "cell_type": "code",
   "execution_count": 45,
   "id": "38193503",
   "metadata": {},
   "outputs": [],
   "source": [
    "stat, p_value=f_oneway(e,m,s)"
   ]
  },
  {
   "cell_type": "code",
   "execution_count": 46,
   "id": "842bd03a",
   "metadata": {},
   "outputs": [],
   "source": [
    "alpha=0.05"
   ]
  },
  {
   "cell_type": "code",
   "execution_count": 47,
   "id": "844a9a14",
   "metadata": {},
   "outputs": [
    {
     "name": "stdout",
     "output_type": "stream",
     "text": [
      "We failed to reject the null hypothesis\n"
     ]
    }
   ],
   "source": [
    "if(p_value<alpha):\n",
    "    print(\"Reject the null hypothesis\")\n",
    "else:\n",
    "    print(\"We failed to reject the null hypothesis\")"
   ]
  },
  {
   "cell_type": "code",
   "execution_count": 48,
   "id": "017d2b4c",
   "metadata": {},
   "outputs": [],
   "source": [
    "performance1=[89,89,88,78,79]\n",
    "performance2=[93,92,94,89,88]\n",
    "performance3=[89,88,89,93,90]\n",
    "performance4=[81,78,81,92,82]"
   ]
  },
  {
   "cell_type": "code",
   "execution_count": 50,
   "id": "3f8e03fc",
   "metadata": {},
   "outputs": [],
   "source": [
    "stat,p_value=f_oneway(performance1,performance2,performance3,performance4)"
   ]
  },
  {
   "cell_type": "code",
   "execution_count": 51,
   "id": "ecab6565",
   "metadata": {},
   "outputs": [
    {
     "name": "stdout",
     "output_type": "stream",
     "text": [
      "Reject the null hypothesis\n"
     ]
    }
   ],
   "source": [
    "if(p_value<alpha):\n",
    "    print(\"Reject the null hypothesis\")\n",
    "else:\n",
    "    print(\"We fail to reject the null hypothesis\")"
   ]
  },
  {
   "cell_type": "markdown",
   "id": "bf5ca38d",
   "metadata": {},
   "source": [
    "# 2-Way Annova Test"
   ]
  },
  {
   "cell_type": "code",
   "execution_count": 55,
   "id": "dfb32b2c",
   "metadata": {},
   "outputs": [],
   "source": [
    "import numpy as np\n",
    "import pandas as pd\n",
    "import statsmodels.api as sm #Run 2-Way Annova test\n",
    "from statsmodels.formula.api import ols"
   ]
  },
  {
   "cell_type": "markdown",
   "id": "df84d432",
   "metadata": {},
   "source": [
    "Test whether plant growth is affected by fertilizers ad watering frequency"
   ]
  },
  {
   "cell_type": "code",
   "execution_count": 54,
   "id": "9e1f3102",
   "metadata": {},
   "outputs": [],
   "source": [
    "#Creating a dataframe\n",
    "dataframe= pd.DataFrame({'Fertilizer':np.repeat(['daily','weekly'],15),\n",
    "                        'Watering':np.repeat(['daily','weekly'],15),\n",
    "                        'height':[14,16,15,15,16,13,12,11,14,\n",
    "                                 15,16,16,17,18,14,13,14,14,\n",
    "                                 14,15,16,16,17,28,14,13,14,\n",
    "                                 14,14,15]})"
   ]
  },
  {
   "cell_type": "code",
   "execution_count": 56,
   "id": "a2e5fca8",
   "metadata": {},
   "outputs": [
    {
     "data": {
      "text/html": [
       "<div>\n",
       "<style scoped>\n",
       "    .dataframe tbody tr th:only-of-type {\n",
       "        vertical-align: middle;\n",
       "    }\n",
       "\n",
       "    .dataframe tbody tr th {\n",
       "        vertical-align: top;\n",
       "    }\n",
       "\n",
       "    .dataframe thead th {\n",
       "        text-align: right;\n",
       "    }\n",
       "</style>\n",
       "<table border=\"1\" class=\"dataframe\">\n",
       "  <thead>\n",
       "    <tr style=\"text-align: right;\">\n",
       "      <th></th>\n",
       "      <th>Fertilizer</th>\n",
       "      <th>Watering</th>\n",
       "      <th>height</th>\n",
       "    </tr>\n",
       "  </thead>\n",
       "  <tbody>\n",
       "    <tr>\n",
       "      <th>0</th>\n",
       "      <td>daily</td>\n",
       "      <td>daily</td>\n",
       "      <td>14</td>\n",
       "    </tr>\n",
       "    <tr>\n",
       "      <th>1</th>\n",
       "      <td>daily</td>\n",
       "      <td>daily</td>\n",
       "      <td>16</td>\n",
       "    </tr>\n",
       "    <tr>\n",
       "      <th>2</th>\n",
       "      <td>daily</td>\n",
       "      <td>daily</td>\n",
       "      <td>15</td>\n",
       "    </tr>\n",
       "    <tr>\n",
       "      <th>3</th>\n",
       "      <td>daily</td>\n",
       "      <td>daily</td>\n",
       "      <td>15</td>\n",
       "    </tr>\n",
       "    <tr>\n",
       "      <th>4</th>\n",
       "      <td>daily</td>\n",
       "      <td>daily</td>\n",
       "      <td>16</td>\n",
       "    </tr>\n",
       "    <tr>\n",
       "      <th>5</th>\n",
       "      <td>daily</td>\n",
       "      <td>daily</td>\n",
       "      <td>13</td>\n",
       "    </tr>\n",
       "    <tr>\n",
       "      <th>6</th>\n",
       "      <td>daily</td>\n",
       "      <td>daily</td>\n",
       "      <td>12</td>\n",
       "    </tr>\n",
       "    <tr>\n",
       "      <th>7</th>\n",
       "      <td>daily</td>\n",
       "      <td>daily</td>\n",
       "      <td>11</td>\n",
       "    </tr>\n",
       "    <tr>\n",
       "      <th>8</th>\n",
       "      <td>daily</td>\n",
       "      <td>daily</td>\n",
       "      <td>14</td>\n",
       "    </tr>\n",
       "    <tr>\n",
       "      <th>9</th>\n",
       "      <td>daily</td>\n",
       "      <td>daily</td>\n",
       "      <td>15</td>\n",
       "    </tr>\n",
       "    <tr>\n",
       "      <th>10</th>\n",
       "      <td>daily</td>\n",
       "      <td>daily</td>\n",
       "      <td>16</td>\n",
       "    </tr>\n",
       "    <tr>\n",
       "      <th>11</th>\n",
       "      <td>daily</td>\n",
       "      <td>daily</td>\n",
       "      <td>16</td>\n",
       "    </tr>\n",
       "    <tr>\n",
       "      <th>12</th>\n",
       "      <td>daily</td>\n",
       "      <td>daily</td>\n",
       "      <td>17</td>\n",
       "    </tr>\n",
       "    <tr>\n",
       "      <th>13</th>\n",
       "      <td>daily</td>\n",
       "      <td>daily</td>\n",
       "      <td>18</td>\n",
       "    </tr>\n",
       "    <tr>\n",
       "      <th>14</th>\n",
       "      <td>daily</td>\n",
       "      <td>daily</td>\n",
       "      <td>14</td>\n",
       "    </tr>\n",
       "    <tr>\n",
       "      <th>15</th>\n",
       "      <td>weekly</td>\n",
       "      <td>weekly</td>\n",
       "      <td>13</td>\n",
       "    </tr>\n",
       "    <tr>\n",
       "      <th>16</th>\n",
       "      <td>weekly</td>\n",
       "      <td>weekly</td>\n",
       "      <td>14</td>\n",
       "    </tr>\n",
       "    <tr>\n",
       "      <th>17</th>\n",
       "      <td>weekly</td>\n",
       "      <td>weekly</td>\n",
       "      <td>14</td>\n",
       "    </tr>\n",
       "    <tr>\n",
       "      <th>18</th>\n",
       "      <td>weekly</td>\n",
       "      <td>weekly</td>\n",
       "      <td>14</td>\n",
       "    </tr>\n",
       "    <tr>\n",
       "      <th>19</th>\n",
       "      <td>weekly</td>\n",
       "      <td>weekly</td>\n",
       "      <td>15</td>\n",
       "    </tr>\n",
       "    <tr>\n",
       "      <th>20</th>\n",
       "      <td>weekly</td>\n",
       "      <td>weekly</td>\n",
       "      <td>16</td>\n",
       "    </tr>\n",
       "    <tr>\n",
       "      <th>21</th>\n",
       "      <td>weekly</td>\n",
       "      <td>weekly</td>\n",
       "      <td>16</td>\n",
       "    </tr>\n",
       "    <tr>\n",
       "      <th>22</th>\n",
       "      <td>weekly</td>\n",
       "      <td>weekly</td>\n",
       "      <td>17</td>\n",
       "    </tr>\n",
       "    <tr>\n",
       "      <th>23</th>\n",
       "      <td>weekly</td>\n",
       "      <td>weekly</td>\n",
       "      <td>28</td>\n",
       "    </tr>\n",
       "    <tr>\n",
       "      <th>24</th>\n",
       "      <td>weekly</td>\n",
       "      <td>weekly</td>\n",
       "      <td>14</td>\n",
       "    </tr>\n",
       "    <tr>\n",
       "      <th>25</th>\n",
       "      <td>weekly</td>\n",
       "      <td>weekly</td>\n",
       "      <td>13</td>\n",
       "    </tr>\n",
       "    <tr>\n",
       "      <th>26</th>\n",
       "      <td>weekly</td>\n",
       "      <td>weekly</td>\n",
       "      <td>14</td>\n",
       "    </tr>\n",
       "    <tr>\n",
       "      <th>27</th>\n",
       "      <td>weekly</td>\n",
       "      <td>weekly</td>\n",
       "      <td>14</td>\n",
       "    </tr>\n",
       "    <tr>\n",
       "      <th>28</th>\n",
       "      <td>weekly</td>\n",
       "      <td>weekly</td>\n",
       "      <td>14</td>\n",
       "    </tr>\n",
       "    <tr>\n",
       "      <th>29</th>\n",
       "      <td>weekly</td>\n",
       "      <td>weekly</td>\n",
       "      <td>15</td>\n",
       "    </tr>\n",
       "  </tbody>\n",
       "</table>\n",
       "</div>"
      ],
      "text/plain": [
       "   Fertilizer Watering  height\n",
       "0       daily    daily      14\n",
       "1       daily    daily      16\n",
       "2       daily    daily      15\n",
       "3       daily    daily      15\n",
       "4       daily    daily      16\n",
       "5       daily    daily      13\n",
       "6       daily    daily      12\n",
       "7       daily    daily      11\n",
       "8       daily    daily      14\n",
       "9       daily    daily      15\n",
       "10      daily    daily      16\n",
       "11      daily    daily      16\n",
       "12      daily    daily      17\n",
       "13      daily    daily      18\n",
       "14      daily    daily      14\n",
       "15     weekly   weekly      13\n",
       "16     weekly   weekly      14\n",
       "17     weekly   weekly      14\n",
       "18     weekly   weekly      14\n",
       "19     weekly   weekly      15\n",
       "20     weekly   weekly      16\n",
       "21     weekly   weekly      16\n",
       "22     weekly   weekly      17\n",
       "23     weekly   weekly      28\n",
       "24     weekly   weekly      14\n",
       "25     weekly   weekly      13\n",
       "26     weekly   weekly      14\n",
       "27     weekly   weekly      14\n",
       "28     weekly   weekly      14\n",
       "29     weekly   weekly      15"
      ]
     },
     "execution_count": 56,
     "metadata": {},
     "output_type": "execute_result"
    }
   ],
   "source": [
    "dataframe"
   ]
  },
  {
   "cell_type": "code",
   "execution_count": 60,
   "id": "935e153a",
   "metadata": {},
   "outputs": [],
   "source": [
    "model = ols('height~ Fertilizer + Watering + Fertilizer:Watering',dataframe).fit()"
   ]
  },
  {
   "cell_type": "code",
   "execution_count": 63,
   "id": "7f8bd894",
   "metadata": {},
   "outputs": [],
   "source": [
    "#lm: Linear Regression model\n",
    "result= sm.stats.anova_lm(model,type = 2)"
   ]
  },
  {
   "cell_type": "code",
   "execution_count": 64,
   "id": "6bf0b584",
   "metadata": {},
   "outputs": [
    {
     "data": {
      "text/html": [
       "<div>\n",
       "<style scoped>\n",
       "    .dataframe tbody tr th:only-of-type {\n",
       "        vertical-align: middle;\n",
       "    }\n",
       "\n",
       "    .dataframe tbody tr th {\n",
       "        vertical-align: top;\n",
       "    }\n",
       "\n",
       "    .dataframe thead th {\n",
       "        text-align: right;\n",
       "    }\n",
       "</style>\n",
       "<table border=\"1\" class=\"dataframe\">\n",
       "  <thead>\n",
       "    <tr style=\"text-align: right;\">\n",
       "      <th></th>\n",
       "      <th>df</th>\n",
       "      <th>sum_sq</th>\n",
       "      <th>mean_sq</th>\n",
       "      <th>F</th>\n",
       "      <th>PR(&gt;F)</th>\n",
       "    </tr>\n",
       "  </thead>\n",
       "  <tbody>\n",
       "    <tr>\n",
       "      <th>Fertilizer</th>\n",
       "      <td>1.0</td>\n",
       "      <td>2.700000</td>\n",
       "      <td>2.700000</td>\n",
       "      <td>0.320339</td>\n",
       "      <td>0.575912</td>\n",
       "    </tr>\n",
       "    <tr>\n",
       "      <th>Watering</th>\n",
       "      <td>1.0</td>\n",
       "      <td>1.989041</td>\n",
       "      <td>1.989041</td>\n",
       "      <td>0.235988</td>\n",
       "      <td>0.630899</td>\n",
       "    </tr>\n",
       "    <tr>\n",
       "      <th>Fertilizer:Watering</th>\n",
       "      <td>1.0</td>\n",
       "      <td>0.098425</td>\n",
       "      <td>0.098425</td>\n",
       "      <td>0.011678</td>\n",
       "      <td>0.914717</td>\n",
       "    </tr>\n",
       "    <tr>\n",
       "      <th>Residual</th>\n",
       "      <td>28.0</td>\n",
       "      <td>236.000000</td>\n",
       "      <td>8.428571</td>\n",
       "      <td>NaN</td>\n",
       "      <td>NaN</td>\n",
       "    </tr>\n",
       "  </tbody>\n",
       "</table>\n",
       "</div>"
      ],
      "text/plain": [
       "                       df      sum_sq   mean_sq         F    PR(>F)\n",
       "Fertilizer            1.0    2.700000  2.700000  0.320339  0.575912\n",
       "Watering              1.0    1.989041  1.989041  0.235988  0.630899\n",
       "Fertilizer:Watering   1.0    0.098425  0.098425  0.011678  0.914717\n",
       "Residual             28.0  236.000000  8.428571       NaN       NaN"
      ]
     },
     "execution_count": 64,
     "metadata": {},
     "output_type": "execute_result"
    }
   ],
   "source": [
    "result"
   ]
  },
  {
   "cell_type": "markdown",
   "id": "f038bcaa",
   "metadata": {},
   "source": [
    "Since p_value> alpha(0.05), therefore Watering, Fertilizer, Fertilizer: Watering do not have a significant impact on height of a plant"
   ]
  },
  {
   "cell_type": "code",
   "execution_count": null,
   "id": "cff17ab1",
   "metadata": {},
   "outputs": [],
   "source": []
  }
 ],
 "metadata": {
  "kernelspec": {
   "display_name": "Python 3 (ipykernel)",
   "language": "python",
   "name": "python3"
  },
  "language_info": {
   "codemirror_mode": {
    "name": "ipython",
    "version": 3
   },
   "file_extension": ".py",
   "mimetype": "text/x-python",
   "name": "python",
   "nbconvert_exporter": "python",
   "pygments_lexer": "ipython3",
   "version": "3.9.13"
  }
 },
 "nbformat": 4,
 "nbformat_minor": 5
}
