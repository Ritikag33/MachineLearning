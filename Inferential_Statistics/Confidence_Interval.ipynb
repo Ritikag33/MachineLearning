{
 "cells": [
  {
   "cell_type": "code",
   "execution_count": 12,
   "id": "42529fdb",
   "metadata": {},
   "outputs": [],
   "source": [
    "import numpy as np\n",
    "import scipy.stats as st "
   ]
  },
  {
   "cell_type": "code",
   "execution_count": 13,
   "id": "18599463",
   "metadata": {},
   "outputs": [],
   "source": [
    "data= [1,1,1,2,2,2,3,3,3,3,3,4,4,5,5,5,6,7,8,10]"
   ]
  },
  {
   "cell_type": "markdown",
   "id": "b783eba6",
   "metadata": {},
   "source": [
    "Calculate 90% confidence interval of the data of size (n=20) using the t-distribution using the t-interval() function and passing the alpha parameter to 0.90 in python"
   ]
  },
  {
   "cell_type": "code",
   "execution_count": 18,
   "id": "75889a92",
   "metadata": {},
   "outputs": [
    {
     "data": {
      "text/plain": [
       "(3.8309227856665498, 3.969077214228142)"
      ]
     },
     "execution_count": 18,
     "metadata": {},
     "output_type": "execute_result"
    }
   ],
   "source": [
    "st.t.interval(alpha=0.1,df=len(data)-1,loc=np.mean(data),scale=st.sem(data))\n",
    "#sem:standard error of margin, loc:location"
   ]
  },
  {
   "cell_type": "markdown",
   "id": "f77cc375",
   "metadata": {},
   "source": [
    "Calculate 90% confidence interval of the random data set of size (n=100) using the norm distribution using the norm interval() function and passing the alpha parameter to 0.90 in python"
   ]
  },
  {
   "cell_type": "code",
   "execution_count": 21,
   "id": "a23b9db3",
   "metadata": {},
   "outputs": [],
   "source": [
    "#Do not want the dataset to change everytime\n",
    "np.random.seed(0)\n",
    "data2=np.random.randint(5,10,100)"
   ]
  },
  {
   "cell_type": "code",
   "execution_count": 25,
   "id": "069d1ef3",
   "metadata": {},
   "outputs": [
    {
     "data": {
      "text/plain": [
       "(6.941880383587711, 6.978119616412289)"
      ]
     },
     "execution_count": 25,
     "metadata": {},
     "output_type": "execute_result"
    }
   ],
   "source": [
    "#Finding out z-distribution\n",
    "st.norm.interval(alpha=0.10,loc=np.mean(data2),scale=st.sem(data2))"
   ]
  },
  {
   "cell_type": "code",
   "execution_count": null,
   "id": "18efae54",
   "metadata": {},
   "outputs": [],
   "source": []
  }
 ],
 "metadata": {
  "kernelspec": {
   "display_name": "Python 3 (ipykernel)",
   "language": "python",
   "name": "python3"
  },
  "language_info": {
   "codemirror_mode": {
    "name": "ipython",
    "version": 3
   },
   "file_extension": ".py",
   "mimetype": "text/x-python",
   "name": "python",
   "nbconvert_exporter": "python",
   "pygments_lexer": "ipython3",
   "version": "3.9.13"
  }
 },
 "nbformat": 4,
 "nbformat_minor": 5
}
