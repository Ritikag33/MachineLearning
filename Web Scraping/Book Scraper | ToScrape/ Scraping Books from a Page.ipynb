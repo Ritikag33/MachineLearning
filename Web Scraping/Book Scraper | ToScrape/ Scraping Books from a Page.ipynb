{
 "cells": [
  {
   "cell_type": "code",
   "execution_count": 2,
   "id": "05696b8b",
   "metadata": {},
   "outputs": [],
   "source": [
    "import requests\n",
    "from bs4 import BeautifulSoup\n",
    "link = \"https://books.toscrape.com/catalogue/page-1.html\""
   ]
  },
  {
   "cell_type": "code",
   "execution_count": 3,
   "id": "373e6f31",
   "metadata": {},
   "outputs": [],
   "source": [
    "res = requests.get(link)\n",
    "soup = BeautifulSoup(res.text,\"html.parser\")"
   ]
  },
  {
   "cell_type": "code",
   "execution_count": 14,
   "id": "430a1c23",
   "metadata": {},
   "outputs": [
    {
     "name": "stderr",
     "output_type": "stream",
     "text": [
      "100%|███████████████████████████████████████████| 50/50 [01:22<00:00,  1.65s/it]\n"
     ]
    }
   ],
   "source": [
    "from tqdm import tqdm\n",
    "data = []\n",
    "# Going through each page one by one\n",
    "for page in tqdm(range(1,51)):\n",
    "    # Creating link for each page\n",
    "    link = 'https://books.toscrape.com/catalogue/page-'+ str(page) + \".html\"\n",
    "    # Getting response\n",
    "    res = requests.get(link)\n",
    "    # Creating the soup for that page\n",
    "    soup = BeautifulSoup(res.text,'html.parser')\n",
    "    # Extracting book_link,title, img_link, rating, availability,book_price of all 20 books in the 1st page\n",
    "\n",
    "    # No. of books per page\n",
    "    for sp in soup.find_all('li',class_ = \"col-xs-6 col-sm-4 col-md-3 col-lg-3\"):\n",
    "        # Extracting the last anchor tag\n",
    "        # Extracting book_link to each book\n",
    "        book_link = 'https://books.toscrape.com/catalogue/'+ sp.find_all('a')[-1].get('href')\n",
    "        # Extracting title of each book\n",
    "        title = sp.find_all('a')[-1].get('title')\n",
    "        # Extracting img_link for each book\n",
    "        img_link = 'https://books.toscrape.com/'+ sp.find('img').get('src')[2:]\n",
    "        # Rating given to each book\n",
    "        rating = sp.find(\"p\").get('class')[-1]\n",
    "        # Check if book is in stock or not\n",
    "        availability = sp.find('p',class_=\"instock availability\").text.strip()\n",
    "        # Extract price of each book\n",
    "        book_price = sp.find('p',class_='price_color').text[1:]\n",
    "        # Saving scraped data in a list\n",
    "        data.append((title,rating,availability,book_price,book_link,img_link))"
   ]
  },
  {
   "cell_type": "code",
   "execution_count": 21,
   "id": "5bbe33dc",
   "metadata": {},
   "outputs": [
    {
     "data": {
      "text/plain": [
       "('1,000 Places to See Before You Die',\n",
       " 'Five',\n",
       " 'In stock',\n",
       " '£26.08',\n",
       " 'https://books.toscrape.com/catalogue/1000-places-to-see-before-you-die_1/index.html',\n",
       " 'https://books.toscrape.com//media/cache/d7/0f/d70f7edd92705c45a82118c3ff6c299d.jpg')"
      ]
     },
     "execution_count": 21,
     "metadata": {},
     "output_type": "execute_result"
    }
   ],
   "source": [
    "data[-1]"
   ]
  },
  {
   "cell_type": "code",
   "execution_count": 20,
   "id": "442d35bd",
   "metadata": {},
   "outputs": [
    {
     "data": {
      "text/plain": [
       "1000"
      ]
     },
     "execution_count": 20,
     "metadata": {},
     "output_type": "execute_result"
    }
   ],
   "source": [
    "len(data)"
   ]
  },
  {
   "cell_type": "code",
   "execution_count": 16,
   "id": "bc74dd10",
   "metadata": {},
   "outputs": [],
   "source": [
    "import pandas as pd\n",
    "df = pd.DataFrame(data,columns = ['title','rating','availability','book_price','book_link','img_link'])"
   ]
  },
  {
   "cell_type": "code",
   "execution_count": 18,
   "id": "f8172de7",
   "metadata": {},
   "outputs": [
    {
     "data": {
      "text/html": [
       "<div>\n",
       "<style scoped>\n",
       "    .dataframe tbody tr th:only-of-type {\n",
       "        vertical-align: middle;\n",
       "    }\n",
       "\n",
       "    .dataframe tbody tr th {\n",
       "        vertical-align: top;\n",
       "    }\n",
       "\n",
       "    .dataframe thead th {\n",
       "        text-align: right;\n",
       "    }\n",
       "</style>\n",
       "<table border=\"1\" class=\"dataframe\">\n",
       "  <thead>\n",
       "    <tr style=\"text-align: right;\">\n",
       "      <th></th>\n",
       "      <th>title</th>\n",
       "      <th>rating</th>\n",
       "      <th>availability</th>\n",
       "      <th>book_price</th>\n",
       "      <th>book_link</th>\n",
       "      <th>img_link</th>\n",
       "    </tr>\n",
       "  </thead>\n",
       "  <tbody>\n",
       "    <tr>\n",
       "      <th>0</th>\n",
       "      <td>A Light in the Attic</td>\n",
       "      <td>Three</td>\n",
       "      <td>In stock</td>\n",
       "      <td>£51.77</td>\n",
       "      <td>https://books.toscrape.com/catalogue/a-light-i...</td>\n",
       "      <td>https://books.toscrape.com//media/cache/2c/da/...</td>\n",
       "    </tr>\n",
       "    <tr>\n",
       "      <th>1</th>\n",
       "      <td>Tipping the Velvet</td>\n",
       "      <td>One</td>\n",
       "      <td>In stock</td>\n",
       "      <td>£53.74</td>\n",
       "      <td>https://books.toscrape.com/catalogue/tipping-t...</td>\n",
       "      <td>https://books.toscrape.com//media/cache/26/0c/...</td>\n",
       "    </tr>\n",
       "    <tr>\n",
       "      <th>2</th>\n",
       "      <td>Soumission</td>\n",
       "      <td>One</td>\n",
       "      <td>In stock</td>\n",
       "      <td>£50.10</td>\n",
       "      <td>https://books.toscrape.com/catalogue/soumissio...</td>\n",
       "      <td>https://books.toscrape.com//media/cache/3e/ef/...</td>\n",
       "    </tr>\n",
       "    <tr>\n",
       "      <th>3</th>\n",
       "      <td>Sharp Objects</td>\n",
       "      <td>Four</td>\n",
       "      <td>In stock</td>\n",
       "      <td>£47.82</td>\n",
       "      <td>https://books.toscrape.com/catalogue/sharp-obj...</td>\n",
       "      <td>https://books.toscrape.com//media/cache/32/51/...</td>\n",
       "    </tr>\n",
       "    <tr>\n",
       "      <th>4</th>\n",
       "      <td>Sapiens: A Brief History of Humankind</td>\n",
       "      <td>Five</td>\n",
       "      <td>In stock</td>\n",
       "      <td>£54.23</td>\n",
       "      <td>https://books.toscrape.com/catalogue/sapiens-a...</td>\n",
       "      <td>https://books.toscrape.com//media/cache/be/a5/...</td>\n",
       "    </tr>\n",
       "  </tbody>\n",
       "</table>\n",
       "</div>"
      ],
      "text/plain": [
       "                                   title rating availability book_price  \\\n",
       "0                   A Light in the Attic  Three     In stock     £51.77   \n",
       "1                     Tipping the Velvet    One     In stock     £53.74   \n",
       "2                             Soumission    One     In stock     £50.10   \n",
       "3                          Sharp Objects   Four     In stock     £47.82   \n",
       "4  Sapiens: A Brief History of Humankind   Five     In stock     £54.23   \n",
       "\n",
       "                                           book_link  \\\n",
       "0  https://books.toscrape.com/catalogue/a-light-i...   \n",
       "1  https://books.toscrape.com/catalogue/tipping-t...   \n",
       "2  https://books.toscrape.com/catalogue/soumissio...   \n",
       "3  https://books.toscrape.com/catalogue/sharp-obj...   \n",
       "4  https://books.toscrape.com/catalogue/sapiens-a...   \n",
       "\n",
       "                                            img_link  \n",
       "0  https://books.toscrape.com//media/cache/2c/da/...  \n",
       "1  https://books.toscrape.com//media/cache/26/0c/...  \n",
       "2  https://books.toscrape.com//media/cache/3e/ef/...  \n",
       "3  https://books.toscrape.com//media/cache/32/51/...  \n",
       "4  https://books.toscrape.com//media/cache/be/a5/...  "
      ]
     },
     "execution_count": 18,
     "metadata": {},
     "output_type": "execute_result"
    }
   ],
   "source": [
    "df.head()"
   ]
  },
  {
   "cell_type": "code",
   "execution_count": 19,
   "id": "e51b412c",
   "metadata": {},
   "outputs": [],
   "source": [
    "df.to_csv('1000_BookDetails.csv',index=False)"
   ]
  }
 ],
 "metadata": {
  "kernelspec": {
   "display_name": "Python 3 (ipykernel)",
   "language": "python",
   "name": "python3"
  },
  "language_info": {
   "codemirror_mode": {
    "name": "ipython",
    "version": 3
   },
   "file_extension": ".py",
   "mimetype": "text/x-python",
   "name": "python",
   "nbconvert_exporter": "python",
   "pygments_lexer": "ipython3",
   "version": "3.11.5"
  }
 },
 "nbformat": 4,
 "nbformat_minor": 5
}
