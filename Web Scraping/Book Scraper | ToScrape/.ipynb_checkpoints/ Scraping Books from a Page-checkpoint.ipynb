{
 "cells": [
  {
   "cell_type": "code",
   "execution_count": 1,
   "id": "05696b8b",
   "metadata": {},
   "outputs": [],
   "source": [
    "import requests\n",
    "from bs4 import BeautifulSoup\n",
    "link = \"https://books.toscrape.com/catalogue/page-1.html\""
   ]
  },
  {
   "cell_type": "code",
   "execution_count": 5,
   "id": "373e6f31",
   "metadata": {},
   "outputs": [],
   "source": [
    "res = requests.get(link)\n",
    "soup = BeautifulSoup(res.text,\"html.parser\")"
   ]
  },
  {
   "cell_type": "code",
   "execution_count": 68,
   "id": "430a1c23",
   "metadata": {},
   "outputs": [],
   "source": [
    "data = []\n",
    "# Extracting book_link,title, img_link, rating, availability,book_price of all 20 books in the 1st page\n",
    "\n",
    "# No. of books per page\n",
    "for sp in soup.find_all('li',class_ = \"col-xs-6 col-sm-4 col-md-3 col-lg-3\"):\n",
    "    # Extracting the last anchor tag\n",
    "    # Extracting book_link to each book\n",
    "    book_link = 'https://books.toscrape.com/catalogue/'+ sp.find_all('a')[-1].get('href')\n",
    "    # Extracting title of each book\n",
    "    title = sp.find_all('a')[-1].get('title')\n",
    "    # Extracting img_link for each book\n",
    "    img_link = 'https://books.toscrape.com/'+ sp.find('img').get('src')[2:]\n",
    "    # Rating given to each book\n",
    "    rating = sp.find(\"p\").get('class')[-1]\n",
    "    # Check if book is in stock or not\n",
    "    availability = sp.find('p',class_=\"instock availability\").text.strip()\n",
    "    # Extract price of each book\n",
    "    book_price = sp.find('p',class_='price_color').text[1:]\n",
    "    data.append((title,rating,availability,book_price,book_link,img_link))"
   ]
  },
  {
   "cell_type": "code",
   "execution_count": 69,
   "id": "5bbe33dc",
   "metadata": {},
   "outputs": [
    {
     "data": {
      "text/plain": [
       "('A Light in the Attic',\n",
       " 'Three',\n",
       " 'In stock',\n",
       " '£51.77',\n",
       " 'https://books.toscrape.com/catalogue/a-light-in-the-attic_1000/index.html',\n",
       " 'https://books.toscrape.com//media/cache/2c/da/2cdad67c44b002e7ead0cc35693c0e8b.jpg')"
      ]
     },
     "execution_count": 69,
     "metadata": {},
     "output_type": "execute_result"
    }
   ],
   "source": [
    "data[0]"
   ]
  },
  {
   "cell_type": "code",
   "execution_count": null,
   "id": "bc74dd10",
   "metadata": {},
   "outputs": [],
   "source": []
  }
 ],
 "metadata": {
  "kernelspec": {
   "display_name": "Python 3 (ipykernel)",
   "language": "python",
   "name": "python3"
  },
  "language_info": {
   "codemirror_mode": {
    "name": "ipython",
    "version": 3
   },
   "file_extension": ".py",
   "mimetype": "text/x-python",
   "name": "python",
   "nbconvert_exporter": "python",
   "pygments_lexer": "ipython3",
   "version": "3.11.5"
  }
 },
 "nbformat": 4,
 "nbformat_minor": 5
}
