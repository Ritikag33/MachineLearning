{
 "cells": [
  {
   "cell_type": "markdown",
   "id": "6036cd0f",
   "metadata": {},
   "source": [
    "#### Selenium is a framework which consists of a package webdriver."
   ]
  },
  {
   "cell_type": "code",
   "execution_count": 35,
   "id": "ae35f81c",
   "metadata": {},
   "outputs": [],
   "source": [
    "# Drive web browser using coding.\n",
    "import requests\n",
    "import numpy as np\n",
    "import pandas as pd\n",
    "from bs4 import BeautifulSoup\n",
    "link = 'https://www.youtube.com/@GeeksforGeeksVideos/videos'\n",
    "res  = requests.get(link)\n",
    "soup = BeautifulSoup(res.text,'html.parser')"
   ]
  },
  {
   "cell_type": "code",
   "execution_count": 2,
   "id": "8186e1ac",
   "metadata": {},
   "outputs": [
    {
     "data": {
      "text/plain": [
       "'AboutPressCopyrightContact usCreatorAdvertiseDevelopersTermsPrivacyPolicy & SafetyHow YouTube worksTest new features© 2024 Google LLCGeeksforGeeks - YouTube'"
      ]
     },
     "execution_count": 2,
     "metadata": {},
     "output_type": "execute_result"
    }
   ],
   "source": [
    "# No allowing you to scrape the data directly\n",
    "soup.text\n",
    "# Therefore, we need to use web drivers like selenium"
   ]
  },
  {
   "cell_type": "markdown",
   "id": "a7970c8e",
   "metadata": {},
   "source": [
    "#### Web Driver : Automated process that will help you to drive any browser\n",
    " eg. Chrome Web Driver\n",
    " * install library chromedriver_binary"
   ]
  },
  {
   "cell_type": "markdown",
   "id": "da6df173",
   "metadata": {},
   "source": [
    "* Returns path where chrome driver is located\n",
    "* chromedriver_binary.chromedriver_filename\n",
    "* driver = webdriver.Chrome('/Users/ritikagupta/anaconda3/lib/python3.11/site-packages/chromedriver_binary/chromedriver')\n",
    "  - In the later version of Selenium, then you dont really have to set the driver.exe path. Selenium can handle the browser and drivers by itself."
   ]
  },
  {
   "cell_type": "code",
   "execution_count": 34,
   "id": "4c458721",
   "metadata": {},
   "outputs": [],
   "source": [
    "from selenium import webdriver\n",
    "from selenium.webdriver.chrome.service import Service\n",
    "from webdriver_manager.chrome import ChromeDriverManager\n",
    "\n",
    "browser = webdriver.Chrome()"
   ]
  },
  {
   "cell_type": "code",
   "execution_count": 36,
   "id": "1af9fdb0",
   "metadata": {},
   "outputs": [],
   "source": [
    "browser.get('https://www.youtube.com/@NicholasRenotte/videos')"
   ]
  },
  {
   "cell_type": "code",
   "execution_count": 49,
   "id": "44730d64",
   "metadata": {},
   "outputs": [],
   "source": [
    "# Returns HTML for the page\n",
    "soup = BeautifulSoup(browser.page_source,'html.parser')"
   ]
  },
  {
   "cell_type": "code",
   "execution_count": 41,
   "id": "6288a98f",
   "metadata": {},
   "outputs": [],
   "source": [
    "data = []\n",
    "for sp in soup.find_all('ytd-rich-item-renderer'):\n",
    "    # Extracting title of 1st video\n",
    "    title      = sp.find('a',class_ = 'yt-simple-endpoint focus-on-expand style-scope ytd-rich-grid-media').text\n",
    "    # Link for 1st video\n",
    "    video_link = sp.find('a',class_ = 'yt-simple-endpoint focus-on-expand style-scope ytd-rich-grid-media').get('href')\n",
    "    # No. of views in 1st video\n",
    "    try: \n",
    "        views      = sp.find_all('span',class_=\"inline-metadata-item style-scope ytd-video-meta-block\")[0].text\n",
    "    except:\n",
    "        views      = np.nan\n",
    "    # When was the video published\n",
    "    try :\n",
    "        date_time  = sp.find_all('span',class_=\"inline-metadata-item style-scope ytd-video-meta-block\")[1].text\n",
    "    except :\n",
    "        date_time = np.nan\n",
    "    try :\n",
    "        thumbnail_link = sp.find('img',class_ = \"yt-core-image--fill-parent-height yt-core-image--fill-parent-width yt-core-image yt-core-image--content-mode-scale-aspect-fill yt-core-image--loaded\").get('src')\n",
    "    except:\n",
    "        thumbnail_link = np.nan\n",
    "    \n",
    "    data.append([title,video_link,views,date_time,thumbnail_link])\n",
    "    "
   ]
  },
  {
   "cell_type": "code",
   "execution_count": 42,
   "id": "a72daafc",
   "metadata": {},
   "outputs": [
    {
     "data": {
      "text/plain": [
       "208"
      ]
     },
     "execution_count": 42,
     "metadata": {},
     "output_type": "execute_result"
    }
   ],
   "source": [
    "#Total no of videos\n",
    "len(data)"
   ]
  },
  {
   "cell_type": "code",
   "execution_count": 43,
   "id": "a97c2e50",
   "metadata": {},
   "outputs": [
    {
     "name": "stdout",
     "output_type": "stream",
     "text": [
      "https://i.ytimg.com/vi/giO92FBk33c/hqdefault.jpg\n"
     ]
    }
   ],
   "source": [
    "for sp in soup.find_all('ytd-rich-item-renderer'):\n",
    "    print(sp.find('img',class_ = \"yt-core-image--fill-parent-height yt-core-image--fill-parent-width yt-core-image yt-core-image--content-mode-scale-aspect-fill yt-core-image--loaded\").get('src').split('?')[0])\n",
    "    break"
   ]
  },
  {
   "cell_type": "code",
   "execution_count": 44,
   "id": "74495aee",
   "metadata": {},
   "outputs": [],
   "source": [
    "df = pd.DataFrame(data,columns=['title','video_link','views','date_time','thumbnail_link'])"
   ]
  },
  {
   "cell_type": "code",
   "execution_count": 45,
   "id": "15154286",
   "metadata": {},
   "outputs": [
    {
     "data": {
      "text/html": [
       "<div>\n",
       "<style scoped>\n",
       "    .dataframe tbody tr th:only-of-type {\n",
       "        vertical-align: middle;\n",
       "    }\n",
       "\n",
       "    .dataframe tbody tr th {\n",
       "        vertical-align: top;\n",
       "    }\n",
       "\n",
       "    .dataframe thead th {\n",
       "        text-align: right;\n",
       "    }\n",
       "</style>\n",
       "<table border=\"1\" class=\"dataframe\">\n",
       "  <thead>\n",
       "    <tr style=\"text-align: right;\">\n",
       "      <th></th>\n",
       "      <th>title</th>\n",
       "      <th>video_link</th>\n",
       "      <th>views</th>\n",
       "      <th>date_time</th>\n",
       "      <th>thumbnail_link</th>\n",
       "    </tr>\n",
       "  </thead>\n",
       "  <tbody>\n",
       "    <tr>\n",
       "      <th>0</th>\n",
       "      <td>What they didn't tell you about Falcon 180b (a...</td>\n",
       "      <td>/watch?v=giO92FBk33c</td>\n",
       "      <td>8.5K views</td>\n",
       "      <td>3 months ago</td>\n",
       "      <td>https://i.ytimg.com/vi/giO92FBk33c/hqdefault.j...</td>\n",
       "    </tr>\n",
       "    <tr>\n",
       "      <th>1</th>\n",
       "      <td>I used LLaMA 2 70B to rebuild GPT Banker...and...</td>\n",
       "      <td>/watch?v=SedGB8m2XLM</td>\n",
       "      <td>97K views</td>\n",
       "      <td>4 months ago</td>\n",
       "      <td>https://i.ytimg.com/vi/SedGB8m2XLM/hqdefault.j...</td>\n",
       "    </tr>\n",
       "    <tr>\n",
       "      <th>2</th>\n",
       "      <td>I tried to break down the Generative AI Stack ...</td>\n",
       "      <td>/watch?v=HJl50-GHQr8</td>\n",
       "      <td>14K views</td>\n",
       "      <td>5 months ago</td>\n",
       "      <td>https://i.ytimg.com/vi/HJl50-GHQr8/hqdefault.j...</td>\n",
       "    </tr>\n",
       "    <tr>\n",
       "      <th>3</th>\n",
       "      <td>I used the BEST Open Source LLM to build a GPT...</td>\n",
       "      <td>/watch?v=hMJgdVJWQRU</td>\n",
       "      <td>92K views</td>\n",
       "      <td>6 months ago</td>\n",
       "      <td>https://i.ytimg.com/vi/hMJgdVJWQRU/hqdefault.j...</td>\n",
       "    </tr>\n",
       "    <tr>\n",
       "      <th>4</th>\n",
       "      <td>I tested a STACK of FREE Large Language Models...</td>\n",
       "      <td>/watch?v=5JpPo-NOq9s</td>\n",
       "      <td>51K views</td>\n",
       "      <td>7 months ago</td>\n",
       "      <td>https://i.ytimg.com/vi/5JpPo-NOq9s/hqdefault.j...</td>\n",
       "    </tr>\n",
       "  </tbody>\n",
       "</table>\n",
       "</div>"
      ],
      "text/plain": [
       "                                               title            video_link  \\\n",
       "0  What they didn't tell you about Falcon 180b (a...  /watch?v=giO92FBk33c   \n",
       "1  I used LLaMA 2 70B to rebuild GPT Banker...and...  /watch?v=SedGB8m2XLM   \n",
       "2  I tried to break down the Generative AI Stack ...  /watch?v=HJl50-GHQr8   \n",
       "3  I used the BEST Open Source LLM to build a GPT...  /watch?v=hMJgdVJWQRU   \n",
       "4  I tested a STACK of FREE Large Language Models...  /watch?v=5JpPo-NOq9s   \n",
       "\n",
       "        views     date_time                                     thumbnail_link  \n",
       "0  8.5K views  3 months ago  https://i.ytimg.com/vi/giO92FBk33c/hqdefault.j...  \n",
       "1   97K views  4 months ago  https://i.ytimg.com/vi/SedGB8m2XLM/hqdefault.j...  \n",
       "2   14K views  5 months ago  https://i.ytimg.com/vi/HJl50-GHQr8/hqdefault.j...  \n",
       "3   92K views  6 months ago  https://i.ytimg.com/vi/hMJgdVJWQRU/hqdefault.j...  \n",
       "4   51K views  7 months ago  https://i.ytimg.com/vi/5JpPo-NOq9s/hqdefault.j...  "
      ]
     },
     "execution_count": 45,
     "metadata": {},
     "output_type": "execute_result"
    }
   ],
   "source": [
    "df.head()"
   ]
  },
  {
   "cell_type": "code",
   "execution_count": 46,
   "id": "6e409d11",
   "metadata": {},
   "outputs": [
    {
     "data": {
      "text/plain": [
       "title             0\n",
       "video_link        0\n",
       "views             0\n",
       "date_time         0\n",
       "thumbnail_link    0\n",
       "dtype: int64"
      ]
     },
     "execution_count": 46,
     "metadata": {},
     "output_type": "execute_result"
    }
   ],
   "source": [
    "df.isna().sum()"
   ]
  },
  {
   "cell_type": "code",
   "execution_count": 47,
   "id": "e2e97412",
   "metadata": {},
   "outputs": [],
   "source": [
    "df.to_csv('Nicholas Renotte Youtube Video Details.csv',index=False)"
   ]
  },
  {
   "cell_type": "code",
   "execution_count": null,
   "id": "dd4d9398",
   "metadata": {},
   "outputs": [],
   "source": [
    "import time\n",
    "from tqdm import tqdm \n",
    "\n",
    "browser = webdriver.Chrome()\n",
    "browser.get('https://www.youtube.com')\n",
    "time.sleep(3)\n",
    "\n",
    "data = []\n",
    "for link in tqdm(df['video_link']):\n",
    "    link = 'https://www.youtube.com' + link\n",
    "    browser.get(link)\n",
    "    \n",
    "    # Wait for the page to load\n",
    "    time.sleep(4)\n",
    "    \n",
    "    soup      = BeautifulSoup(browser.page_source,'html.parser')\n",
    "    try :\n",
    "        title     = soup.find('yt-formatted-string',class_='ytd-watch-metadata').text\n",
    "    except :\n",
    "        title = np.nan\n",
    "    try :\n",
    "        views     = soup.find_all(\"span\",class_='yt-formatted-string')[0].text\n",
    "    except :\n",
    "        views = np.nan\n",
    "        \n",
    "    try :\n",
    "        date_time = soup.find_all(\"span\",class_='yt-formatted-string')[2].text\n",
    "    except :\n",
    "        date_time = np.nan\n",
    "        \n",
    "    try :\n",
    "        likes     = soup.find('button',class_='yt-spec-button-shape-next yt-spec-button-shape-next--tonal yt-spec-button-shape-next--mono yt-spec-button-shape-next--size-m yt-spec-button-shape-next--icon-leading yt-spec-button-shape-next--segmented-start').text\n",
    "    except :\n",
    "        likes = np.nan\n",
    "        \n",
    "    try :\n",
    "        description = soup.find('span',class_='yt-core-attributed-string yt-core-attributed-string--white-space-pre-wrap').text\n",
    "    except :\n",
    "        description = np.nan\n",
    "        \n",
    "    data.append([title,views,date_time,likes,link,description])    "
   ]
  },
  {
   "cell_type": "code",
   "execution_count": 174,
   "id": "e29ac9b1",
   "metadata": {},
   "outputs": [],
   "source": [
    "df = pd.DataFrame(data,columns=['title','views','date_time','likes','video_link','description'])"
   ]
  },
  {
   "cell_type": "code",
   "execution_count": 175,
   "id": "6f62d9c7",
   "metadata": {},
   "outputs": [
    {
     "data": {
      "text/html": [
       "<div>\n",
       "<style scoped>\n",
       "    .dataframe tbody tr th:only-of-type {\n",
       "        vertical-align: middle;\n",
       "    }\n",
       "\n",
       "    .dataframe tbody tr th {\n",
       "        vertical-align: top;\n",
       "    }\n",
       "\n",
       "    .dataframe thead th {\n",
       "        text-align: right;\n",
       "    }\n",
       "</style>\n",
       "<table border=\"1\" class=\"dataframe\">\n",
       "  <thead>\n",
       "    <tr style=\"text-align: right;\">\n",
       "      <th></th>\n",
       "      <th>title</th>\n",
       "      <th>views</th>\n",
       "      <th>date_time</th>\n",
       "      <th>likes</th>\n",
       "      <th>video_link</th>\n",
       "      <th>description</th>\n",
       "    </tr>\n",
       "  </thead>\n",
       "  <tbody>\n",
       "    <tr>\n",
       "      <th>0</th>\n",
       "      <td>What they didn't tell you about Falcon 180b (a...</td>\n",
       "      <td>8.5K views</td>\n",
       "      <td>3 months ago</td>\n",
       "      <td>247</td>\n",
       "      <td>https://www.youtube.com/watch?v=giO92FBk33c</td>\n",
       "      <td>👨‍💻 Sign up for the Full Stack course and use ...</td>\n",
       "    </tr>\n",
       "    <tr>\n",
       "      <th>1</th>\n",
       "      <td>I used LLaMA 2 70B to rebuild GPT Banker...and...</td>\n",
       "      <td>97K views</td>\n",
       "      <td>4 months ago</td>\n",
       "      <td>2.4K</td>\n",
       "      <td>https://www.youtube.com/watch?v=SedGB8m2XLM</td>\n",
       "      <td>👨‍💻 Sign up for the Full Stack course and use ...</td>\n",
       "    </tr>\n",
       "    <tr>\n",
       "      <th>2</th>\n",
       "      <td>I tried to break down the Generative AI Stack ...</td>\n",
       "      <td>14K views</td>\n",
       "      <td>5 months ago</td>\n",
       "      <td>420</td>\n",
       "      <td>https://www.youtube.com/watch?v=HJl50-GHQr8</td>\n",
       "      <td>Whaddayasay, fine tuning video next? \\nAlso, y...</td>\n",
       "    </tr>\n",
       "    <tr>\n",
       "      <th>3</th>\n",
       "      <td>I used the BEST Open Source LLM to build a GPT...</td>\n",
       "      <td>92K views</td>\n",
       "      <td>6 months ago</td>\n",
       "      <td>1.7K</td>\n",
       "      <td>https://www.youtube.com/watch?v=hMJgdVJWQRU</td>\n",
       "      <td>Thanks to NordPass Business for sponsoring thi...</td>\n",
       "    </tr>\n",
       "    <tr>\n",
       "      <th>4</th>\n",
       "      <td>I tested a STACK of FREE Large Language Models...</td>\n",
       "      <td>51K views</td>\n",
       "      <td>7 months ago</td>\n",
       "      <td>1.4K</td>\n",
       "      <td>https://www.youtube.com/watch?v=5JpPo-NOq9s</td>\n",
       "      <td>👨‍💻 Sign up for the Full Stack course and use ...</td>\n",
       "    </tr>\n",
       "    <tr>\n",
       "      <th>...</th>\n",
       "      <td>...</td>\n",
       "      <td>...</td>\n",
       "      <td>...</td>\n",
       "      <td>...</td>\n",
       "      <td>...</td>\n",
       "      <td>...</td>\n",
       "    </tr>\n",
       "    <tr>\n",
       "      <th>177</th>\n",
       "      <td>Chatbot App Tutorial with Javascript Node.js [...</td>\n",
       "      <td>24K views</td>\n",
       "      <td>3 years ago</td>\n",
       "      <td>352</td>\n",
       "      <td>https://www.youtube.com/watch?v=D_doogJln14</td>\n",
       "      <td>Want to build your very own chatbot app?\\n\\nTh...</td>\n",
       "    </tr>\n",
       "    <tr>\n",
       "      <th>178</th>\n",
       "      <td>Building a Reddit Keyword Research Chatbot</td>\n",
       "      <td>1.3K views</td>\n",
       "      <td>3 years ago</td>\n",
       "      <td>42</td>\n",
       "      <td>https://www.youtube.com/watch?v=s6cw6R5hu5c</td>\n",
       "      <td>Working out what to write about can be a night...</td>\n",
       "    </tr>\n",
       "    <tr>\n",
       "      <th>179</th>\n",
       "      <td>Shopify Customer Service Chatbot using Python ...</td>\n",
       "      <td>6.5K views</td>\n",
       "      <td>3 years ago</td>\n",
       "      <td>123</td>\n",
       "      <td>https://www.youtube.com/watch?v=xof1OgxcRhY</td>\n",
       "      <td>Tired of the same ol' sucky customer service?\\...</td>\n",
       "    </tr>\n",
       "    <tr>\n",
       "      <th>180</th>\n",
       "      <td>Chatbot Crash Course for Absolute Beginners - ...</td>\n",
       "      <td>6.8K views</td>\n",
       "      <td>3 years ago</td>\n",
       "      <td>118</td>\n",
       "      <td>https://www.youtube.com/watch?v=CeId265HGnM</td>\n",
       "      <td>Let's face it, everybody wants a chatbot...\\n\\...</td>\n",
       "    </tr>\n",
       "    <tr>\n",
       "      <th>181</th>\n",
       "      <td>AI learns what to do next using Tensorflow and...</td>\n",
       "      <td>1.5K views</td>\n",
       "      <td>4 years ago</td>\n",
       "      <td>29</td>\n",
       "      <td>https://www.youtube.com/watch?v=nxRRf0ebPxU</td>\n",
       "      <td>What if you could predict what's going to happ...</td>\n",
       "    </tr>\n",
       "  </tbody>\n",
       "</table>\n",
       "<p>182 rows × 6 columns</p>\n",
       "</div>"
      ],
      "text/plain": [
       "                                                 title       views  \\\n",
       "0    What they didn't tell you about Falcon 180b (a...  8.5K views   \n",
       "1    I used LLaMA 2 70B to rebuild GPT Banker...and...   97K views   \n",
       "2    I tried to break down the Generative AI Stack ...   14K views   \n",
       "3    I used the BEST Open Source LLM to build a GPT...   92K views   \n",
       "4    I tested a STACK of FREE Large Language Models...   51K views   \n",
       "..                                                 ...         ...   \n",
       "177  Chatbot App Tutorial with Javascript Node.js [...   24K views   \n",
       "178         Building a Reddit Keyword Research Chatbot  1.3K views   \n",
       "179  Shopify Customer Service Chatbot using Python ...  6.5K views   \n",
       "180  Chatbot Crash Course for Absolute Beginners - ...  6.8K views   \n",
       "181  AI learns what to do next using Tensorflow and...  1.5K views   \n",
       "\n",
       "        date_time likes                                   video_link  \\\n",
       "0    3 months ago   247  https://www.youtube.com/watch?v=giO92FBk33c   \n",
       "1    4 months ago  2.4K  https://www.youtube.com/watch?v=SedGB8m2XLM   \n",
       "2    5 months ago   420  https://www.youtube.com/watch?v=HJl50-GHQr8   \n",
       "3    6 months ago  1.7K  https://www.youtube.com/watch?v=hMJgdVJWQRU   \n",
       "4    7 months ago  1.4K  https://www.youtube.com/watch?v=5JpPo-NOq9s   \n",
       "..            ...   ...                                          ...   \n",
       "177   3 years ago   352  https://www.youtube.com/watch?v=D_doogJln14   \n",
       "178   3 years ago    42  https://www.youtube.com/watch?v=s6cw6R5hu5c   \n",
       "179   3 years ago   123  https://www.youtube.com/watch?v=xof1OgxcRhY   \n",
       "180   3 years ago   118  https://www.youtube.com/watch?v=CeId265HGnM   \n",
       "181   4 years ago    29  https://www.youtube.com/watch?v=nxRRf0ebPxU   \n",
       "\n",
       "                                           description  \n",
       "0    👨‍💻 Sign up for the Full Stack course and use ...  \n",
       "1    👨‍💻 Sign up for the Full Stack course and use ...  \n",
       "2    Whaddayasay, fine tuning video next? \\nAlso, y...  \n",
       "3    Thanks to NordPass Business for sponsoring thi...  \n",
       "4    👨‍💻 Sign up for the Full Stack course and use ...  \n",
       "..                                                 ...  \n",
       "177  Want to build your very own chatbot app?\\n\\nTh...  \n",
       "178  Working out what to write about can be a night...  \n",
       "179  Tired of the same ol' sucky customer service?\\...  \n",
       "180  Let's face it, everybody wants a chatbot...\\n\\...  \n",
       "181  What if you could predict what's going to happ...  \n",
       "\n",
       "[182 rows x 6 columns]"
      ]
     },
     "execution_count": 175,
     "metadata": {},
     "output_type": "execute_result"
    }
   ],
   "source": [
    "df"
   ]
  },
  {
   "cell_type": "code",
   "execution_count": 176,
   "id": "0dab67f8",
   "metadata": {},
   "outputs": [],
   "source": [
    "df.to_csv(\"Nicholas Renotte each video info.csv\",index=False)"
   ]
  },
  {
   "cell_type": "code",
   "execution_count": null,
   "id": "198c6655",
   "metadata": {},
   "outputs": [],
   "source": []
  }
 ],
 "metadata": {
  "kernelspec": {
   "display_name": "Python 3 (ipykernel)",
   "language": "python",
   "name": "python3"
  },
  "language_info": {
   "codemirror_mode": {
    "name": "ipython",
    "version": 3
   },
   "file_extension": ".py",
   "mimetype": "text/x-python",
   "name": "python",
   "nbconvert_exporter": "python",
   "pygments_lexer": "ipython3",
   "version": "3.11.5"
  }
 },
 "nbformat": 4,
 "nbformat_minor": 5
}
