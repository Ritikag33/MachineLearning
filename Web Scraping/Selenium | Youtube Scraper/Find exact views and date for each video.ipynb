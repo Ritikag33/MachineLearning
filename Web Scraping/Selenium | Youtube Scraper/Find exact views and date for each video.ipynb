{
 "cells": [
  {
   "cell_type": "code",
   "execution_count": 1,
   "id": "ea04385f",
   "metadata": {},
   "outputs": [],
   "source": [
    "import pandas as pd\n",
    "import numpy as np\n",
    "\n",
    "from bs4 import BeautifulSoup\n",
    "from selenium import webdriver\n",
    "\n",
    "import chromedriver_binary"
   ]
  },
  {
   "cell_type": "code",
   "execution_count": 5,
   "id": "44c9fc1d",
   "metadata": {},
   "outputs": [],
   "source": [
    "browser = webdriver.Chrome()"
   ]
  },
  {
   "cell_type": "code",
   "execution_count": 6,
   "id": "046490de",
   "metadata": {},
   "outputs": [
    {
     "data": {
      "text/html": [
       "<div>\n",
       "<style scoped>\n",
       "    .dataframe tbody tr th:only-of-type {\n",
       "        vertical-align: middle;\n",
       "    }\n",
       "\n",
       "    .dataframe tbody tr th {\n",
       "        vertical-align: top;\n",
       "    }\n",
       "\n",
       "    .dataframe thead th {\n",
       "        text-align: right;\n",
       "    }\n",
       "</style>\n",
       "<table border=\"1\" class=\"dataframe\">\n",
       "  <thead>\n",
       "    <tr style=\"text-align: right;\">\n",
       "      <th></th>\n",
       "      <th>title</th>\n",
       "      <th>views</th>\n",
       "      <th>date_time</th>\n",
       "      <th>likes</th>\n",
       "      <th>video_link</th>\n",
       "      <th>description</th>\n",
       "    </tr>\n",
       "  </thead>\n",
       "  <tbody>\n",
       "    <tr>\n",
       "      <th>0</th>\n",
       "      <td>What they didn't tell you about Falcon 180b (a...</td>\n",
       "      <td>8.5K views</td>\n",
       "      <td>3 months ago</td>\n",
       "      <td>247</td>\n",
       "      <td>https://www.youtube.com/watch?v=giO92FBk33c</td>\n",
       "      <td>👨‍💻 Sign up for the Full Stack course and use ...</td>\n",
       "    </tr>\n",
       "    <tr>\n",
       "      <th>1</th>\n",
       "      <td>I used LLaMA 2 70B to rebuild GPT Banker...and...</td>\n",
       "      <td>97K views</td>\n",
       "      <td>4 months ago</td>\n",
       "      <td>2.4K</td>\n",
       "      <td>https://www.youtube.com/watch?v=SedGB8m2XLM</td>\n",
       "      <td>👨‍💻 Sign up for the Full Stack course and use ...</td>\n",
       "    </tr>\n",
       "    <tr>\n",
       "      <th>2</th>\n",
       "      <td>I tried to break down the Generative AI Stack ...</td>\n",
       "      <td>14K views</td>\n",
       "      <td>5 months ago</td>\n",
       "      <td>420</td>\n",
       "      <td>https://www.youtube.com/watch?v=HJl50-GHQr8</td>\n",
       "      <td>Whaddayasay, fine tuning video next? \\nAlso, y...</td>\n",
       "    </tr>\n",
       "    <tr>\n",
       "      <th>3</th>\n",
       "      <td>I used the BEST Open Source LLM to build a GPT...</td>\n",
       "      <td>92K views</td>\n",
       "      <td>6 months ago</td>\n",
       "      <td>1.7K</td>\n",
       "      <td>https://www.youtube.com/watch?v=hMJgdVJWQRU</td>\n",
       "      <td>Thanks to NordPass Business for sponsoring thi...</td>\n",
       "    </tr>\n",
       "    <tr>\n",
       "      <th>4</th>\n",
       "      <td>I tested a STACK of FREE Large Language Models...</td>\n",
       "      <td>51K views</td>\n",
       "      <td>7 months ago</td>\n",
       "      <td>1.4K</td>\n",
       "      <td>https://www.youtube.com/watch?v=5JpPo-NOq9s</td>\n",
       "      <td>👨‍💻 Sign up for the Full Stack course and use ...</td>\n",
       "    </tr>\n",
       "  </tbody>\n",
       "</table>\n",
       "</div>"
      ],
      "text/plain": [
       "                                               title       views  \\\n",
       "0  What they didn't tell you about Falcon 180b (a...  8.5K views   \n",
       "1  I used LLaMA 2 70B to rebuild GPT Banker...and...   97K views   \n",
       "2  I tried to break down the Generative AI Stack ...   14K views   \n",
       "3  I used the BEST Open Source LLM to build a GPT...   92K views   \n",
       "4  I tested a STACK of FREE Large Language Models...   51K views   \n",
       "\n",
       "      date_time likes                                   video_link  \\\n",
       "0  3 months ago   247  https://www.youtube.com/watch?v=giO92FBk33c   \n",
       "1  4 months ago  2.4K  https://www.youtube.com/watch?v=SedGB8m2XLM   \n",
       "2  5 months ago   420  https://www.youtube.com/watch?v=HJl50-GHQr8   \n",
       "3  6 months ago  1.7K  https://www.youtube.com/watch?v=hMJgdVJWQRU   \n",
       "4  7 months ago  1.4K  https://www.youtube.com/watch?v=5JpPo-NOq9s   \n",
       "\n",
       "                                         description  \n",
       "0  👨‍💻 Sign up for the Full Stack course and use ...  \n",
       "1  👨‍💻 Sign up for the Full Stack course and use ...  \n",
       "2  Whaddayasay, fine tuning video next? \\nAlso, y...  \n",
       "3  Thanks to NordPass Business for sponsoring thi...  \n",
       "4  👨‍💻 Sign up for the Full Stack course and use ...  "
      ]
     },
     "execution_count": 6,
     "metadata": {},
     "output_type": "execute_result"
    }
   ],
   "source": [
    "df = pd.read_csv(\"Nicholas Renotte each video info.csv\")\n",
    "df.head()"
   ]
  },
  {
   "cell_type": "code",
   "execution_count": 7,
   "id": "6175b0a2",
   "metadata": {},
   "outputs": [
    {
     "data": {
      "text/plain": [
       "title          0\n",
       "views          0\n",
       "date_time      0\n",
       "likes          0\n",
       "video_link     0\n",
       "description    0\n",
       "dtype: int64"
      ]
     },
     "execution_count": 7,
     "metadata": {},
     "output_type": "execute_result"
    }
   ],
   "source": [
    "df.isna().sum()"
   ]
  },
  {
   "cell_type": "code",
   "execution_count": 10,
   "id": "63f5641b",
   "metadata": {},
   "outputs": [],
   "source": [
    "for link in df['video_link']:\n",
    "    browser.get(link)\n",
    "    break"
   ]
  },
  {
   "cell_type": "code",
   "execution_count": 18,
   "id": "72a3a5dd",
   "metadata": {},
   "outputs": [
    {
     "name": "stdout",
     "output_type": "stream",
     "text": [
      "8,539 views | 7 Oct 2023\n"
     ]
    }
   ],
   "source": [
    "# Finding the exact no. of views and date\n",
    "soup   = BeautifulSoup(browser.page_source,'html.parser')\n",
    "views  = soup.find('span',class_='yt-formatted-string').text\n",
    "date   = soup.find_all('span',class_='yt-formatted-string')[2].text\n",
    "print(views,\"|\",date)"
   ]
  },
  {
   "cell_type": "code",
   "execution_count": null,
   "id": "d12b9f0b",
   "metadata": {},
   "outputs": [],
   "source": []
  }
 ],
 "metadata": {
  "kernelspec": {
   "display_name": "Python 3 (ipykernel)",
   "language": "python",
   "name": "python3"
  },
  "language_info": {
   "codemirror_mode": {
    "name": "ipython",
    "version": 3
   },
   "file_extension": ".py",
   "mimetype": "text/x-python",
   "name": "python",
   "nbconvert_exporter": "python",
   "pygments_lexer": "ipython3",
   "version": "3.11.5"
  }
 },
 "nbformat": 4,
 "nbformat_minor": 5
}
