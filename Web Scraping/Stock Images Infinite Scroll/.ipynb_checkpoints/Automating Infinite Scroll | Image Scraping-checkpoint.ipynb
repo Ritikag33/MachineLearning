{
 "cells": [
  {
   "cell_type": "code",
   "execution_count": 3,
   "id": "de3fe5d2",
   "metadata": {},
   "outputs": [],
   "source": [
    "import requests\n",
    "from bs4 import BeautifulSoup\n",
    "from selenium import webdriver\n",
    "import chromedriver_binary\n",
    "\n",
    "browser = webdriver.Chrome()\n",
    "browser.get(\"https://stock-pictures.netlify.app\")"
   ]
  },
  {
   "cell_type": "code",
   "execution_count": 5,
   "id": "b09067a7",
   "metadata": {},
   "outputs": [],
   "source": [
    "soup = BeautifulSoup(browser.page_source,'html.parser')"
   ]
  },
  {
   "cell_type": "markdown",
   "id": "d68e4b45",
   "metadata": {},
   "source": [
    "### Auto Infinite Scroll"
   ]
  },
  {
   "cell_type": "code",
   "execution_count": null,
   "id": "013743e0",
   "metadata": {},
   "outputs": [],
   "source": []
  },
  {
   "cell_type": "raw",
   "id": "c1f2353b",
   "metadata": {},
   "source": []
  }
 ],
 "metadata": {
  "kernelspec": {
   "display_name": "Python 3 (ipykernel)",
   "language": "python",
   "name": "python3"
  },
  "language_info": {
   "codemirror_mode": {
    "name": "ipython",
    "version": 3
   },
   "file_extension": ".py",
   "mimetype": "text/x-python",
   "name": "python",
   "nbconvert_exporter": "python",
   "pygments_lexer": "ipython3",
   "version": "3.11.5"
  }
 },
 "nbformat": 4,
 "nbformat_minor": 5
}
