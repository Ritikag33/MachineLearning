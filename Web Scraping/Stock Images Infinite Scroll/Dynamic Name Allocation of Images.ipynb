{
 "cells": [
  {
   "cell_type": "code",
   "execution_count": 22,
   "id": "bdf2d4ce",
   "metadata": {},
   "outputs": [
    {
     "data": {
      "text/html": [
       "<div>\n",
       "<style scoped>\n",
       "    .dataframe tbody tr th:only-of-type {\n",
       "        vertical-align: middle;\n",
       "    }\n",
       "\n",
       "    .dataframe tbody tr th {\n",
       "        vertical-align: top;\n",
       "    }\n",
       "\n",
       "    .dataframe thead th {\n",
       "        text-align: right;\n",
       "    }\n",
       "</style>\n",
       "<table border=\"1\" class=\"dataframe\">\n",
       "  <thead>\n",
       "    <tr style=\"text-align: right;\">\n",
       "      <th></th>\n",
       "      <th>img_link</th>\n",
       "      <th>tags</th>\n",
       "      <th>likes</th>\n",
       "      <th>comments</th>\n",
       "    </tr>\n",
       "  </thead>\n",
       "  <tbody>\n",
       "    <tr>\n",
       "      <th>0</th>\n",
       "      <td>https://cdn.pixabay.com/photo/2022/03/06/05/30...</td>\n",
       "      <td>(' Blue Sky', ' Sky', ' Atmosphere', 'Clouds')</td>\n",
       "      <td>196</td>\n",
       "      <td>55</td>\n",
       "    </tr>\n",
       "    <tr>\n",
       "      <th>1</th>\n",
       "      <td>https://cdn.pixabay.com/photo/2022/04/07/11/45...</td>\n",
       "      <td>(' Hummingbird', ' Ornithology', 'Bird')</td>\n",
       "      <td>76</td>\n",
       "      <td>20</td>\n",
       "    </tr>\n",
       "    <tr>\n",
       "      <th>2</th>\n",
       "      <td>https://cdn.pixabay.com/photo/2022/02/28/15/28...</td>\n",
       "      <td>(' Rainbow', ' Rainfall', ' Subtropical', 'Sea')</td>\n",
       "      <td>282</td>\n",
       "      <td>106</td>\n",
       "    </tr>\n",
       "    <tr>\n",
       "      <th>3</th>\n",
       "      <td>https://cdn.pixabay.com/photo/2022/04/04/02/52...</td>\n",
       "      <td>(' Japan', ' Road', 'Cherry Blossoms', ' Sakura')</td>\n",
       "      <td>42</td>\n",
       "      <td>11</td>\n",
       "    </tr>\n",
       "    <tr>\n",
       "      <th>4</th>\n",
       "      <td>https://cdn.pixabay.com/photo/2022/04/09/18/06...</td>\n",
       "      <td>(' Flower', ' Plant', 'Cape Marguerite')</td>\n",
       "      <td>39</td>\n",
       "      <td>15</td>\n",
       "    </tr>\n",
       "  </tbody>\n",
       "</table>\n",
       "</div>"
      ],
      "text/plain": [
       "                                            img_link  \\\n",
       "0  https://cdn.pixabay.com/photo/2022/03/06/05/30...   \n",
       "1  https://cdn.pixabay.com/photo/2022/04/07/11/45...   \n",
       "2  https://cdn.pixabay.com/photo/2022/02/28/15/28...   \n",
       "3  https://cdn.pixabay.com/photo/2022/04/04/02/52...   \n",
       "4  https://cdn.pixabay.com/photo/2022/04/09/18/06...   \n",
       "\n",
       "                                                tags  likes  comments  \n",
       "0     (' Blue Sky', ' Sky', ' Atmosphere', 'Clouds')    196        55  \n",
       "1           (' Hummingbird', ' Ornithology', 'Bird')     76        20  \n",
       "2   (' Rainbow', ' Rainfall', ' Subtropical', 'Sea')    282       106  \n",
       "3  (' Japan', ' Road', 'Cherry Blossoms', ' Sakura')     42        11  \n",
       "4           (' Flower', ' Plant', 'Cape Marguerite')     39        15  "
      ]
     },
     "execution_count": 22,
     "metadata": {},
     "output_type": "execute_result"
    }
   ],
   "source": [
    "import requests\n",
    "import pandas as pd\n",
    "from tqdm import tqdm\n",
    "df = pd.read_csv(\"ImagesData.csv\")\n",
    "df.head()"
   ]
  },
  {
   "cell_type": "markdown",
   "id": "e953d2d4",
   "metadata": {},
   "source": [
    "### Defining Dynamic Name"
   ]
  },
  {
   "cell_type": "code",
   "execution_count": 9,
   "id": "957a4475",
   "metadata": {},
   "outputs": [
    {
     "data": {
      "text/plain": [
       "'clouds-7050884__480.jpg'"
      ]
     },
     "execution_count": 9,
     "metadata": {},
     "output_type": "execute_result"
    }
   ],
   "source": [
    "df['img_link'][0].split('/')[-1]"
   ]
  },
  {
   "cell_type": "code",
   "execution_count": 5,
   "id": "493bbbc8",
   "metadata": {},
   "outputs": [],
   "source": [
    "res = requests.get('https://cdn.pixabay.com/photo/2022/03/06/05/30/clouds-7050884__480.jpg')"
   ]
  },
  {
   "cell_type": "code",
   "execution_count": 7,
   "id": "48c82a1d",
   "metadata": {},
   "outputs": [],
   "source": [
    "fd = open('img.jpg','wb')\n",
    "fd.write(res.content)\n",
    "fd.close()"
   ]
  },
  {
   "cell_type": "code",
   "execution_count": 14,
   "id": "2d51a4c6",
   "metadata": {},
   "outputs": [
    {
     "name": "stdout",
     "output_type": "stream",
     "text": [
      "img0000001\n",
      "img0000002\n",
      "img0000003\n",
      "img0000004\n",
      "img0000005\n",
      "img0000006\n",
      "img0000007\n",
      "img0000008\n",
      "img0000009\n",
      "img0000010\n"
     ]
    }
   ],
   "source": [
    "# Generating img name : img0000001, img0000002, ....\n",
    "ref = 10000000\n",
    "for i in range(1,11):\n",
    "    print('img'+str(i+ref)[1:])"
   ]
  },
  {
   "cell_type": "markdown",
   "id": "d46026d8",
   "metadata": {},
   "source": [
    "### Defining image Downloader function"
   ]
  },
  {
   "cell_type": "code",
   "execution_count": 17,
   "id": "07167213",
   "metadata": {},
   "outputs": [],
   "source": [
    "def download(link,img_path):\n",
    "    # Sending the request\n",
    "    res = requests.get(link) \n",
    "    # Getting the image in wb format\n",
    "    fd = open(img_path,'wb')\n",
    "    # Saving the image\n",
    "    fd.write(res.content)\n",
    "    fd.close()"
   ]
  },
  {
   "cell_type": "code",
   "execution_count": 18,
   "id": "4321a35d",
   "metadata": {},
   "outputs": [],
   "source": [
    "download('https://cdn.pixabay.com/photo/2022/03/06/05/30/clouds-7050884__480.jpg','img.png')"
   ]
  },
  {
   "cell_type": "markdown",
   "id": "2304375b",
   "metadata": {},
   "source": [
    "### Download all images"
   ]
  },
  {
   "cell_type": "code",
   "execution_count": 23,
   "id": "41c6f4f3",
   "metadata": {},
   "outputs": [
    {
     "name": "stderr",
     "output_type": "stream",
     "text": [
      "100%|█████████████████████████████████████████████████████████████████████████████████████████████████████████████████████████████████████████████████████████████████████| 146/146 [01:31<00:00,  1.60it/s]\n"
     ]
    }
   ],
   "source": [
    "paths = []\n",
    "img_ids = []\n",
    "ref = 10000000\n",
    "i   = 1\n",
    "for link in tqdm(df['img_link']):\n",
    "    # Creating img_id\n",
    "    img_id = 'img'+str(i+ref)[1:]\n",
    "    i +=1\n",
    "    # Creating img_path\n",
    "    img_path = 'images/' + img_id + '.jpg'\n",
    "    # Downloading the image\n",
    "    download(link,img_path)   \n",
    "    \n",
    "    paths.append(img_path)\n",
    "    img_ids.append(img_id)"
   ]
  },
  {
   "cell_type": "markdown",
   "id": "6cf478e8",
   "metadata": {},
   "source": [
    "### Saving Ids and paths in DataFrame"
   ]
  },
  {
   "cell_type": "code",
   "execution_count": 25,
   "id": "cff27fd3",
   "metadata": {},
   "outputs": [
    {
     "data": {
      "text/html": [
       "<div>\n",
       "<style scoped>\n",
       "    .dataframe tbody tr th:only-of-type {\n",
       "        vertical-align: middle;\n",
       "    }\n",
       "\n",
       "    .dataframe tbody tr th {\n",
       "        vertical-align: top;\n",
       "    }\n",
       "\n",
       "    .dataframe thead th {\n",
       "        text-align: right;\n",
       "    }\n",
       "</style>\n",
       "<table border=\"1\" class=\"dataframe\">\n",
       "  <thead>\n",
       "    <tr style=\"text-align: right;\">\n",
       "      <th></th>\n",
       "      <th>img_link</th>\n",
       "      <th>tags</th>\n",
       "      <th>likes</th>\n",
       "      <th>comments</th>\n",
       "      <th>img_path</th>\n",
       "      <th>img_id</th>\n",
       "    </tr>\n",
       "  </thead>\n",
       "  <tbody>\n",
       "    <tr>\n",
       "      <th>0</th>\n",
       "      <td>https://cdn.pixabay.com/photo/2022/03/06/05/30...</td>\n",
       "      <td>(' Blue Sky', ' Sky', ' Atmosphere', 'Clouds')</td>\n",
       "      <td>196</td>\n",
       "      <td>55</td>\n",
       "      <td>images/img0000001.jpg</td>\n",
       "      <td>img0000001</td>\n",
       "    </tr>\n",
       "    <tr>\n",
       "      <th>1</th>\n",
       "      <td>https://cdn.pixabay.com/photo/2022/04/07/11/45...</td>\n",
       "      <td>(' Hummingbird', ' Ornithology', 'Bird')</td>\n",
       "      <td>76</td>\n",
       "      <td>20</td>\n",
       "      <td>images/img0000002.jpg</td>\n",
       "      <td>img0000002</td>\n",
       "    </tr>\n",
       "    <tr>\n",
       "      <th>2</th>\n",
       "      <td>https://cdn.pixabay.com/photo/2022/02/28/15/28...</td>\n",
       "      <td>(' Rainbow', ' Rainfall', ' Subtropical', 'Sea')</td>\n",
       "      <td>282</td>\n",
       "      <td>106</td>\n",
       "      <td>images/img0000003.jpg</td>\n",
       "      <td>img0000003</td>\n",
       "    </tr>\n",
       "    <tr>\n",
       "      <th>3</th>\n",
       "      <td>https://cdn.pixabay.com/photo/2022/04/04/02/52...</td>\n",
       "      <td>(' Japan', ' Road', 'Cherry Blossoms', ' Sakura')</td>\n",
       "      <td>42</td>\n",
       "      <td>11</td>\n",
       "      <td>images/img0000004.jpg</td>\n",
       "      <td>img0000004</td>\n",
       "    </tr>\n",
       "    <tr>\n",
       "      <th>4</th>\n",
       "      <td>https://cdn.pixabay.com/photo/2022/04/09/18/06...</td>\n",
       "      <td>(' Flower', ' Plant', 'Cape Marguerite')</td>\n",
       "      <td>39</td>\n",
       "      <td>15</td>\n",
       "      <td>images/img0000005.jpg</td>\n",
       "      <td>img0000005</td>\n",
       "    </tr>\n",
       "  </tbody>\n",
       "</table>\n",
       "</div>"
      ],
      "text/plain": [
       "                                            img_link  \\\n",
       "0  https://cdn.pixabay.com/photo/2022/03/06/05/30...   \n",
       "1  https://cdn.pixabay.com/photo/2022/04/07/11/45...   \n",
       "2  https://cdn.pixabay.com/photo/2022/02/28/15/28...   \n",
       "3  https://cdn.pixabay.com/photo/2022/04/04/02/52...   \n",
       "4  https://cdn.pixabay.com/photo/2022/04/09/18/06...   \n",
       "\n",
       "                                                tags  likes  comments  \\\n",
       "0     (' Blue Sky', ' Sky', ' Atmosphere', 'Clouds')    196        55   \n",
       "1           (' Hummingbird', ' Ornithology', 'Bird')     76        20   \n",
       "2   (' Rainbow', ' Rainfall', ' Subtropical', 'Sea')    282       106   \n",
       "3  (' Japan', ' Road', 'Cherry Blossoms', ' Sakura')     42        11   \n",
       "4           (' Flower', ' Plant', 'Cape Marguerite')     39        15   \n",
       "\n",
       "                img_path      img_id  \n",
       "0  images/img0000001.jpg  img0000001  \n",
       "1  images/img0000002.jpg  img0000002  \n",
       "2  images/img0000003.jpg  img0000003  \n",
       "3  images/img0000004.jpg  img0000004  \n",
       "4  images/img0000005.jpg  img0000005  "
      ]
     },
     "execution_count": 25,
     "metadata": {},
     "output_type": "execute_result"
    }
   ],
   "source": [
    "df['img_path'] = paths\n",
    "df['img_id']   = img_ids\n",
    "df.head()"
   ]
  },
  {
   "cell_type": "markdown",
   "id": "cac55c1c",
   "metadata": {},
   "source": [
    "### Saving Final Dataset"
   ]
  },
  {
   "cell_type": "code",
   "execution_count": 27,
   "id": "5634a624",
   "metadata": {},
   "outputs": [],
   "source": [
    "df.to_csv('Images.csv',index=False)"
   ]
  },
  {
   "cell_type": "code",
   "execution_count": 28,
   "id": "7fb8e97e",
   "metadata": {},
   "outputs": [
    {
     "data": {
      "text/plain": [
       "img_link    0\n",
       "tags        0\n",
       "likes       0\n",
       "comments    0\n",
       "img_path    0\n",
       "img_id      0\n",
       "dtype: int64"
      ]
     },
     "execution_count": 28,
     "metadata": {},
     "output_type": "execute_result"
    }
   ],
   "source": [
    "df.isna().sum()"
   ]
  },
  {
   "cell_type": "code",
   "execution_count": null,
   "id": "23008627",
   "metadata": {},
   "outputs": [],
   "source": []
  }
 ],
 "metadata": {
  "kernelspec": {
   "display_name": "Python 3 (ipykernel)",
   "language": "python",
   "name": "python3"
  },
  "language_info": {
   "codemirror_mode": {
    "name": "ipython",
    "version": 3
   },
   "file_extension": ".py",
   "mimetype": "text/x-python",
   "name": "python",
   "nbconvert_exporter": "python",
   "pygments_lexer": "ipython3",
   "version": "3.11.5"
  }
 },
 "nbformat": 4,
 "nbformat_minor": 5
}
