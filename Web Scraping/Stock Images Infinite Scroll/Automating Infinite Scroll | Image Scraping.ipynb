{
 "cells": [
  {
   "cell_type": "code",
   "execution_count": 31,
   "id": "bfd7d4e9",
   "metadata": {},
   "outputs": [],
   "source": [
    "import time\n",
    "import requests\n",
    "from tqdm import tqdm\n",
    "from bs4 import BeautifulSoup\n",
    "from selenium import webdriver\n",
    "import chromedriver_binary\n",
    "import pandas as pd\n",
    "\n",
    "browser = webdriver.Chrome()\n",
    "browser.get(\"https://stock-pictures.netlify.app\")"
   ]
  },
  {
   "cell_type": "markdown",
   "id": "43211228",
   "metadata": {},
   "source": [
    "### Auto Infinite Scroll"
   ]
  },
  {
   "cell_type": "code",
   "execution_count": 32,
   "id": "787fb138",
   "metadata": {},
   "outputs": [
    {
     "name": "stderr",
     "output_type": "stream",
     "text": [
      "100%|███████████████████████████████████████████████████████████████████████████████████████████████████████████████████████████████████████████████████████████████████| 2500/2500 [04:46<00:00,  8.74it/s]\n"
     ]
    }
   ],
   "source": [
    "# Help to scroll the page till we get the bottom\n",
    "for i in tqdm(range(0,2500000,1000)): # increase the range for infinite scrolling till you reach bottom of the page\n",
    "    browser.execute_script(\"window.scrollTo(0,\"+ str(i) +\")\")\n",
    "    time.sleep(.1)\n",
    "    # Here, only a few images were extracted"
   ]
  },
  {
   "cell_type": "code",
   "execution_count": 44,
   "id": "412ba3c7",
   "metadata": {},
   "outputs": [],
   "source": [
    "soup = BeautifulSoup(browser.page_source,'html.parser')"
   ]
  },
  {
   "cell_type": "code",
   "execution_count": 46,
   "id": "666a94eb",
   "metadata": {},
   "outputs": [
    {
     "name": "stderr",
     "output_type": "stream",
     "text": [
      "100%|███████████████████████████████████████████████████████████████████████████████████████████████████████████████████████████████████████████████████████████████████| 146/146 [00:00<00:00, 9009.52it/s]\n"
     ]
    }
   ],
   "source": [
    "data = []\n",
    "for sp in tqdm(soup.find_all('div',class_='container')):\n",
    "    img_link = sp.find('img').get('src')\n",
    "    tags     = list(set(sp.find('div',class_='tags').text[7:].split(\",\")))\n",
    "    likes    = int(sp.find('div',class_='likes-comments').find_all('span')[0].text.strip()[:-6])\n",
    "    comments = int(sp.find('div',class_='likes-comments').find_all('span')[1].text.strip()[:-9])\n",
    "    \n",
    "    data.append([img_link,tags,likes,comments])\n",
    "    "
   ]
  },
  {
   "cell_type": "code",
   "execution_count": 66,
   "id": "8062152b",
   "metadata": {},
   "outputs": [],
   "source": [
    "# Saving data in DataFrame\n",
    "df = pd.DataFrame(data,columns=['img_link','tags','likes','comments'])"
   ]
  },
  {
   "cell_type": "code",
   "execution_count": 48,
   "id": "dea330e7",
   "metadata": {},
   "outputs": [
    {
     "data": {
      "text/html": [
       "<div>\n",
       "<style scoped>\n",
       "    .dataframe tbody tr th:only-of-type {\n",
       "        vertical-align: middle;\n",
       "    }\n",
       "\n",
       "    .dataframe tbody tr th {\n",
       "        vertical-align: top;\n",
       "    }\n",
       "\n",
       "    .dataframe thead th {\n",
       "        text-align: right;\n",
       "    }\n",
       "</style>\n",
       "<table border=\"1\" class=\"dataframe\">\n",
       "  <thead>\n",
       "    <tr style=\"text-align: right;\">\n",
       "      <th></th>\n",
       "      <th>img_link</th>\n",
       "      <th>tags</th>\n",
       "      <th>likes</th>\n",
       "      <th>comments</th>\n",
       "    </tr>\n",
       "  </thead>\n",
       "  <tbody>\n",
       "    <tr>\n",
       "      <th>0</th>\n",
       "      <td>https://cdn.pixabay.com/photo/2022/03/06/05/30...</td>\n",
       "      <td>[ Blue Sky,  Sky,  Atmosphere, Clouds]</td>\n",
       "      <td>196</td>\n",
       "      <td>55</td>\n",
       "    </tr>\n",
       "    <tr>\n",
       "      <th>1</th>\n",
       "      <td>https://cdn.pixabay.com/photo/2022/04/07/11/45...</td>\n",
       "      <td>[ Hummingbird,  Ornithology, Bird]</td>\n",
       "      <td>76</td>\n",
       "      <td>20</td>\n",
       "    </tr>\n",
       "    <tr>\n",
       "      <th>2</th>\n",
       "      <td>https://cdn.pixabay.com/photo/2022/02/28/15/28...</td>\n",
       "      <td>[ Rainbow,  Rainfall,  Subtropical, Sea]</td>\n",
       "      <td>282</td>\n",
       "      <td>106</td>\n",
       "    </tr>\n",
       "    <tr>\n",
       "      <th>3</th>\n",
       "      <td>https://cdn.pixabay.com/photo/2022/04/04/02/52...</td>\n",
       "      <td>[ Japan,  Road, Cherry Blossoms,  Sakura]</td>\n",
       "      <td>42</td>\n",
       "      <td>11</td>\n",
       "    </tr>\n",
       "    <tr>\n",
       "      <th>4</th>\n",
       "      <td>https://cdn.pixabay.com/photo/2022/04/09/18/06...</td>\n",
       "      <td>[ Flower,  Plant, Cape Marguerite]</td>\n",
       "      <td>39</td>\n",
       "      <td>15</td>\n",
       "    </tr>\n",
       "  </tbody>\n",
       "</table>\n",
       "</div>"
      ],
      "text/plain": [
       "                                            img_link  \\\n",
       "0  https://cdn.pixabay.com/photo/2022/03/06/05/30...   \n",
       "1  https://cdn.pixabay.com/photo/2022/04/07/11/45...   \n",
       "2  https://cdn.pixabay.com/photo/2022/02/28/15/28...   \n",
       "3  https://cdn.pixabay.com/photo/2022/04/04/02/52...   \n",
       "4  https://cdn.pixabay.com/photo/2022/04/09/18/06...   \n",
       "\n",
       "                                        tags  likes  comments  \n",
       "0     [ Blue Sky,  Sky,  Atmosphere, Clouds]    196        55  \n",
       "1         [ Hummingbird,  Ornithology, Bird]     76        20  \n",
       "2   [ Rainbow,  Rainfall,  Subtropical, Sea]    282       106  \n",
       "3  [ Japan,  Road, Cherry Blossoms,  Sakura]     42        11  \n",
       "4         [ Flower,  Plant, Cape Marguerite]     39        15  "
      ]
     },
     "execution_count": 48,
     "metadata": {},
     "output_type": "execute_result"
    }
   ],
   "source": [
    "df.head()"
   ]
  },
  {
   "cell_type": "code",
   "execution_count": 49,
   "id": "b9e7b224",
   "metadata": {},
   "outputs": [
    {
     "data": {
      "text/plain": [
       "img_link    0\n",
       "tags        0\n",
       "likes       0\n",
       "comments    0\n",
       "dtype: int64"
      ]
     },
     "execution_count": 49,
     "metadata": {},
     "output_type": "execute_result"
    }
   ],
   "source": [
    "df.isna().sum()"
   ]
  },
  {
   "cell_type": "code",
   "execution_count": 50,
   "id": "6fb3fdd3",
   "metadata": {},
   "outputs": [
    {
     "data": {
      "text/plain": [
       "count                                                   146\n",
       "unique                                                  145\n",
       "top       https://cdn.pixabay.com/photo/2022/04/10/19/28...\n",
       "freq                                                      2\n",
       "Name: img_link, dtype: object"
      ]
     },
     "execution_count": 50,
     "metadata": {},
     "output_type": "execute_result"
    }
   ],
   "source": [
    "# Checking for duplicate values\n",
    "df['img_link'].describe()"
   ]
  },
  {
   "cell_type": "code",
   "execution_count": 54,
   "id": "f2a67695",
   "metadata": {},
   "outputs": [
    {
     "data": {
      "text/plain": [
       "145"
      ]
     },
     "execution_count": 54,
     "metadata": {},
     "output_type": "execute_result"
    }
   ],
   "source": [
    "# Returns no. of unique links\n",
    "len(list(set(df['img_link'])))"
   ]
  },
  {
   "cell_type": "code",
   "execution_count": 75,
   "id": "8bd0625d",
   "metadata": {},
   "outputs": [],
   "source": [
    "df['tags'] = df['tags'].apply(tuple)"
   ]
  },
  {
   "cell_type": "code",
   "execution_count": 78,
   "id": "196988b6",
   "metadata": {},
   "outputs": [],
   "source": [
    "# Removing duplicate values\n",
    "df = df.drop_duplicates()"
   ]
  },
  {
   "cell_type": "code",
   "execution_count": 79,
   "id": "9f422049",
   "metadata": {},
   "outputs": [],
   "source": [
    "# Saving the dataframe as csv\n",
    "df.to_csv('ImagesData.csv',index=False)"
   ]
  }
 ],
 "metadata": {
  "kernelspec": {
   "display_name": "Python 3 (ipykernel)",
   "language": "python",
   "name": "python3"
  },
  "language_info": {
   "codemirror_mode": {
    "name": "ipython",
    "version": 3
   },
   "file_extension": ".py",
   "mimetype": "text/x-python",
   "name": "python",
   "nbconvert_exporter": "python",
   "pygments_lexer": "ipython3",
   "version": "3.11.5"
  }
 },
 "nbformat": 4,
 "nbformat_minor": 5
}
