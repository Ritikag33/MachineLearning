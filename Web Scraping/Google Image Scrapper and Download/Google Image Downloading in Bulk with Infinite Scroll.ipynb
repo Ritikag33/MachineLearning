{
 "cells": [
  {
   "cell_type": "code",
   "execution_count": 2,
   "id": "4d4238fc",
   "metadata": {},
   "outputs": [],
   "source": [
    "import io\n",
    "import time\n",
    "import base64\n",
    "import requests\n",
    "from selenium import webdriver\n",
    "from selenium.webdriver.common.by import By\n",
    "from PIL import Image, UnidentifiedImageError\n",
    "browser = webdriver.Chrome()\n"
   ]
  },
  {
   "cell_type": "code",
   "execution_count": 3,
   "id": "04e429e4",
   "metadata": {},
   "outputs": [],
   "source": [
    "def get_images_from_google(browser, delay, max_images):\n",
    "    def scroll_down(browser):\n",
    "        browser.execute_script(\"window.scrollTo(0, document.body.scrollHeight);\")\n",
    "        time.sleep(delay)\n",
    "\n",
    "    tag = str(input('Enter the topic:'))\n",
    "    url = f\"https://www.google.com/search?q={tag}&tbm=isch\"\n",
    "    browser.get(url)\n",
    "\n",
    "    image_urls = set()\n",
    "    skips = 0\n",
    "    while len(image_urls) + skips < max_images:\n",
    "        scroll_down(browser)\n",
    "\n",
    "        # Find all elements on the page having a class name ='Q4LuWd'\n",
    "        thumbnails = browser.find_elements(By.CLASS_NAME, \"Q4LuWd\")\n",
    "\n",
    "        # Avoids adding the same thumbnail multiple times in the list\n",
    "        for img in thumbnails[len(image_urls) + skips:max_images]:\n",
    "            try:\n",
    "                img.click()\n",
    "                time.sleep(delay)\n",
    "            except:\n",
    "                continue\n",
    "\n",
    "            images = browser.find_elements(By.CLASS_NAME, \"iPVvYb\")\n",
    "            for image in images:\n",
    "                if image.get_attribute('src') in image_urls:\n",
    "                    max_images += 1\n",
    "                    skips += 1\n",
    "                    break\n",
    "                if image.get_attribute('src') and 'http' in image.get_attribute('src'):\n",
    "                    image_urls.add(image.get_attribute('src'))\n",
    "                    print(f\"Found {len(image_urls)}\")\n",
    "\n",
    "    return image_urls\n"
   ]
  },
  {
   "cell_type": "code",
   "execution_count": 4,
   "id": "120d5a51",
   "metadata": {},
   "outputs": [],
   "source": [
    "def download_image(download_path,url,file_name):\n",
    "    try :\n",
    "        image_content = requests.get(url).content\n",
    "        # Converts content into ByteIO dataset\n",
    "        image_file    =  io.BytesIO(image_content)\n",
    "        # Convert Binary Data to a Pillow Image\n",
    "        image         =  Image.open(image_file)\n",
    "        file_path     =  download_path + file_name\n",
    "    \n",
    "        with open(file_path,\"wb\") as f:\n",
    "            image.save(f,\"JPEG\")\n",
    "\n",
    "        print(\"Success\")\n",
    "        \n",
    "    except Exception as e:\n",
    "        print(\"FAILED -\",e)"
   ]
  },
  {
   "cell_type": "code",
   "execution_count": 5,
   "id": "136f0e5e",
   "metadata": {},
   "outputs": [
    {
     "name": "stdout",
     "output_type": "stream",
     "text": [
      "Enter the topic:lakshadweep\n",
      "Found 1\n",
      "Found 2\n",
      "Found 3\n",
      "Found 4\n",
      "Found 5\n",
      "Found 6\n",
      "Found 7\n",
      "Found 8\n",
      "Found 9\n",
      "Found 10\n",
      "Success\n",
      "Success\n",
      "FAILED - cannot identify image file <_io.BytesIO object at 0x109539b70>\n",
      "Success\n",
      "Success\n",
      "Success\n",
      "Success\n",
      "Success\n",
      "Success\n",
      "Success\n"
     ]
    }
   ],
   "source": [
    "urls = get_images_from_google(browser,3,10)\n",
    "for i,url in enumerate(urls):\n",
    "    download_image(\"images/\",url,str(i)+'.jpg')\n",
    "browser.quit()"
   ]
  },
  {
   "cell_type": "code",
   "execution_count": null,
   "id": "da987dc1",
   "metadata": {},
   "outputs": [],
   "source": []
  }
 ],
 "metadata": {
  "kernelspec": {
   "display_name": "Python 3 (ipykernel)",
   "language": "python",
   "name": "python3"
  },
  "language_info": {
   "codemirror_mode": {
    "name": "ipython",
    "version": 3
   },
   "file_extension": ".py",
   "mimetype": "text/x-python",
   "name": "python",
   "nbconvert_exporter": "python",
   "pygments_lexer": "ipython3",
   "version": "3.11.5"
  }
 },
 "nbformat": 4,
 "nbformat_minor": 5
}
