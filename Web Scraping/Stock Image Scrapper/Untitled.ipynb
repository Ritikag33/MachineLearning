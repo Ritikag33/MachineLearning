{
 "cells": [
  {
   "cell_type": "code",
   "execution_count": 158,
   "id": "e86841f1",
   "metadata": {},
   "outputs": [],
   "source": [
    "import os\n",
    "import pandas as pd\n",
    "# Help to copy and paste the files\n",
    "from shutil import copyfile as copy\n",
    "\n",
    "df = pd.read_csv(\"Images.csv\")"
   ]
  },
  {
   "cell_type": "code",
   "execution_count": 159,
   "id": "5dbf7bd3",
   "metadata": {},
   "outputs": [
    {
     "data": {
      "text/html": [
       "<div>\n",
       "<style scoped>\n",
       "    .dataframe tbody tr th:only-of-type {\n",
       "        vertical-align: middle;\n",
       "    }\n",
       "\n",
       "    .dataframe tbody tr th {\n",
       "        vertical-align: top;\n",
       "    }\n",
       "\n",
       "    .dataframe thead th {\n",
       "        text-align: right;\n",
       "    }\n",
       "</style>\n",
       "<table border=\"1\" class=\"dataframe\">\n",
       "  <thead>\n",
       "    <tr style=\"text-align: right;\">\n",
       "      <th></th>\n",
       "      <th>link</th>\n",
       "      <th>tags</th>\n",
       "      <th>likes</th>\n",
       "      <th>comments</th>\n",
       "      <th>path</th>\n",
       "    </tr>\n",
       "  </thead>\n",
       "  <tbody>\n",
       "    <tr>\n",
       "      <th>0</th>\n",
       "      <td>https://cdn.pixabay.com/photo/2022/03/06/05/30...</td>\n",
       "      <td>Atmosphere, Clouds, Sky, Blue Sky</td>\n",
       "      <td>196</td>\n",
       "      <td>55</td>\n",
       "      <td>images/clouds-7050884__480.jpg</td>\n",
       "    </tr>\n",
       "    <tr>\n",
       "      <th>1</th>\n",
       "      <td>https://cdn.pixabay.com/photo/2022/04/07/11/45...</td>\n",
       "      <td>Bird, Ornithology, Hummingbird</td>\n",
       "      <td>76</td>\n",
       "      <td>20</td>\n",
       "      <td>images/bird-7117346__340.jpg</td>\n",
       "    </tr>\n",
       "    <tr>\n",
       "      <th>2</th>\n",
       "      <td>https://cdn.pixabay.com/photo/2022/02/28/15/28...</td>\n",
       "      <td>Subtropical Sea, Rainbow, Rainfall,</td>\n",
       "      <td>282</td>\n",
       "      <td>106</td>\n",
       "      <td>images/sea-7039471__340.jpg</td>\n",
       "    </tr>\n",
       "    <tr>\n",
       "      <th>3</th>\n",
       "      <td>https://cdn.pixabay.com/photo/2022/04/04/02/52...</td>\n",
       "      <td>Cherry Japan, Sakura Blossoms, Road,</td>\n",
       "      <td>42</td>\n",
       "      <td>11</td>\n",
       "      <td>images/cherry-blossoms-7110279__340.jpg</td>\n",
       "    </tr>\n",
       "    <tr>\n",
       "      <th>4</th>\n",
       "      <td>https://cdn.pixabay.com/photo/2022/04/09/18/06...</td>\n",
       "      <td>Marguerite, Plant Flower, Cape</td>\n",
       "      <td>39</td>\n",
       "      <td>15</td>\n",
       "      <td>images/cape-marguerite-7121992__340.jpg</td>\n",
       "    </tr>\n",
       "  </tbody>\n",
       "</table>\n",
       "</div>"
      ],
      "text/plain": [
       "                                                link  \\\n",
       "0  https://cdn.pixabay.com/photo/2022/03/06/05/30...   \n",
       "1  https://cdn.pixabay.com/photo/2022/04/07/11/45...   \n",
       "2  https://cdn.pixabay.com/photo/2022/02/28/15/28...   \n",
       "3  https://cdn.pixabay.com/photo/2022/04/04/02/52...   \n",
       "4  https://cdn.pixabay.com/photo/2022/04/09/18/06...   \n",
       "\n",
       "                                   tags  likes  comments  \\\n",
       "0     Atmosphere, Clouds, Sky, Blue Sky    196        55   \n",
       "1        Bird, Ornithology, Hummingbird     76        20   \n",
       "2   Subtropical Sea, Rainbow, Rainfall,    282       106   \n",
       "3  Cherry Japan, Sakura Blossoms, Road,     42        11   \n",
       "4        Marguerite, Plant Flower, Cape     39        15   \n",
       "\n",
       "                                      path  \n",
       "0           images/clouds-7050884__480.jpg  \n",
       "1             images/bird-7117346__340.jpg  \n",
       "2              images/sea-7039471__340.jpg  \n",
       "3  images/cherry-blossoms-7110279__340.jpg  \n",
       "4  images/cape-marguerite-7121992__340.jpg  "
      ]
     },
     "execution_count": 159,
     "metadata": {},
     "output_type": "execute_result"
    }
   ],
   "source": [
    "df.head()"
   ]
  },
  {
   "cell_type": "code",
   "execution_count": 160,
   "id": "fa23a700",
   "metadata": {},
   "outputs": [
    {
     "data": {
      "text/plain": [
       "(243, 5)"
      ]
     },
     "execution_count": 160,
     "metadata": {},
     "output_type": "execute_result"
    }
   ],
   "source": [
    "df.shape"
   ]
  },
  {
   "cell_type": "markdown",
   "id": "f0df42a3",
   "metadata": {},
   "source": [
    "### 1. Removing Unnecesaary Columns"
   ]
  },
  {
   "cell_type": "code",
   "execution_count": 161,
   "id": "90475b08",
   "metadata": {},
   "outputs": [
    {
     "data": {
      "text/html": [
       "<div>\n",
       "<style scoped>\n",
       "    .dataframe tbody tr th:only-of-type {\n",
       "        vertical-align: middle;\n",
       "    }\n",
       "\n",
       "    .dataframe tbody tr th {\n",
       "        vertical-align: top;\n",
       "    }\n",
       "\n",
       "    .dataframe thead th {\n",
       "        text-align: right;\n",
       "    }\n",
       "</style>\n",
       "<table border=\"1\" class=\"dataframe\">\n",
       "  <thead>\n",
       "    <tr style=\"text-align: right;\">\n",
       "      <th></th>\n",
       "      <th>tags</th>\n",
       "      <th>path</th>\n",
       "    </tr>\n",
       "  </thead>\n",
       "  <tbody>\n",
       "    <tr>\n",
       "      <th>0</th>\n",
       "      <td>Atmosphere, Clouds, Sky, Blue Sky</td>\n",
       "      <td>images/clouds-7050884__480.jpg</td>\n",
       "    </tr>\n",
       "    <tr>\n",
       "      <th>1</th>\n",
       "      <td>Bird, Ornithology, Hummingbird</td>\n",
       "      <td>images/bird-7117346__340.jpg</td>\n",
       "    </tr>\n",
       "    <tr>\n",
       "      <th>2</th>\n",
       "      <td>Subtropical Sea, Rainbow, Rainfall,</td>\n",
       "      <td>images/sea-7039471__340.jpg</td>\n",
       "    </tr>\n",
       "    <tr>\n",
       "      <th>3</th>\n",
       "      <td>Cherry Japan, Sakura Blossoms, Road,</td>\n",
       "      <td>images/cherry-blossoms-7110279__340.jpg</td>\n",
       "    </tr>\n",
       "    <tr>\n",
       "      <th>4</th>\n",
       "      <td>Marguerite, Plant Flower, Cape</td>\n",
       "      <td>images/cape-marguerite-7121992__340.jpg</td>\n",
       "    </tr>\n",
       "  </tbody>\n",
       "</table>\n",
       "</div>"
      ],
      "text/plain": [
       "                                   tags  \\\n",
       "0     Atmosphere, Clouds, Sky, Blue Sky   \n",
       "1        Bird, Ornithology, Hummingbird   \n",
       "2   Subtropical Sea, Rainbow, Rainfall,   \n",
       "3  Cherry Japan, Sakura Blossoms, Road,   \n",
       "4        Marguerite, Plant Flower, Cape   \n",
       "\n",
       "                                      path  \n",
       "0           images/clouds-7050884__480.jpg  \n",
       "1             images/bird-7117346__340.jpg  \n",
       "2              images/sea-7039471__340.jpg  \n",
       "3  images/cherry-blossoms-7110279__340.jpg  \n",
       "4  images/cape-marguerite-7121992__340.jpg  "
      ]
     },
     "execution_count": 161,
     "metadata": {},
     "output_type": "execute_result"
    }
   ],
   "source": [
    "del df['link']\n",
    "del df['likes']\n",
    "del df['comments']\n",
    "df.head()"
   ]
  },
  {
   "cell_type": "markdown",
   "id": "ec2acbdc",
   "metadata": {},
   "source": [
    "### 2. Finding all the tags"
   ]
  },
  {
   "cell_type": "code",
   "execution_count": 162,
   "id": "702ce718",
   "metadata": {},
   "outputs": [
    {
     "name": "stdout",
     "output_type": "stream",
     "text": [
      "535\n"
     ]
    }
   ],
   "source": [
    "t = []\n",
    "\n",
    "for tags in df['tags']:\n",
    "    \n",
    "    t += [tag.strip() for tag in tags.split(',')]\n",
    "\n",
    "tags = list(set(t))\n",
    "print(len(tags))"
   ]
  },
  {
   "cell_type": "markdown",
   "id": "c8e4b5b0",
   "metadata": {},
   "source": [
    "### 3.Creating folders for each Tag"
   ]
  },
  {
   "cell_type": "code",
   "execution_count": 165,
   "id": "01ac030d",
   "metadata": {},
   "outputs": [
    {
     "name": "stderr",
     "output_type": "stream",
     "text": [
      "100%|███████████████████████████████████████████████████████████████████████████████████████████████████████████████████████████████████████████████████████████████████████| 4/4 [00:00<00:00, 2241.15it/s]\n"
     ]
    }
   ],
   "source": [
    "import re\n",
    "\n",
    "for tag in tqdm(tags[1:]):\n",
    "    cleaned_tag = re.sub(r'[\\/:*?\"<>|]', '', tag.strip())\n",
    "    try:\n",
    "        os.mkdir('Dataset/' + cleaned_tag)\n",
    "    except:\n",
    "        pass"
   ]
  },
  {
   "cell_type": "markdown",
   "id": "2d6f6085",
   "metadata": {},
   "source": [
    "### 4. Saving images in Specific Folders"
   ]
  },
  {
   "cell_type": "code",
   "execution_count": 169,
   "id": "0ab0cce8",
   "metadata": {},
   "outputs": [
    {
     "name": "stderr",
     "output_type": "stream",
     "text": [
      "100%|████████████████████████████████████████████████████████████████████████████████████████████████████████████████████████████████████████████████████████████████████| 243/243 [00:00<00:00, 630.53it/s]\n"
     ]
    }
   ],
   "source": [
    "error = 0\n",
    "for data in tqdm(df.values):\n",
    "    tags = data[0]\n",
    "    src = data[1]\n",
    "    for tag in tags.split(','):\n",
    "        cleaned_tag = re.sub(r'[\\/:*?\"<>|]', '', tag.strip())\n",
    "        dst = 'Dataset/' + cleaned_tag + '/' + src.split('/')[-1]\n",
    "        try:\n",
    "            os.makedirs('Dataset/' + cleaned_tag, exist_ok=True)\n",
    "            copy(src, dst)\n",
    "        except:\n",
    "            error += 1"
   ]
  },
  {
   "cell_type": "markdown",
   "id": "7224ed52",
   "metadata": {},
   "source": [
    "### 5. Checking number of Folders"
   ]
  },
  {
   "cell_type": "code",
   "execution_count": 170,
   "id": "47678c45",
   "metadata": {},
   "outputs": [
    {
     "name": "stdout",
     "output_type": "stream",
     "text": [
      "676\n"
     ]
    }
   ],
   "source": [
    "folders = os.listdir('Dataset')\n",
    "print(len(folders))"
   ]
  },
  {
   "cell_type": "markdown",
   "id": "9228eda0",
   "metadata": {},
   "source": [
    "### 6. Checking number of images in Each Folder"
   ]
  },
  {
   "cell_type": "code",
   "execution_count": 171,
   "id": "87fac8ab",
   "metadata": {},
   "outputs": [
    {
     "name": "stdout",
     "output_type": "stream",
     "text": [
      "Sunset Meadow 1\n",
      "Spring Flowers 1\n"
     ]
    },
    {
     "ename": "NotADirectoryError",
     "evalue": "[Errno 20] Not a directory: 'Dataset/arch-6356637__340.jpg'",
     "output_type": "error",
     "traceback": [
      "\u001b[0;31m---------------------------------------------------------------------------\u001b[0m",
      "\u001b[0;31mNotADirectoryError\u001b[0m                        Traceback (most recent call last)",
      "Cell \u001b[0;32mIn[171], line 2\u001b[0m\n\u001b[1;32m      1\u001b[0m \u001b[38;5;28;01mfor\u001b[39;00m folder \u001b[38;5;129;01min\u001b[39;00m folders[:\u001b[38;5;241m10\u001b[39m]:\n\u001b[0;32m----> 2\u001b[0m     \u001b[38;5;28mprint\u001b[39m(folder,\u001b[38;5;28mlen\u001b[39m(os\u001b[38;5;241m.\u001b[39mlistdir(\u001b[38;5;124m'\u001b[39m\u001b[38;5;124mDataset/\u001b[39m\u001b[38;5;124m'\u001b[39m\u001b[38;5;241m+\u001b[39mfolder)))\n",
      "\u001b[0;31mNotADirectoryError\u001b[0m: [Errno 20] Not a directory: 'Dataset/arch-6356637__340.jpg'"
     ]
    }
   ],
   "source": [
    "for folder in folders[:10]:\n",
    "    print(folder,len(os.listdir('Dataset/'+folder)))"
   ]
  },
  {
   "cell_type": "markdown",
   "id": "e9ef6387",
   "metadata": {},
   "source": [
    " ### 7. Top 10 Folders with most number of images"
   ]
  },
  {
   "cell_type": "code",
   "execution_count": null,
   "id": "bd35fcf6",
   "metadata": {},
   "outputs": [],
   "source": []
  },
  {
   "cell_type": "markdown",
   "id": "1ff821c0",
   "metadata": {},
   "source": [
    "### 8. Top 10 Folders with least number of images"
   ]
  },
  {
   "cell_type": "code",
   "execution_count": null,
   "id": "22b5f509",
   "metadata": {},
   "outputs": [],
   "source": []
  },
  {
   "cell_type": "markdown",
   "id": "e49d12c6",
   "metadata": {},
   "source": [
    "### 9. Removing the Folders with less than 20 images"
   ]
  },
  {
   "cell_type": "code",
   "execution_count": null,
   "id": "af972a8d",
   "metadata": {},
   "outputs": [],
   "source": []
  },
  {
   "cell_type": "code",
   "execution_count": null,
   "id": "7addd147",
   "metadata": {},
   "outputs": [],
   "source": [
    "\n",
    "\n",
    "\n",
    "\n",
    "\n",
    "\n"
   ]
  }
 ],
 "metadata": {
  "kernelspec": {
   "display_name": "Python 3 (ipykernel)",
   "language": "python",
   "name": "python3"
  },
  "language_info": {
   "codemirror_mode": {
    "name": "ipython",
    "version": 3
   },
   "file_extension": ".py",
   "mimetype": "text/x-python",
   "name": "python",
   "nbconvert_exporter": "python",
   "pygments_lexer": "ipython3",
   "version": "3.11.5"
  }
 },
 "nbformat": 4,
 "nbformat_minor": 5
}
