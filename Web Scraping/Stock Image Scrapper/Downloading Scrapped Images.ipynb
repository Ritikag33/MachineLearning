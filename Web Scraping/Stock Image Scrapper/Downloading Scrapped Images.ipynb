{
 "cells": [
  {
   "cell_type": "code",
   "execution_count": 11,
   "id": "a46df8d4",
   "metadata": {},
   "outputs": [
    {
     "data": {
      "text/html": [
       "<div>\n",
       "<style scoped>\n",
       "    .dataframe tbody tr th:only-of-type {\n",
       "        vertical-align: middle;\n",
       "    }\n",
       "\n",
       "    .dataframe tbody tr th {\n",
       "        vertical-align: top;\n",
       "    }\n",
       "\n",
       "    .dataframe thead th {\n",
       "        text-align: right;\n",
       "    }\n",
       "</style>\n",
       "<table border=\"1\" class=\"dataframe\">\n",
       "  <thead>\n",
       "    <tr style=\"text-align: right;\">\n",
       "      <th></th>\n",
       "      <th>link</th>\n",
       "      <th>tags</th>\n",
       "      <th>likes</th>\n",
       "      <th>comments</th>\n",
       "    </tr>\n",
       "  </thead>\n",
       "  <tbody>\n",
       "    <tr>\n",
       "      <th>0</th>\n",
       "      <td>https://cdn.pixabay.com/photo/2022/03/06/05/30...</td>\n",
       "      <td>Atmosphere, Clouds, Sky, Blue Sky</td>\n",
       "      <td>196</td>\n",
       "      <td>55</td>\n",
       "    </tr>\n",
       "    <tr>\n",
       "      <th>1</th>\n",
       "      <td>https://cdn.pixabay.com/photo/2022/04/07/11/45...</td>\n",
       "      <td>Bird, Ornithology, Hummingbird</td>\n",
       "      <td>76</td>\n",
       "      <td>20</td>\n",
       "    </tr>\n",
       "    <tr>\n",
       "      <th>2</th>\n",
       "      <td>https://cdn.pixabay.com/photo/2022/02/28/15/28...</td>\n",
       "      <td>Subtropical Sea, Rainbow, Rainfall,</td>\n",
       "      <td>282</td>\n",
       "      <td>106</td>\n",
       "    </tr>\n",
       "    <tr>\n",
       "      <th>3</th>\n",
       "      <td>https://cdn.pixabay.com/photo/2022/04/04/02/52...</td>\n",
       "      <td>Cherry Japan, Sakura Blossoms, Road,</td>\n",
       "      <td>42</td>\n",
       "      <td>11</td>\n",
       "    </tr>\n",
       "    <tr>\n",
       "      <th>4</th>\n",
       "      <td>https://cdn.pixabay.com/photo/2022/04/09/18/06...</td>\n",
       "      <td>Marguerite, Plant Flower, Cape</td>\n",
       "      <td>39</td>\n",
       "      <td>15</td>\n",
       "    </tr>\n",
       "  </tbody>\n",
       "</table>\n",
       "</div>"
      ],
      "text/plain": [
       "                                                link  \\\n",
       "0  https://cdn.pixabay.com/photo/2022/03/06/05/30...   \n",
       "1  https://cdn.pixabay.com/photo/2022/04/07/11/45...   \n",
       "2  https://cdn.pixabay.com/photo/2022/02/28/15/28...   \n",
       "3  https://cdn.pixabay.com/photo/2022/04/04/02/52...   \n",
       "4  https://cdn.pixabay.com/photo/2022/04/09/18/06...   \n",
       "\n",
       "                                   tags  likes  comments  \n",
       "0     Atmosphere, Clouds, Sky, Blue Sky    196        55  \n",
       "1        Bird, Ornithology, Hummingbird     76        20  \n",
       "2   Subtropical Sea, Rainbow, Rainfall,    282       106  \n",
       "3  Cherry Japan, Sakura Blossoms, Road,     42        11  \n",
       "4        Marguerite, Plant Flower, Cape     39        15  "
      ]
     },
     "execution_count": 11,
     "metadata": {},
     "output_type": "execute_result"
    }
   ],
   "source": [
    "import pandas as pd\n",
    "import requests\n",
    "from tqdm import tqdm\n",
    "\n",
    "df = pd.read_csv(\"Netlify stock pictures.csv\")\n",
    "df.head()"
   ]
  },
  {
   "cell_type": "markdown",
   "id": "df8ac5ff",
   "metadata": {},
   "source": [
    "### 1. Downloading an Image"
   ]
  },
  {
   "cell_type": "code",
   "execution_count": 12,
   "id": "07f1d6fd",
   "metadata": {},
   "outputs": [],
   "source": [
    "link = df['link'][0]"
   ]
  },
  {
   "cell_type": "code",
   "execution_count": 13,
   "id": "8a76f8f1",
   "metadata": {},
   "outputs": [],
   "source": [
    "res = requests.get(link)"
   ]
  },
  {
   "cell_type": "code",
   "execution_count": 14,
   "id": "470340b3",
   "metadata": {},
   "outputs": [
    {
     "data": {
      "text/plain": [
       "<function BufferedWriter.close>"
      ]
     },
     "execution_count": 14,
     "metadata": {},
     "output_type": "execute_result"
    }
   ],
   "source": [
    "fd = open('Img.png','wb')\n",
    "fd.write(res.content)\n",
    "fd.close"
   ]
  },
  {
   "cell_type": "markdown",
   "id": "b76afb24",
   "metadata": {},
   "source": [
    "### Downloading all images"
   ]
  },
  {
   "cell_type": "code",
   "execution_count": 15,
   "id": "b2ecc7d0",
   "metadata": {},
   "outputs": [
    {
     "name": "stderr",
     "output_type": "stream",
     "text": [
      "100%|█████████████████████████████████████████████████████████████████████████████████████████████████████████████████████████████████████████████████████████████████████| 243/243 [04:54<00:00,  1.21s/it]\n"
     ]
    }
   ],
   "source": [
    "path = []\n",
    "for link in tqdm(df['link']):\n",
    "    res = requests.get(link)\n",
    "    fd  = open('images/'+link.split('/')[-1],'wb')\n",
    "    fd.write(res.content)\n",
    "    fd.close()\n",
    "    \n",
    "    path.append('images/'+link.split('/')[-1])"
   ]
  },
  {
   "cell_type": "code",
   "execution_count": 19,
   "id": "7d0f4fe1",
   "metadata": {},
   "outputs": [],
   "source": [
    "df['path'] = path"
   ]
  },
  {
   "cell_type": "code",
   "execution_count": 20,
   "id": "94bce3ad",
   "metadata": {},
   "outputs": [
    {
     "data": {
      "text/html": [
       "<div>\n",
       "<style scoped>\n",
       "    .dataframe tbody tr th:only-of-type {\n",
       "        vertical-align: middle;\n",
       "    }\n",
       "\n",
       "    .dataframe tbody tr th {\n",
       "        vertical-align: top;\n",
       "    }\n",
       "\n",
       "    .dataframe thead th {\n",
       "        text-align: right;\n",
       "    }\n",
       "</style>\n",
       "<table border=\"1\" class=\"dataframe\">\n",
       "  <thead>\n",
       "    <tr style=\"text-align: right;\">\n",
       "      <th></th>\n",
       "      <th>link</th>\n",
       "      <th>tags</th>\n",
       "      <th>likes</th>\n",
       "      <th>comments</th>\n",
       "      <th>path</th>\n",
       "    </tr>\n",
       "  </thead>\n",
       "  <tbody>\n",
       "    <tr>\n",
       "      <th>0</th>\n",
       "      <td>https://cdn.pixabay.com/photo/2022/03/06/05/30...</td>\n",
       "      <td>Atmosphere, Clouds, Sky, Blue Sky</td>\n",
       "      <td>196</td>\n",
       "      <td>55</td>\n",
       "      <td>images/clouds-7050884__480.jpg</td>\n",
       "    </tr>\n",
       "    <tr>\n",
       "      <th>1</th>\n",
       "      <td>https://cdn.pixabay.com/photo/2022/04/07/11/45...</td>\n",
       "      <td>Bird, Ornithology, Hummingbird</td>\n",
       "      <td>76</td>\n",
       "      <td>20</td>\n",
       "      <td>images/bird-7117346__340.jpg</td>\n",
       "    </tr>\n",
       "    <tr>\n",
       "      <th>2</th>\n",
       "      <td>https://cdn.pixabay.com/photo/2022/02/28/15/28...</td>\n",
       "      <td>Subtropical Sea, Rainbow, Rainfall,</td>\n",
       "      <td>282</td>\n",
       "      <td>106</td>\n",
       "      <td>images/sea-7039471__340.jpg</td>\n",
       "    </tr>\n",
       "    <tr>\n",
       "      <th>3</th>\n",
       "      <td>https://cdn.pixabay.com/photo/2022/04/04/02/52...</td>\n",
       "      <td>Cherry Japan, Sakura Blossoms, Road,</td>\n",
       "      <td>42</td>\n",
       "      <td>11</td>\n",
       "      <td>images/cherry-blossoms-7110279__340.jpg</td>\n",
       "    </tr>\n",
       "    <tr>\n",
       "      <th>4</th>\n",
       "      <td>https://cdn.pixabay.com/photo/2022/04/09/18/06...</td>\n",
       "      <td>Marguerite, Plant Flower, Cape</td>\n",
       "      <td>39</td>\n",
       "      <td>15</td>\n",
       "      <td>images/cape-marguerite-7121992__340.jpg</td>\n",
       "    </tr>\n",
       "  </tbody>\n",
       "</table>\n",
       "</div>"
      ],
      "text/plain": [
       "                                                link  \\\n",
       "0  https://cdn.pixabay.com/photo/2022/03/06/05/30...   \n",
       "1  https://cdn.pixabay.com/photo/2022/04/07/11/45...   \n",
       "2  https://cdn.pixabay.com/photo/2022/02/28/15/28...   \n",
       "3  https://cdn.pixabay.com/photo/2022/04/04/02/52...   \n",
       "4  https://cdn.pixabay.com/photo/2022/04/09/18/06...   \n",
       "\n",
       "                                   tags  likes  comments  \\\n",
       "0     Atmosphere, Clouds, Sky, Blue Sky    196        55   \n",
       "1        Bird, Ornithology, Hummingbird     76        20   \n",
       "2   Subtropical Sea, Rainbow, Rainfall,    282       106   \n",
       "3  Cherry Japan, Sakura Blossoms, Road,     42        11   \n",
       "4        Marguerite, Plant Flower, Cape     39        15   \n",
       "\n",
       "                                      path  \n",
       "0           images/clouds-7050884__480.jpg  \n",
       "1             images/bird-7117346__340.jpg  \n",
       "2              images/sea-7039471__340.jpg  \n",
       "3  images/cherry-blossoms-7110279__340.jpg  \n",
       "4  images/cape-marguerite-7121992__340.jpg  "
      ]
     },
     "execution_count": 20,
     "metadata": {},
     "output_type": "execute_result"
    }
   ],
   "source": [
    "df.head()"
   ]
  },
  {
   "cell_type": "code",
   "execution_count": 21,
   "id": "211f39da",
   "metadata": {},
   "outputs": [],
   "source": [
    "df.to_csv('Images.csv',index=False)"
   ]
  },
  {
   "cell_type": "code",
   "execution_count": null,
   "id": "75c0712b",
   "metadata": {},
   "outputs": [],
   "source": []
  }
 ],
 "metadata": {
  "kernelspec": {
   "display_name": "Python 3 (ipykernel)",
   "language": "python",
   "name": "python3"
  },
  "language_info": {
   "codemirror_mode": {
    "name": "ipython",
    "version": 3
   },
   "file_extension": ".py",
   "mimetype": "text/x-python",
   "name": "python",
   "nbconvert_exporter": "python",
   "pygments_lexer": "ipython3",
   "version": "3.11.5"
  }
 },
 "nbformat": 4,
 "nbformat_minor": 5
}
