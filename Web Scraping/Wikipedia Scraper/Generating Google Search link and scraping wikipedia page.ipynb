{
 "cells": [
  {
   "cell_type": "code",
   "execution_count": 1,
   "id": "96c7279a",
   "metadata": {},
   "outputs": [],
   "source": [
    "import requests\n",
    "from bs4 import BeautifulSoup"
   ]
  },
  {
   "cell_type": "code",
   "execution_count": 41,
   "id": "c6ce57f2",
   "metadata": {},
   "outputs": [
    {
     "name": "stdout",
     "output_type": "stream",
     "text": [
      "Enter the topic:vidhyut jamwal\n"
     ]
    }
   ],
   "source": [
    "title = str(input('Enter the topic:'))\n",
    "link  = 'https://www.google.com/search?q=' + title + '+wikipedia'\n",
    "res   = requests.get(link)\n",
    "soup  = BeautifulSoup(res.text,'html.parser')\n",
    "\n",
    "for sp in soup.find_all(\"div\"):\n",
    "    try:\n",
    "        link = sp.find('a').get('href')\n",
    "        if 'en.wikipedia.org' in link:\n",
    "            link = link[7:].split('&')[0]\n",
    "            break\n",
    "    except:\n",
    "        pass"
   ]
  },
  {
   "cell_type": "code",
   "execution_count": 42,
   "id": "f5aa3e59",
   "metadata": {},
   "outputs": [],
   "source": [
    "res  = requests.get(link)\n",
    "soup = BeautifulSoup(res.text,'html.parser')\n",
    "\n",
    "corpus = ''\n",
    "for p in soup.find_all(\"p\"):\n",
    "    corpus += p.text\n",
    "    corpus += '\\n'\n",
    "    \n",
    "corpus = corpus.strip()"
   ]
  },
  {
   "cell_type": "code",
   "execution_count": 43,
   "id": "3ef0122a",
   "metadata": {},
   "outputs": [],
   "source": [
    "for i in range(1,657):\n",
    "    corpus = corpus.replace(\"[\"+str(i)+']','')"
   ]
  },
  {
   "cell_type": "code",
   "execution_count": 45,
   "id": "0b6d09bd",
   "metadata": {},
   "outputs": [
    {
     "data": {
      "text/plain": [
       "'Vidyut Jammwal'"
      ]
     },
     "execution_count": 45,
     "metadata": {},
     "output_type": "execute_result"
    }
   ],
   "source": [
    "heading = soup.find(\"h1\").text\n",
    "heading"
   ]
  },
  {
   "cell_type": "code",
   "execution_count": 46,
   "id": "4bbf1147",
   "metadata": {},
   "outputs": [],
   "source": [
    "fd= open(heading+'.txt','w')\n",
    "fd.write(corpus)\n",
    "fd.close()"
   ]
  },
  {
   "cell_type": "code",
   "execution_count": null,
   "id": "7fd78c0a",
   "metadata": {},
   "outputs": [],
   "source": []
  }
 ],
 "metadata": {
  "kernelspec": {
   "display_name": "Python 3 (ipykernel)",
   "language": "python",
   "name": "python3"
  },
  "language_info": {
   "codemirror_mode": {
    "name": "ipython",
    "version": 3
   },
   "file_extension": ".py",
   "mimetype": "text/x-python",
   "name": "python",
   "nbconvert_exporter": "python",
   "pygments_lexer": "ipython3",
   "version": "3.11.5"
  }
 },
 "nbformat": 4,
 "nbformat_minor": 5
}
