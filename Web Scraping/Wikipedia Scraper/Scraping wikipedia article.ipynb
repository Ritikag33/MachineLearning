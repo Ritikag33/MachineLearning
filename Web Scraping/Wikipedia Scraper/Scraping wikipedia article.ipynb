{
 "cells": [
  {
   "cell_type": "code",
   "execution_count": 1,
   "id": "b5f0860c",
   "metadata": {},
   "outputs": [],
   "source": [
    "import requests\n",
    "from bs4 import BeautifulSoup"
   ]
  },
  {
   "cell_type": "code",
   "execution_count": 30,
   "id": "9d6cde69",
   "metadata": {},
   "outputs": [],
   "source": [
    "res  = requests.get('https://en.wikipedia.org/wiki/Lionel_Messi')\n",
    "soup = BeautifulSoup(res.text,'html.parser')"
   ]
  },
  {
   "cell_type": "code",
   "execution_count": 31,
   "id": "c3318bf5",
   "metadata": {},
   "outputs": [
    {
     "data": {
      "text/plain": [
       "'Lionel Messi'"
      ]
     },
     "execution_count": 31,
     "metadata": {},
     "output_type": "execute_result"
    }
   ],
   "source": [
    "heading = soup.find(\"h1\").text\n",
    "heading"
   ]
  },
  {
   "cell_type": "code",
   "execution_count": 32,
   "id": "c91555ac",
   "metadata": {},
   "outputs": [],
   "source": [
    "corpus = ''\n",
    "for p in soup.find_all(\"p\"):\n",
    "    corpus += p.text\n",
    "    corpus += '\\n'\n",
    "    \n",
    "corpus = corpus.strip()"
   ]
  },
  {
   "cell_type": "code",
   "execution_count": 33,
   "id": "a8089c42",
   "metadata": {},
   "outputs": [],
   "source": [
    "for i in range(1,657):\n",
    "    corpus = corpus.replace(\"[\"+str(i)+']','')"
   ]
  },
  {
   "cell_type": "code",
   "execution_count": 34,
   "id": "e975ddc5",
   "metadata": {},
   "outputs": [],
   "source": [
    "fd= open(heading+'.txt','w')\n",
    "fd.write(corpus)\n",
    "fd.close()"
   ]
  },
  {
   "cell_type": "code",
   "execution_count": null,
   "id": "689ba99d",
   "metadata": {},
   "outputs": [],
   "source": []
  },
  {
   "cell_type": "code",
   "execution_count": null,
   "id": "230ceaa2",
   "metadata": {},
   "outputs": [],
   "source": []
  }
 ],
 "metadata": {
  "kernelspec": {
   "display_name": "Python 3 (ipykernel)",
   "language": "python",
   "name": "python3"
  },
  "language_info": {
   "codemirror_mode": {
    "name": "ipython",
    "version": 3
   },
   "file_extension": ".py",
   "mimetype": "text/x-python",
   "name": "python",
   "nbconvert_exporter": "python",
   "pygments_lexer": "ipython3",
   "version": "3.11.5"
  }
 },
 "nbformat": 4,
 "nbformat_minor": 5
}
