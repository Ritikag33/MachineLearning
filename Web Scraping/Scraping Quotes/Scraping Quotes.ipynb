{
 "cells": [
  {
   "cell_type": "markdown",
   "id": "7f7349d0",
   "metadata": {},
   "source": [
    "### Page Scrapper"
   ]
  },
  {
   "cell_type": "code",
   "execution_count": 23,
   "id": "4e180656",
   "metadata": {},
   "outputs": [],
   "source": [
    "import requests\n",
    "import pandas as pd"
   ]
  },
  {
   "cell_type": "code",
   "execution_count": 3,
   "id": "6098ac43",
   "metadata": {},
   "outputs": [],
   "source": [
    "link = 'https://quotes.toscrape.com/'"
   ]
  },
  {
   "cell_type": "code",
   "execution_count": 4,
   "id": "a916dac3",
   "metadata": {},
   "outputs": [],
   "source": [
    "# Page is imported : You got the response from the website successfully\n",
    "res = requests.get(link)"
   ]
  },
  {
   "cell_type": "code",
   "execution_count": 5,
   "id": "fd7e62c0",
   "metadata": {},
   "outputs": [],
   "source": [
    "# Returns the html code for the web page\n",
    "html = res.text"
   ]
  },
  {
   "cell_type": "code",
   "execution_count": 6,
   "id": "059f0ea1",
   "metadata": {},
   "outputs": [
    {
     "data": {
      "text/plain": [
       "str"
      ]
     },
     "execution_count": 6,
     "metadata": {},
     "output_type": "execute_result"
    }
   ],
   "source": [
    "type(html)"
   ]
  },
  {
   "cell_type": "code",
   "execution_count": 7,
   "id": "5bd59717",
   "metadata": {},
   "outputs": [],
   "source": [
    "# Create a file in write mode and save html code into it\n",
    "fd = open('main.html','w')\n",
    "fd.write(html)\n",
    "fd.close()"
   ]
  },
  {
   "cell_type": "markdown",
   "id": "c08c9356",
   "metadata": {},
   "source": [
    "### Scraping Quotes"
   ]
  },
  {
   "cell_type": "code",
   "execution_count": 8,
   "id": "6f7f807e",
   "metadata": {},
   "outputs": [],
   "source": [
    "from bs4 import BeautifulSoup # Helps in scraping"
   ]
  },
  {
   "cell_type": "code",
   "execution_count": 9,
   "id": "6f0b772d",
   "metadata": {},
   "outputs": [],
   "source": [
    "res = requests.get('https://quotes.toscrape.com/')\n",
    "# Soup : Object containing the whole string of data\n",
    "soup = BeautifulSoup(res.text,'html.parser')"
   ]
  },
  {
   "cell_type": "code",
   "execution_count": 10,
   "id": "cf7bb35d",
   "metadata": {},
   "outputs": [
    {
     "data": {
      "text/plain": [
       "<!DOCTYPE html>\n",
       "\n",
       "<html lang=\"en\">\n",
       "<head>\n",
       "<meta charset=\"utf-8\"/>\n",
       "<title>Quotes to Scrape</title>\n",
       "<link href=\"/static/bootstrap.min.css\" rel=\"stylesheet\"/>\n",
       "<link href=\"/static/main.css\" rel=\"stylesheet\"/>\n",
       "</head>\n",
       "<body>\n",
       "<div class=\"container\">\n",
       "<div class=\"row header-box\">\n",
       "<div class=\"col-md-8\">\n",
       "<h1>\n",
       "<a href=\"/\" style=\"text-decoration: none\">Quotes to Scrape</a>\n",
       "</h1>\n",
       "</div>\n",
       "<div class=\"col-md-4\">\n",
       "<p>\n",
       "<a href=\"/login\">Login</a>\n",
       "</p>\n",
       "</div>\n",
       "</div>\n",
       "<div class=\"row\">\n",
       "<div class=\"col-md-8\">\n",
       "<div class=\"quote\" itemscope=\"\" itemtype=\"http://schema.org/CreativeWork\">\n",
       "<span class=\"text\" itemprop=\"text\">“The world as we have created it is a process of our thinking. It cannot be changed without changing our thinking.”</span>\n",
       "<span>by <small class=\"author\" itemprop=\"author\">Albert Einstein</small>\n",
       "<a href=\"/author/Albert-Einstein\">(about)</a>\n",
       "</span>\n",
       "<div class=\"tags\">\n",
       "            Tags:\n",
       "            <meta class=\"keywords\" content=\"change,deep-thoughts,thinking,world\" itemprop=\"keywords\"/>\n",
       "<a class=\"tag\" href=\"/tag/change/page/1/\">change</a>\n",
       "<a class=\"tag\" href=\"/tag/deep-thoughts/page/1/\">deep-thoughts</a>\n",
       "<a class=\"tag\" href=\"/tag/thinking/page/1/\">thinking</a>\n",
       "<a class=\"tag\" href=\"/tag/world/page/1/\">world</a>\n",
       "</div>\n",
       "</div>\n",
       "<div class=\"quote\" itemscope=\"\" itemtype=\"http://schema.org/CreativeWork\">\n",
       "<span class=\"text\" itemprop=\"text\">“It is our choices, Harry, that show what we truly are, far more than our abilities.”</span>\n",
       "<span>by <small class=\"author\" itemprop=\"author\">J.K. Rowling</small>\n",
       "<a href=\"/author/J-K-Rowling\">(about)</a>\n",
       "</span>\n",
       "<div class=\"tags\">\n",
       "            Tags:\n",
       "            <meta class=\"keywords\" content=\"abilities,choices\" itemprop=\"keywords\"/>\n",
       "<a class=\"tag\" href=\"/tag/abilities/page/1/\">abilities</a>\n",
       "<a class=\"tag\" href=\"/tag/choices/page/1/\">choices</a>\n",
       "</div>\n",
       "</div>\n",
       "<div class=\"quote\" itemscope=\"\" itemtype=\"http://schema.org/CreativeWork\">\n",
       "<span class=\"text\" itemprop=\"text\">“There are only two ways to live your life. One is as though nothing is a miracle. The other is as though everything is a miracle.”</span>\n",
       "<span>by <small class=\"author\" itemprop=\"author\">Albert Einstein</small>\n",
       "<a href=\"/author/Albert-Einstein\">(about)</a>\n",
       "</span>\n",
       "<div class=\"tags\">\n",
       "            Tags:\n",
       "            <meta class=\"keywords\" content=\"inspirational,life,live,miracle,miracles\" itemprop=\"keywords\"/>\n",
       "<a class=\"tag\" href=\"/tag/inspirational/page/1/\">inspirational</a>\n",
       "<a class=\"tag\" href=\"/tag/life/page/1/\">life</a>\n",
       "<a class=\"tag\" href=\"/tag/live/page/1/\">live</a>\n",
       "<a class=\"tag\" href=\"/tag/miracle/page/1/\">miracle</a>\n",
       "<a class=\"tag\" href=\"/tag/miracles/page/1/\">miracles</a>\n",
       "</div>\n",
       "</div>\n",
       "<div class=\"quote\" itemscope=\"\" itemtype=\"http://schema.org/CreativeWork\">\n",
       "<span class=\"text\" itemprop=\"text\">“The person, be it gentleman or lady, who has not pleasure in a good novel, must be intolerably stupid.”</span>\n",
       "<span>by <small class=\"author\" itemprop=\"author\">Jane Austen</small>\n",
       "<a href=\"/author/Jane-Austen\">(about)</a>\n",
       "</span>\n",
       "<div class=\"tags\">\n",
       "            Tags:\n",
       "            <meta class=\"keywords\" content=\"aliteracy,books,classic,humor\" itemprop=\"keywords\"/>\n",
       "<a class=\"tag\" href=\"/tag/aliteracy/page/1/\">aliteracy</a>\n",
       "<a class=\"tag\" href=\"/tag/books/page/1/\">books</a>\n",
       "<a class=\"tag\" href=\"/tag/classic/page/1/\">classic</a>\n",
       "<a class=\"tag\" href=\"/tag/humor/page/1/\">humor</a>\n",
       "</div>\n",
       "</div>\n",
       "<div class=\"quote\" itemscope=\"\" itemtype=\"http://schema.org/CreativeWork\">\n",
       "<span class=\"text\" itemprop=\"text\">“Imperfection is beauty, madness is genius and it's better to be absolutely ridiculous than absolutely boring.”</span>\n",
       "<span>by <small class=\"author\" itemprop=\"author\">Marilyn Monroe</small>\n",
       "<a href=\"/author/Marilyn-Monroe\">(about)</a>\n",
       "</span>\n",
       "<div class=\"tags\">\n",
       "            Tags:\n",
       "            <meta class=\"keywords\" content=\"be-yourself,inspirational\" itemprop=\"keywords\"/>\n",
       "<a class=\"tag\" href=\"/tag/be-yourself/page/1/\">be-yourself</a>\n",
       "<a class=\"tag\" href=\"/tag/inspirational/page/1/\">inspirational</a>\n",
       "</div>\n",
       "</div>\n",
       "<div class=\"quote\" itemscope=\"\" itemtype=\"http://schema.org/CreativeWork\">\n",
       "<span class=\"text\" itemprop=\"text\">“Try not to become a man of success. Rather become a man of value.”</span>\n",
       "<span>by <small class=\"author\" itemprop=\"author\">Albert Einstein</small>\n",
       "<a href=\"/author/Albert-Einstein\">(about)</a>\n",
       "</span>\n",
       "<div class=\"tags\">\n",
       "            Tags:\n",
       "            <meta class=\"keywords\" content=\"adulthood,success,value\" itemprop=\"keywords\"/>\n",
       "<a class=\"tag\" href=\"/tag/adulthood/page/1/\">adulthood</a>\n",
       "<a class=\"tag\" href=\"/tag/success/page/1/\">success</a>\n",
       "<a class=\"tag\" href=\"/tag/value/page/1/\">value</a>\n",
       "</div>\n",
       "</div>\n",
       "<div class=\"quote\" itemscope=\"\" itemtype=\"http://schema.org/CreativeWork\">\n",
       "<span class=\"text\" itemprop=\"text\">“It is better to be hated for what you are than to be loved for what you are not.”</span>\n",
       "<span>by <small class=\"author\" itemprop=\"author\">André Gide</small>\n",
       "<a href=\"/author/Andre-Gide\">(about)</a>\n",
       "</span>\n",
       "<div class=\"tags\">\n",
       "            Tags:\n",
       "            <meta class=\"keywords\" content=\"life,love\" itemprop=\"keywords\"/>\n",
       "<a class=\"tag\" href=\"/tag/life/page/1/\">life</a>\n",
       "<a class=\"tag\" href=\"/tag/love/page/1/\">love</a>\n",
       "</div>\n",
       "</div>\n",
       "<div class=\"quote\" itemscope=\"\" itemtype=\"http://schema.org/CreativeWork\">\n",
       "<span class=\"text\" itemprop=\"text\">“I have not failed. I've just found 10,000 ways that won't work.”</span>\n",
       "<span>by <small class=\"author\" itemprop=\"author\">Thomas A. Edison</small>\n",
       "<a href=\"/author/Thomas-A-Edison\">(about)</a>\n",
       "</span>\n",
       "<div class=\"tags\">\n",
       "            Tags:\n",
       "            <meta class=\"keywords\" content=\"edison,failure,inspirational,paraphrased\" itemprop=\"keywords\"/>\n",
       "<a class=\"tag\" href=\"/tag/edison/page/1/\">edison</a>\n",
       "<a class=\"tag\" href=\"/tag/failure/page/1/\">failure</a>\n",
       "<a class=\"tag\" href=\"/tag/inspirational/page/1/\">inspirational</a>\n",
       "<a class=\"tag\" href=\"/tag/paraphrased/page/1/\">paraphrased</a>\n",
       "</div>\n",
       "</div>\n",
       "<div class=\"quote\" itemscope=\"\" itemtype=\"http://schema.org/CreativeWork\">\n",
       "<span class=\"text\" itemprop=\"text\">“A woman is like a tea bag; you never know how strong it is until it's in hot water.”</span>\n",
       "<span>by <small class=\"author\" itemprop=\"author\">Eleanor Roosevelt</small>\n",
       "<a href=\"/author/Eleanor-Roosevelt\">(about)</a>\n",
       "</span>\n",
       "<div class=\"tags\">\n",
       "            Tags:\n",
       "            <meta class=\"keywords\" content=\"misattributed-eleanor-roosevelt\" itemprop=\"keywords\"/>\n",
       "<a class=\"tag\" href=\"/tag/misattributed-eleanor-roosevelt/page/1/\">misattributed-eleanor-roosevelt</a>\n",
       "</div>\n",
       "</div>\n",
       "<div class=\"quote\" itemscope=\"\" itemtype=\"http://schema.org/CreativeWork\">\n",
       "<span class=\"text\" itemprop=\"text\">“A day without sunshine is like, you know, night.”</span>\n",
       "<span>by <small class=\"author\" itemprop=\"author\">Steve Martin</small>\n",
       "<a href=\"/author/Steve-Martin\">(about)</a>\n",
       "</span>\n",
       "<div class=\"tags\">\n",
       "            Tags:\n",
       "            <meta class=\"keywords\" content=\"humor,obvious,simile\" itemprop=\"keywords\"/>\n",
       "<a class=\"tag\" href=\"/tag/humor/page/1/\">humor</a>\n",
       "<a class=\"tag\" href=\"/tag/obvious/page/1/\">obvious</a>\n",
       "<a class=\"tag\" href=\"/tag/simile/page/1/\">simile</a>\n",
       "</div>\n",
       "</div>\n",
       "<nav>\n",
       "<ul class=\"pager\">\n",
       "<li class=\"next\">\n",
       "<a href=\"/page/2/\">Next <span aria-hidden=\"true\">→</span></a>\n",
       "</li>\n",
       "</ul>\n",
       "</nav>\n",
       "</div>\n",
       "<div class=\"col-md-4 tags-box\">\n",
       "<h2>Top Ten tags</h2>\n",
       "<span class=\"tag-item\">\n",
       "<a class=\"tag\" href=\"/tag/love/\" style=\"font-size: 28px\">love</a>\n",
       "</span>\n",
       "<span class=\"tag-item\">\n",
       "<a class=\"tag\" href=\"/tag/inspirational/\" style=\"font-size: 26px\">inspirational</a>\n",
       "</span>\n",
       "<span class=\"tag-item\">\n",
       "<a class=\"tag\" href=\"/tag/life/\" style=\"font-size: 26px\">life</a>\n",
       "</span>\n",
       "<span class=\"tag-item\">\n",
       "<a class=\"tag\" href=\"/tag/humor/\" style=\"font-size: 24px\">humor</a>\n",
       "</span>\n",
       "<span class=\"tag-item\">\n",
       "<a class=\"tag\" href=\"/tag/books/\" style=\"font-size: 22px\">books</a>\n",
       "</span>\n",
       "<span class=\"tag-item\">\n",
       "<a class=\"tag\" href=\"/tag/reading/\" style=\"font-size: 14px\">reading</a>\n",
       "</span>\n",
       "<span class=\"tag-item\">\n",
       "<a class=\"tag\" href=\"/tag/friendship/\" style=\"font-size: 10px\">friendship</a>\n",
       "</span>\n",
       "<span class=\"tag-item\">\n",
       "<a class=\"tag\" href=\"/tag/friends/\" style=\"font-size: 8px\">friends</a>\n",
       "</span>\n",
       "<span class=\"tag-item\">\n",
       "<a class=\"tag\" href=\"/tag/truth/\" style=\"font-size: 8px\">truth</a>\n",
       "</span>\n",
       "<span class=\"tag-item\">\n",
       "<a class=\"tag\" href=\"/tag/simile/\" style=\"font-size: 6px\">simile</a>\n",
       "</span>\n",
       "</div>\n",
       "</div>\n",
       "</div>\n",
       "<footer class=\"footer\">\n",
       "<div class=\"container\">\n",
       "<p class=\"text-muted\">\n",
       "                Quotes by: <a href=\"https://www.goodreads.com/quotes\">GoodReads.com</a>\n",
       "</p>\n",
       "<p class=\"copyright\">\n",
       "                Made with <span class=\"zyte\">❤</span> by <a class=\"zyte\" href=\"https://www.zyte.com\">Zyte</a>\n",
       "</p>\n",
       "</div>\n",
       "</footer>\n",
       "</body>\n",
       "</html>"
      ]
     },
     "execution_count": 10,
     "metadata": {},
     "output_type": "execute_result"
    }
   ],
   "source": [
    "soup"
   ]
  },
  {
   "cell_type": "code",
   "execution_count": 11,
   "id": "7c7b9aec",
   "metadata": {},
   "outputs": [
    {
     "name": "stdout",
     "output_type": "stream",
     "text": [
      "The world as we have created it is a process of our thinking. It cannot be changed without changing our thinking.\n"
     ]
    }
   ],
   "source": [
    "# Extract text from soup whose class='text' and tag='span'\n",
    "# Slicing : Removing 1st and last string\n",
    "print(soup.find('span', class_='text').text[1:-1])"
   ]
  },
  {
   "cell_type": "code",
   "execution_count": 12,
   "id": "85ddf11f",
   "metadata": {},
   "outputs": [],
   "source": [
    "quotes =[]\n",
    "for quote in soup.find_all('span',class_='text'):\n",
    "    quotes.append(quote.text[1:-1])"
   ]
  },
  {
   "cell_type": "code",
   "execution_count": 13,
   "id": "3425df91",
   "metadata": {},
   "outputs": [
    {
     "data": {
      "text/plain": [
       "['The world as we have created it is a process of our thinking. It cannot be changed without changing our thinking.',\n",
       " 'It is our choices, Harry, that show what we truly are, far more than our abilities.',\n",
       " 'There are only two ways to live your life. One is as though nothing is a miracle. The other is as though everything is a miracle.',\n",
       " 'The person, be it gentleman or lady, who has not pleasure in a good novel, must be intolerably stupid.',\n",
       " \"Imperfection is beauty, madness is genius and it's better to be absolutely ridiculous than absolutely boring.\",\n",
       " 'Try not to become a man of success. Rather become a man of value.',\n",
       " 'It is better to be hated for what you are than to be loved for what you are not.',\n",
       " \"I have not failed. I've just found 10,000 ways that won't work.\",\n",
       " \"A woman is like a tea bag; you never know how strong it is until it's in hot water.\",\n",
       " 'A day without sunshine is like, you know, night.']"
      ]
     },
     "execution_count": 13,
     "metadata": {},
     "output_type": "execute_result"
    }
   ],
   "source": [
    "quotes"
   ]
  },
  {
   "cell_type": "markdown",
   "id": "0da483fb",
   "metadata": {},
   "source": [
    "### Scraping Quotes with Author Details"
   ]
  },
  {
   "cell_type": "code",
   "execution_count": 14,
   "id": "79d52dd9",
   "metadata": {},
   "outputs": [
    {
     "data": {
      "text/plain": [
       "10"
      ]
     },
     "execution_count": 14,
     "metadata": {},
     "output_type": "execute_result"
    }
   ],
   "source": [
    "len(soup.find_all('div',class_='quote'))"
   ]
  },
  {
   "cell_type": "code",
   "execution_count": 15,
   "id": "acf78a48",
   "metadata": {},
   "outputs": [
    {
     "data": {
      "text/plain": [
       "<div class=\"quote\" itemscope=\"\" itemtype=\"http://schema.org/CreativeWork\">\n",
       "<span class=\"text\" itemprop=\"text\">“The world as we have created it is a process of our thinking. It cannot be changed without changing our thinking.”</span>\n",
       "<span>by <small class=\"author\" itemprop=\"author\">Albert Einstein</small>\n",
       "<a href=\"/author/Albert-Einstein\">(about)</a>\n",
       "</span>\n",
       "<div class=\"tags\">\n",
       "            Tags:\n",
       "            <meta class=\"keywords\" content=\"change,deep-thoughts,thinking,world\" itemprop=\"keywords\"/>\n",
       "<a class=\"tag\" href=\"/tag/change/page/1/\">change</a>\n",
       "<a class=\"tag\" href=\"/tag/deep-thoughts/page/1/\">deep-thoughts</a>\n",
       "<a class=\"tag\" href=\"/tag/thinking/page/1/\">thinking</a>\n",
       "<a class=\"tag\" href=\"/tag/world/page/1/\">world</a>\n",
       "</div>\n",
       "</div>"
      ]
     },
     "execution_count": 15,
     "metadata": {},
     "output_type": "execute_result"
    }
   ],
   "source": [
    "# Extracting 1st quote data\n",
    "soup.find_all('div',class_='quote')[0]"
   ]
  },
  {
   "cell_type": "code",
   "execution_count": 19,
   "id": "ae7d55bc",
   "metadata": {},
   "outputs": [],
   "source": [
    "data = []\n",
    "# Extracting each quote\n",
    "for sp in soup.find_all('div',class_ = 'quote'):\n",
    "    quote = sp.find('span',class_ = 'text').text[1:-1]\n",
    "    # Extracting name of the author\n",
    "    author = sp.find('small',class_ = 'author').text\n",
    "    # Extracting author_id of each author\n",
    "    author_id = sp.find('a').get('href')\n",
    "    # Extracting all tags for each quote\n",
    "    tags = []\n",
    "    for tag in sp.find_all('a',class_='tag'):\n",
    "        tags.append(tag.text)\n",
    "        \n",
    "    tags = ','.join(tags)\n",
    "    data.append((quote,author,author_id,tags))"
   ]
  },
  {
   "cell_type": "code",
   "execution_count": 20,
   "id": "aaf908ca",
   "metadata": {},
   "outputs": [
    {
     "data": {
      "text/plain": [
       "10"
      ]
     },
     "execution_count": 20,
     "metadata": {},
     "output_type": "execute_result"
    }
   ],
   "source": [
    "len(data)"
   ]
  },
  {
   "cell_type": "code",
   "execution_count": 22,
   "id": "eb030869",
   "metadata": {},
   "outputs": [
    {
     "data": {
      "text/plain": [
       "'Albert Einstein'"
      ]
     },
     "execution_count": 22,
     "metadata": {},
     "output_type": "execute_result"
    }
   ],
   "source": [
    "data[0][1]"
   ]
  },
  {
   "cell_type": "code",
   "execution_count": 25,
   "id": "54fef67a",
   "metadata": {},
   "outputs": [],
   "source": [
    "df = pd.DataFrame(data,columns=['quote','author','author_id','tags'])"
   ]
  },
  {
   "cell_type": "code",
   "execution_count": 28,
   "id": "458790e9",
   "metadata": {},
   "outputs": [
    {
     "data": {
      "text/html": [
       "<div>\n",
       "<style scoped>\n",
       "    .dataframe tbody tr th:only-of-type {\n",
       "        vertical-align: middle;\n",
       "    }\n",
       "\n",
       "    .dataframe tbody tr th {\n",
       "        vertical-align: top;\n",
       "    }\n",
       "\n",
       "    .dataframe thead th {\n",
       "        text-align: right;\n",
       "    }\n",
       "</style>\n",
       "<table border=\"1\" class=\"dataframe\">\n",
       "  <thead>\n",
       "    <tr style=\"text-align: right;\">\n",
       "      <th></th>\n",
       "      <th>quote</th>\n",
       "      <th>author</th>\n",
       "      <th>author_id</th>\n",
       "      <th>tags</th>\n",
       "    </tr>\n",
       "  </thead>\n",
       "  <tbody>\n",
       "    <tr>\n",
       "      <th>0</th>\n",
       "      <td>The world as we have created it is a process o...</td>\n",
       "      <td>Albert Einstein</td>\n",
       "      <td>/author/Albert-Einstein</td>\n",
       "      <td>change,deep-thoughts,thinking,world</td>\n",
       "    </tr>\n",
       "    <tr>\n",
       "      <th>1</th>\n",
       "      <td>It is our choices, Harry, that show what we tr...</td>\n",
       "      <td>J.K. Rowling</td>\n",
       "      <td>/author/J-K-Rowling</td>\n",
       "      <td>abilities,choices</td>\n",
       "    </tr>\n",
       "    <tr>\n",
       "      <th>2</th>\n",
       "      <td>There are only two ways to live your life. One...</td>\n",
       "      <td>Albert Einstein</td>\n",
       "      <td>/author/Albert-Einstein</td>\n",
       "      <td>inspirational,life,live,miracle,miracles</td>\n",
       "    </tr>\n",
       "    <tr>\n",
       "      <th>3</th>\n",
       "      <td>The person, be it gentleman or lady, who has n...</td>\n",
       "      <td>Jane Austen</td>\n",
       "      <td>/author/Jane-Austen</td>\n",
       "      <td>aliteracy,books,classic,humor</td>\n",
       "    </tr>\n",
       "    <tr>\n",
       "      <th>4</th>\n",
       "      <td>Imperfection is beauty, madness is genius and ...</td>\n",
       "      <td>Marilyn Monroe</td>\n",
       "      <td>/author/Marilyn-Monroe</td>\n",
       "      <td>be-yourself,inspirational</td>\n",
       "    </tr>\n",
       "    <tr>\n",
       "      <th>5</th>\n",
       "      <td>Try not to become a man of success. Rather bec...</td>\n",
       "      <td>Albert Einstein</td>\n",
       "      <td>/author/Albert-Einstein</td>\n",
       "      <td>adulthood,success,value</td>\n",
       "    </tr>\n",
       "    <tr>\n",
       "      <th>6</th>\n",
       "      <td>It is better to be hated for what you are than...</td>\n",
       "      <td>André Gide</td>\n",
       "      <td>/author/Andre-Gide</td>\n",
       "      <td>life,love</td>\n",
       "    </tr>\n",
       "    <tr>\n",
       "      <th>7</th>\n",
       "      <td>I have not failed. I've just found 10,000 ways...</td>\n",
       "      <td>Thomas A. Edison</td>\n",
       "      <td>/author/Thomas-A-Edison</td>\n",
       "      <td>edison,failure,inspirational,paraphrased</td>\n",
       "    </tr>\n",
       "    <tr>\n",
       "      <th>8</th>\n",
       "      <td>A woman is like a tea bag; you never know how ...</td>\n",
       "      <td>Eleanor Roosevelt</td>\n",
       "      <td>/author/Eleanor-Roosevelt</td>\n",
       "      <td>misattributed-eleanor-roosevelt</td>\n",
       "    </tr>\n",
       "    <tr>\n",
       "      <th>9</th>\n",
       "      <td>A day without sunshine is like, you know, night.</td>\n",
       "      <td>Steve Martin</td>\n",
       "      <td>/author/Steve-Martin</td>\n",
       "      <td>humor,obvious,simile</td>\n",
       "    </tr>\n",
       "  </tbody>\n",
       "</table>\n",
       "</div>"
      ],
      "text/plain": [
       "                                               quote             author  \\\n",
       "0  The world as we have created it is a process o...    Albert Einstein   \n",
       "1  It is our choices, Harry, that show what we tr...       J.K. Rowling   \n",
       "2  There are only two ways to live your life. One...    Albert Einstein   \n",
       "3  The person, be it gentleman or lady, who has n...        Jane Austen   \n",
       "4  Imperfection is beauty, madness is genius and ...     Marilyn Monroe   \n",
       "5  Try not to become a man of success. Rather bec...    Albert Einstein   \n",
       "6  It is better to be hated for what you are than...         André Gide   \n",
       "7  I have not failed. I've just found 10,000 ways...   Thomas A. Edison   \n",
       "8  A woman is like a tea bag; you never know how ...  Eleanor Roosevelt   \n",
       "9   A day without sunshine is like, you know, night.       Steve Martin   \n",
       "\n",
       "                   author_id                                      tags  \n",
       "0    /author/Albert-Einstein       change,deep-thoughts,thinking,world  \n",
       "1        /author/J-K-Rowling                         abilities,choices  \n",
       "2    /author/Albert-Einstein  inspirational,life,live,miracle,miracles  \n",
       "3        /author/Jane-Austen             aliteracy,books,classic,humor  \n",
       "4     /author/Marilyn-Monroe                 be-yourself,inspirational  \n",
       "5    /author/Albert-Einstein                   adulthood,success,value  \n",
       "6         /author/Andre-Gide                                 life,love  \n",
       "7    /author/Thomas-A-Edison  edison,failure,inspirational,paraphrased  \n",
       "8  /author/Eleanor-Roosevelt           misattributed-eleanor-roosevelt  \n",
       "9       /author/Steve-Martin                      humor,obvious,simile  "
      ]
     },
     "execution_count": 28,
     "metadata": {},
     "output_type": "execute_result"
    }
   ],
   "source": [
    "df"
   ]
  },
  {
   "cell_type": "code",
   "execution_count": 27,
   "id": "e9dae9ef",
   "metadata": {},
   "outputs": [],
   "source": [
    "df.to_csv('Quotes.csv',index=False)"
   ]
  },
  {
   "cell_type": "markdown",
   "id": "2c7012cf",
   "metadata": {},
   "source": [
    "### Scraping Quotes from Multiple Pages"
   ]
  },
  {
   "cell_type": "code",
   "execution_count": 32,
   "id": "936ea742",
   "metadata": {},
   "outputs": [
    {
     "name": "stderr",
     "output_type": "stream",
     "text": [
      "100%|███████████████████████████████████████████| 10/10 [00:22<00:00,  2.21s/it]\n"
     ]
    }
   ],
   "source": [
    "# Gives progress of percentage of work done\n",
    "from tqdm import tqdm\n",
    "data = []\n",
    "for page in tqdm(range(1,11)):\n",
    "    link = 'https://quotes.toscrape.com/page/'+ str(page)\n",
    "    # Getting response\n",
    "    res = requests.get(link)\n",
    "    soup = BeautifulSoup(res.text,'html.parser')\n",
    "    \n",
    "    # Extracting each quote\n",
    "    for sp in soup.find_all('div',class_ = 'quote'):\n",
    "        quote = sp.find('span',class_ = 'text').text[1:-1]\n",
    "        # Extracting name of the author\n",
    "        author = sp.find('small',class_ = 'author').text\n",
    "        # Extracting author_id of each author\n",
    "        author_id = sp.find('a').get('href')\n",
    "        # Extracting all tags for each quote\n",
    "        tags = []\n",
    "        for tag in sp.find_all('a',class_='tag'):\n",
    "            tags.append(tag.text)\n",
    "\n",
    "        tags = ','.join(tags)\n",
    "        data.append((quote,author,author_id,tags))"
   ]
  },
  {
   "cell_type": "code",
   "execution_count": 33,
   "id": "765fe355",
   "metadata": {},
   "outputs": [
    {
     "data": {
      "text/plain": [
       "100"
      ]
     },
     "execution_count": 33,
     "metadata": {},
     "output_type": "execute_result"
    }
   ],
   "source": [
    "len(data)"
   ]
  },
  {
   "cell_type": "code",
   "execution_count": 34,
   "id": "9b8b6208",
   "metadata": {},
   "outputs": [],
   "source": [
    "df = pd.DataFrame(data,columns=['quote','author','author_id','tags'])"
   ]
  },
  {
   "cell_type": "code",
   "execution_count": 42,
   "id": "3c67f1cc",
   "metadata": {},
   "outputs": [
    {
     "data": {
      "text/html": [
       "<div>\n",
       "<style scoped>\n",
       "    .dataframe tbody tr th:only-of-type {\n",
       "        vertical-align: middle;\n",
       "    }\n",
       "\n",
       "    .dataframe tbody tr th {\n",
       "        vertical-align: top;\n",
       "    }\n",
       "\n",
       "    .dataframe thead th {\n",
       "        text-align: right;\n",
       "    }\n",
       "</style>\n",
       "<table border=\"1\" class=\"dataframe\">\n",
       "  <thead>\n",
       "    <tr style=\"text-align: right;\">\n",
       "      <th></th>\n",
       "      <th>quote</th>\n",
       "      <th>author</th>\n",
       "      <th>author_id</th>\n",
       "      <th>tags</th>\n",
       "      <th>author_link</th>\n",
       "    </tr>\n",
       "  </thead>\n",
       "  <tbody>\n",
       "    <tr>\n",
       "      <th>0</th>\n",
       "      <td>The world as we have created it is a process o...</td>\n",
       "      <td>Albert Einstein</td>\n",
       "      <td>/author/Albert-Einstein</td>\n",
       "      <td>change,deep-thoughts,thinking,world</td>\n",
       "      <td>https://quotes.toscrape.com/author/Albert-Eins...</td>\n",
       "    </tr>\n",
       "    <tr>\n",
       "      <th>1</th>\n",
       "      <td>It is our choices, Harry, that show what we tr...</td>\n",
       "      <td>J.K. Rowling</td>\n",
       "      <td>/author/J-K-Rowling</td>\n",
       "      <td>abilities,choices</td>\n",
       "      <td>https://quotes.toscrape.com/author/J-K-Rowling</td>\n",
       "    </tr>\n",
       "    <tr>\n",
       "      <th>2</th>\n",
       "      <td>There are only two ways to live your life. One...</td>\n",
       "      <td>Albert Einstein</td>\n",
       "      <td>/author/Albert-Einstein</td>\n",
       "      <td>inspirational,life,live,miracle,miracles</td>\n",
       "      <td>https://quotes.toscrape.com/author/Albert-Eins...</td>\n",
       "    </tr>\n",
       "    <tr>\n",
       "      <th>3</th>\n",
       "      <td>The person, be it gentleman or lady, who has n...</td>\n",
       "      <td>Jane Austen</td>\n",
       "      <td>/author/Jane-Austen</td>\n",
       "      <td>aliteracy,books,classic,humor</td>\n",
       "      <td>https://quotes.toscrape.com/author/Jane-Austen</td>\n",
       "    </tr>\n",
       "    <tr>\n",
       "      <th>4</th>\n",
       "      <td>Imperfection is beauty, madness is genius and ...</td>\n",
       "      <td>Marilyn Monroe</td>\n",
       "      <td>/author/Marilyn-Monroe</td>\n",
       "      <td>be-yourself,inspirational</td>\n",
       "      <td>https://quotes.toscrape.com/author/Marilyn-Monroe</td>\n",
       "    </tr>\n",
       "  </tbody>\n",
       "</table>\n",
       "</div>"
      ],
      "text/plain": [
       "                                               quote           author  \\\n",
       "0  The world as we have created it is a process o...  Albert Einstein   \n",
       "1  It is our choices, Harry, that show what we tr...     J.K. Rowling   \n",
       "2  There are only two ways to live your life. One...  Albert Einstein   \n",
       "3  The person, be it gentleman or lady, who has n...      Jane Austen   \n",
       "4  Imperfection is beauty, madness is genius and ...   Marilyn Monroe   \n",
       "\n",
       "                 author_id                                      tags  \\\n",
       "0  /author/Albert-Einstein       change,deep-thoughts,thinking,world   \n",
       "1      /author/J-K-Rowling                         abilities,choices   \n",
       "2  /author/Albert-Einstein  inspirational,life,live,miracle,miracles   \n",
       "3      /author/Jane-Austen             aliteracy,books,classic,humor   \n",
       "4   /author/Marilyn-Monroe                 be-yourself,inspirational   \n",
       "\n",
       "                                         author_link  \n",
       "0  https://quotes.toscrape.com/author/Albert-Eins...  \n",
       "1     https://quotes.toscrape.com/author/J-K-Rowling  \n",
       "2  https://quotes.toscrape.com/author/Albert-Eins...  \n",
       "3     https://quotes.toscrape.com/author/Jane-Austen  \n",
       "4  https://quotes.toscrape.com/author/Marilyn-Monroe  "
      ]
     },
     "execution_count": 42,
     "metadata": {},
     "output_type": "execute_result"
    }
   ],
   "source": [
    "df.head()"
   ]
  },
  {
   "cell_type": "code",
   "execution_count": 38,
   "id": "05187cb0",
   "metadata": {},
   "outputs": [],
   "source": [
    "df['author_link'] = 'https://quotes.toscrape.com' + df['author_id']"
   ]
  },
  {
   "cell_type": "code",
   "execution_count": 40,
   "id": "becbcdf3",
   "metadata": {},
   "outputs": [
    {
     "data": {
      "text/html": [
       "<div>\n",
       "<style scoped>\n",
       "    .dataframe tbody tr th:only-of-type {\n",
       "        vertical-align: middle;\n",
       "    }\n",
       "\n",
       "    .dataframe tbody tr th {\n",
       "        vertical-align: top;\n",
       "    }\n",
       "\n",
       "    .dataframe thead th {\n",
       "        text-align: right;\n",
       "    }\n",
       "</style>\n",
       "<table border=\"1\" class=\"dataframe\">\n",
       "  <thead>\n",
       "    <tr style=\"text-align: right;\">\n",
       "      <th></th>\n",
       "      <th>quote</th>\n",
       "      <th>author</th>\n",
       "      <th>author_id</th>\n",
       "      <th>tags</th>\n",
       "      <th>author_link</th>\n",
       "    </tr>\n",
       "  </thead>\n",
       "  <tbody>\n",
       "    <tr>\n",
       "      <th>0</th>\n",
       "      <td>The world as we have created it is a process o...</td>\n",
       "      <td>Albert Einstein</td>\n",
       "      <td>/author/Albert-Einstein</td>\n",
       "      <td>change,deep-thoughts,thinking,world</td>\n",
       "      <td>https://quotes.toscrape.com/author/Albert-Eins...</td>\n",
       "    </tr>\n",
       "    <tr>\n",
       "      <th>1</th>\n",
       "      <td>It is our choices, Harry, that show what we tr...</td>\n",
       "      <td>J.K. Rowling</td>\n",
       "      <td>/author/J-K-Rowling</td>\n",
       "      <td>abilities,choices</td>\n",
       "      <td>https://quotes.toscrape.com/author/J-K-Rowling</td>\n",
       "    </tr>\n",
       "    <tr>\n",
       "      <th>2</th>\n",
       "      <td>There are only two ways to live your life. One...</td>\n",
       "      <td>Albert Einstein</td>\n",
       "      <td>/author/Albert-Einstein</td>\n",
       "      <td>inspirational,life,live,miracle,miracles</td>\n",
       "      <td>https://quotes.toscrape.com/author/Albert-Eins...</td>\n",
       "    </tr>\n",
       "    <tr>\n",
       "      <th>3</th>\n",
       "      <td>The person, be it gentleman or lady, who has n...</td>\n",
       "      <td>Jane Austen</td>\n",
       "      <td>/author/Jane-Austen</td>\n",
       "      <td>aliteracy,books,classic,humor</td>\n",
       "      <td>https://quotes.toscrape.com/author/Jane-Austen</td>\n",
       "    </tr>\n",
       "    <tr>\n",
       "      <th>4</th>\n",
       "      <td>Imperfection is beauty, madness is genius and ...</td>\n",
       "      <td>Marilyn Monroe</td>\n",
       "      <td>/author/Marilyn-Monroe</td>\n",
       "      <td>be-yourself,inspirational</td>\n",
       "      <td>https://quotes.toscrape.com/author/Marilyn-Monroe</td>\n",
       "    </tr>\n",
       "  </tbody>\n",
       "</table>\n",
       "</div>"
      ],
      "text/plain": [
       "                                               quote           author  \\\n",
       "0  The world as we have created it is a process o...  Albert Einstein   \n",
       "1  It is our choices, Harry, that show what we tr...     J.K. Rowling   \n",
       "2  There are only two ways to live your life. One...  Albert Einstein   \n",
       "3  The person, be it gentleman or lady, who has n...      Jane Austen   \n",
       "4  Imperfection is beauty, madness is genius and ...   Marilyn Monroe   \n",
       "\n",
       "                 author_id                                      tags  \\\n",
       "0  /author/Albert-Einstein       change,deep-thoughts,thinking,world   \n",
       "1      /author/J-K-Rowling                         abilities,choices   \n",
       "2  /author/Albert-Einstein  inspirational,life,live,miracle,miracles   \n",
       "3      /author/Jane-Austen             aliteracy,books,classic,humor   \n",
       "4   /author/Marilyn-Monroe                 be-yourself,inspirational   \n",
       "\n",
       "                                         author_link  \n",
       "0  https://quotes.toscrape.com/author/Albert-Eins...  \n",
       "1     https://quotes.toscrape.com/author/J-K-Rowling  \n",
       "2  https://quotes.toscrape.com/author/Albert-Eins...  \n",
       "3     https://quotes.toscrape.com/author/Jane-Austen  \n",
       "4  https://quotes.toscrape.com/author/Marilyn-Monroe  "
      ]
     },
     "execution_count": 40,
     "metadata": {},
     "output_type": "execute_result"
    }
   ],
   "source": [
    "df.head()"
   ]
  },
  {
   "cell_type": "code",
   "execution_count": 41,
   "id": "647d18c9",
   "metadata": {},
   "outputs": [],
   "source": [
    "df.to_csv('100Quotes.csv',index=False)"
   ]
  }
 ],
 "metadata": {
  "kernelspec": {
   "display_name": "Python 3 (ipykernel)",
   "language": "python",
   "name": "python3"
  },
  "language_info": {
   "codemirror_mode": {
    "name": "ipython",
    "version": 3
   },
   "file_extension": ".py",
   "mimetype": "text/x-python",
   "name": "python",
   "nbconvert_exporter": "python",
   "pygments_lexer": "ipython3",
   "version": "3.11.5"
  }
 },
 "nbformat": 4,
 "nbformat_minor": 5
}
