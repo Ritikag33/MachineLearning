{
 "cells": [
  {
   "cell_type": "markdown",
   "id": "690a0203",
   "metadata": {},
   "source": [
    "Solar Irradiance: Unit to measure how much sunlight you are capturing."
   ]
  },
  {
   "cell_type": "code",
   "execution_count": null,
   "id": "b585c752",
   "metadata": {},
   "outputs": [],
   "source": []
  }
 ],
 "metadata": {
  "kernelspec": {
   "display_name": "Python 3 (ipykernel)",
   "language": "python",
   "name": "python3"
  },
  "language_info": {
   "codemirror_mode": {
    "name": "ipython",
    "version": 3
   },
   "file_extension": ".py",
   "mimetype": "text/x-python",
   "name": "python",
   "nbconvert_exporter": "python",
   "pygments_lexer": "ipython3",
   "version": "3.11.5"
  }
 },
 "nbformat": 4,
 "nbformat_minor": 5
}
