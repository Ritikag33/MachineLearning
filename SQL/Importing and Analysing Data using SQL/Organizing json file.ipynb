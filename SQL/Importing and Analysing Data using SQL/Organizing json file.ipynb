{
 "cells": [
  {
   "cell_type": "code",
   "execution_count": 6,
   "id": "1b9f66f6",
   "metadata": {},
   "outputs": [],
   "source": [
    "import pandas as pd\n",
    "import json"
   ]
  },
  {
   "cell_type": "code",
   "execution_count": 9,
   "id": "86d76578",
   "metadata": {},
   "outputs": [
    {
     "name": "stdout",
     "output_type": "stream",
     "text": [
      "                                               Sentence Sentiment\n",
      "0     \"The GeoSolutions technology will leverage Ben...  positive\n",
      "1     \"$ESI on lows, down $1.50 to $2.50 BK a real p...  negative\n",
      "2     \"For the last quarter of 2010 , Componenta 's ...  positive\n",
      "3     \"According to the Finnish-Russian Chamber of C...   neutral\n",
      "4     \"The Swedish buyout firm has sold its remainin...   neutral\n",
      "...                                                 ...       ...\n",
      "5837  RISING costs have forced packaging producer Hu...  negative\n",
      "5838  Nordic Walking was first used as a summer trai...   neutral\n",
      "5839  \"According shipping company Viking Line , the ...   neutral\n",
      "5840  \"In the building and home improvement trade , ...   neutral\n",
      "5841  HELSINKI AFX - KCI Konecranes said it has won ...  positive\n",
      "\n",
      "[5842 rows x 2 columns]\n"
     ]
    }
   ],
   "source": [
    "# Read the JSON file as a string with utf-8-sig encoding\n",
    "with open(\"Sentiment.json\", \"r\", encoding=\"utf-8-sig\") as file:\n",
    "    data = file.read()\n",
    "\n",
    "# Load the JSON string\n",
    "json_data = json.loads(data)\n",
    "\n",
    "# Create a DataFrame\n",
    "df = pd.DataFrame(json_data)\n",
    "\n",
    "# Drop the empty column\n",
    "df = df.drop(columns=[\"\"])\n",
    "\n",
    "# Display the DataFrame\n",
    "print(df)"
   ]
  },
  {
   "cell_type": "code",
   "execution_count": 10,
   "id": "74b7f48c",
   "metadata": {},
   "outputs": [],
   "source": [
    "# Save the DataFrame to a new JSON file\n",
    "df.to_json(\"SentimentAnalysis.json\", orient=\"records\", lines=True)"
   ]
  },
  {
   "cell_type": "code",
   "execution_count": 11,
   "id": "6a074e99",
   "metadata": {},
   "outputs": [],
   "source": [
    "df.to_csv(\"SentimentAnalysis.csv\", index=False)"
   ]
  },
  {
   "cell_type": "code",
   "execution_count": 18,
   "id": "30f04c92",
   "metadata": {},
   "outputs": [
    {
     "data": {
      "text/plain": [
       "neutral                                                            3130\n",
       "positive                                                           1851\n",
       "negative                                                            859\n",
       "the damage is done. No one wants to touch it now\"                     1\n",
       "profitability guidance amended upward: http://stks.co/jQ0w\"\"\"\"\"       1\n",
       "Name: Sentiment, dtype: int64"
      ]
     },
     "execution_count": 18,
     "metadata": {},
     "output_type": "execute_result"
    }
   ],
   "source": [
    "df['Sentiment'].value_counts()"
   ]
  },
  {
   "cell_type": "code",
   "execution_count": null,
   "id": "90780e50",
   "metadata": {},
   "outputs": [],
   "source": []
  }
 ],
 "metadata": {
  "kernelspec": {
   "display_name": "Python 3 (ipykernel)",
   "language": "python",
   "name": "python3"
  },
  "language_info": {
   "codemirror_mode": {
    "name": "ipython",
    "version": 3
   },
   "file_extension": ".py",
   "mimetype": "text/x-python",
   "name": "python",
   "nbconvert_exporter": "python",
   "pygments_lexer": "ipython3",
   "version": "3.11.5"
  }
 },
 "nbformat": 4,
 "nbformat_minor": 5
}
