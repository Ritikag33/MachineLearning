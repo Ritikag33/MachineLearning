{
 "cells": [
  {
   "cell_type": "code",
   "execution_count": 1,
   "id": "867167ab",
   "metadata": {},
   "outputs": [],
   "source": [
    "import pandas as pd\n",
    "from scipy.stats import binom"
   ]
  },
  {
   "cell_type": "markdown",
   "id": "96613717",
   "metadata": {},
   "source": [
    "# Binomial Distribution\n"
   ]
  },
  {
   "cell_type": "code",
   "execution_count": 2,
   "id": "e982c2ab",
   "metadata": {},
   "outputs": [],
   "source": [
    "number_of_trials=20\n",
    "prob_of_success=0.25"
   ]
  },
  {
   "cell_type": "code",
   "execution_count": 3,
   "id": "a6538e91",
   "metadata": {},
   "outputs": [
    {
     "data": {
      "text/plain": [
       "0.1686092932141038"
      ]
     },
     "execution_count": 3,
     "metadata": {},
     "output_type": "execute_result"
    }
   ],
   "source": [
    "#Binomial Distribution: Probability Function\n",
    "binom.pmf(6, number_of_trials,prob_of_success)"
   ]
  },
  {
   "cell_type": "code",
   "execution_count": 4,
   "id": "9bb41628",
   "metadata": {},
   "outputs": [],
   "source": [
    "successes=list(range(0,number_of_trials+1))"
   ]
  },
  {
   "cell_type": "code",
   "execution_count": 8,
   "id": "11ec3656",
   "metadata": {},
   "outputs": [],
   "source": [
    "df=pd.DataFrame(successes)"
   ]
  },
  {
   "cell_type": "code",
   "execution_count": 29,
   "id": "c5a8b3e3",
   "metadata": {},
   "outputs": [],
   "source": [
    "#Renaming the column\n",
    "df=df.rename(columns={0:\"Number_of_successes\"})"
   ]
  },
  {
   "cell_type": "code",
   "execution_count": 24,
   "id": "d5f7efd1",
   "metadata": {},
   "outputs": [],
   "source": [
    "probability= lambda x:binom.pmf(x,number_of_trials,prob_of_success)"
   ]
  },
  {
   "cell_type": "code",
   "execution_count": 31,
   "id": "9b9773ea",
   "metadata": {},
   "outputs": [],
   "source": [
    "df[\"probability\"]=df[\"Number_of_successes\"].apply(probability)"
   ]
  },
  {
   "cell_type": "code",
   "execution_count": 32,
   "id": "f7576821",
   "metadata": {},
   "outputs": [
    {
     "data": {
      "text/html": [
       "<div>\n",
       "<style scoped>\n",
       "    .dataframe tbody tr th:only-of-type {\n",
       "        vertical-align: middle;\n",
       "    }\n",
       "\n",
       "    .dataframe tbody tr th {\n",
       "        vertical-align: top;\n",
       "    }\n",
       "\n",
       "    .dataframe thead th {\n",
       "        text-align: right;\n",
       "    }\n",
       "</style>\n",
       "<table border=\"1\" class=\"dataframe\">\n",
       "  <thead>\n",
       "    <tr style=\"text-align: right;\">\n",
       "      <th></th>\n",
       "      <th>Number_of_successes</th>\n",
       "      <th>probability</th>\n",
       "    </tr>\n",
       "  </thead>\n",
       "  <tbody>\n",
       "    <tr>\n",
       "      <th>0</th>\n",
       "      <td>0</td>\n",
       "      <td>3.171212e-03</td>\n",
       "    </tr>\n",
       "    <tr>\n",
       "      <th>1</th>\n",
       "      <td>1</td>\n",
       "      <td>2.114141e-02</td>\n",
       "    </tr>\n",
       "    <tr>\n",
       "      <th>2</th>\n",
       "      <td>2</td>\n",
       "      <td>6.694781e-02</td>\n",
       "    </tr>\n",
       "    <tr>\n",
       "      <th>3</th>\n",
       "      <td>3</td>\n",
       "      <td>1.338956e-01</td>\n",
       "    </tr>\n",
       "    <tr>\n",
       "      <th>4</th>\n",
       "      <td>4</td>\n",
       "      <td>1.896855e-01</td>\n",
       "    </tr>\n",
       "    <tr>\n",
       "      <th>5</th>\n",
       "      <td>5</td>\n",
       "      <td>2.023312e-01</td>\n",
       "    </tr>\n",
       "    <tr>\n",
       "      <th>6</th>\n",
       "      <td>6</td>\n",
       "      <td>1.686093e-01</td>\n",
       "    </tr>\n",
       "    <tr>\n",
       "      <th>7</th>\n",
       "      <td>7</td>\n",
       "      <td>1.124062e-01</td>\n",
       "    </tr>\n",
       "    <tr>\n",
       "      <th>8</th>\n",
       "      <td>8</td>\n",
       "      <td>6.088669e-02</td>\n",
       "    </tr>\n",
       "    <tr>\n",
       "      <th>9</th>\n",
       "      <td>9</td>\n",
       "      <td>2.706075e-02</td>\n",
       "    </tr>\n",
       "    <tr>\n",
       "      <th>10</th>\n",
       "      <td>10</td>\n",
       "      <td>9.922275e-03</td>\n",
       "    </tr>\n",
       "    <tr>\n",
       "      <th>11</th>\n",
       "      <td>11</td>\n",
       "      <td>3.006750e-03</td>\n",
       "    </tr>\n",
       "    <tr>\n",
       "      <th>12</th>\n",
       "      <td>12</td>\n",
       "      <td>7.516875e-04</td>\n",
       "    </tr>\n",
       "    <tr>\n",
       "      <th>13</th>\n",
       "      <td>13</td>\n",
       "      <td>1.541923e-04</td>\n",
       "    </tr>\n",
       "    <tr>\n",
       "      <th>14</th>\n",
       "      <td>14</td>\n",
       "      <td>2.569872e-05</td>\n",
       "    </tr>\n",
       "    <tr>\n",
       "      <th>15</th>\n",
       "      <td>15</td>\n",
       "      <td>3.426496e-06</td>\n",
       "    </tr>\n",
       "    <tr>\n",
       "      <th>16</th>\n",
       "      <td>16</td>\n",
       "      <td>3.569266e-07</td>\n",
       "    </tr>\n",
       "    <tr>\n",
       "      <th>17</th>\n",
       "      <td>17</td>\n",
       "      <td>2.799425e-08</td>\n",
       "    </tr>\n",
       "    <tr>\n",
       "      <th>18</th>\n",
       "      <td>18</td>\n",
       "      <td>1.555236e-09</td>\n",
       "    </tr>\n",
       "    <tr>\n",
       "      <th>19</th>\n",
       "      <td>19</td>\n",
       "      <td>5.456968e-11</td>\n",
       "    </tr>\n",
       "    <tr>\n",
       "      <th>20</th>\n",
       "      <td>20</td>\n",
       "      <td>9.094947e-13</td>\n",
       "    </tr>\n",
       "  </tbody>\n",
       "</table>\n",
       "</div>"
      ],
      "text/plain": [
       "    Number_of_successes   probability\n",
       "0                     0  3.171212e-03\n",
       "1                     1  2.114141e-02\n",
       "2                     2  6.694781e-02\n",
       "3                     3  1.338956e-01\n",
       "4                     4  1.896855e-01\n",
       "5                     5  2.023312e-01\n",
       "6                     6  1.686093e-01\n",
       "7                     7  1.124062e-01\n",
       "8                     8  6.088669e-02\n",
       "9                     9  2.706075e-02\n",
       "10                   10  9.922275e-03\n",
       "11                   11  3.006750e-03\n",
       "12                   12  7.516875e-04\n",
       "13                   13  1.541923e-04\n",
       "14                   14  2.569872e-05\n",
       "15                   15  3.426496e-06\n",
       "16                   16  3.569266e-07\n",
       "17                   17  2.799425e-08\n",
       "18                   18  1.555236e-09\n",
       "19                   19  5.456968e-11\n",
       "20                   20  9.094947e-13"
      ]
     },
     "execution_count": 32,
     "metadata": {},
     "output_type": "execute_result"
    }
   ],
   "source": [
    "df"
   ]
  },
  {
   "cell_type": "code",
   "execution_count": 34,
   "id": "394e79e1",
   "metadata": {},
   "outputs": [
    {
     "data": {
      "text/plain": [
       "<AxesSubplot:xlabel='Number_of_successes'>"
      ]
     },
     "execution_count": 34,
     "metadata": {},
     "output_type": "execute_result"
    },
    {
     "data": {
      "image/png": "[encoded data removed]",
      "text/plain": [
       "<Figure size 640x480 with 1 Axes>"
      ]
     },
     "metadata": {},
     "output_type": "display_data"
    }
   ],
   "source": [
    "df.plot(x=\"Number_of_successes\",y=\"probability\",kind=\"bar\")"
   ]
  },
  {
   "cell_type": "code",
   "execution_count": null,
   "id": "b14d05c9",
   "metadata": {},
   "outputs": [],
   "source": []
  }
 ],
 "metadata": {
  "kernelspec": {
   "display_name": "Python 3 (ipykernel)",
   "language": "python",
   "name": "python3"
  },
  "language_info": {
   "codemirror_mode": {
    "name": "ipython",
    "version": 3
   },
   "file_extension": ".py",
   "mimetype": "text/x-python",
   "name": "python",
   "nbconvert_exporter": "python",
   "pygments_lexer": "ipython3",
   "version": "3.9.13"
  }
 },
 "nbformat": 4,
 "nbformat_minor": 5
}
